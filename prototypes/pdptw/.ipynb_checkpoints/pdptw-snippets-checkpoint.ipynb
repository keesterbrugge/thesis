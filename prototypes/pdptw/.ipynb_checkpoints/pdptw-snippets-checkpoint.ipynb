{
 "cells": [
  {
   "cell_type": "code",
   "execution_count": 1,
   "metadata": {
    "collapsed": false
   },
   "outputs": [
    {
     "data": {
      "text/html": [
       "\n",
       "        <iframe\n",
       "            width=\"1000\"\n",
       "            height=\"500\"\n",
       "            src=\"http://www.sintef.no/projectweb/top/pdptw/li-lim-benchmark/documentation/\"\n",
       "            frameborder=\"0\"\n",
       "            allowfullscreen\n",
       "        ></iframe>\n",
       "        "
      ],
      "text/plain": [
       "<IPython.lib.display.IFrame at 0x7f0e50927b10>"
      ]
     },
     "execution_count": 1,
     "metadata": {},
     "output_type": "execute_result"
    }
   ],
   "source": [
    "# Import the IPython display module\n",
    "from IPython.display import IFrame\n",
    "\n",
    "# Use the IFrame display fuction to display a certain URL\n",
    "URL_LIANDLIM_INSTANCES = 'http://www.sintef.no/projectweb/top/pdptw/li-lim-benchmark/documentation/'\n",
    "URL_LIANDLIM_SOLUTIONS = 'http://www.sintef.no/projectweb/top/pdptw/li-lim-benchmark/100-customers/'\n",
    "IFrame(URL_LIANDLIM_INSTANCES, width=1000, height=500)"
   ]
  },
  {
   "cell_type": "code",
   "execution_count": 2,
   "metadata": {
    "collapsed": false,
    "scrolled": true
   },
   "outputs": [
    {
     "data": {
      "text/plain": [
       "['lc107.txt',\n",
       " 'lc108.txt',\n",
       " 'lr111.txt',\n",
       " 'lc202.txt',\n",
       " 'lr107.txt',\n",
       " 'lr209.txt',\n",
       " 'lr110.txt',\n",
       " 'lc203.txt',\n",
       " 'lc109.txt',\n",
       " 'lrc103.txt',\n",
       " 'lr103.txt',\n",
       " 'lr208.txt',\n",
       " 'lrc206.txt',\n",
       " 'lc103.txt',\n",
       " 'lrc101.txt',\n",
       " 'lr101.txt',\n",
       " 'lr102.txt',\n",
       " 'lr201.txt',\n",
       " 'lc201.txt',\n",
       " 'lc207.txt',\n",
       " 'lrc105.txt',\n",
       " 'lc105.txt',\n",
       " 'lrc202.txt',\n",
       " 'lrc205.txt',\n",
       " 'lc101.txt',\n",
       " 'lrc108.txt',\n",
       " 'lr210.txt',\n",
       " 'lr205.txt',\n",
       " 'lr112.txt',\n",
       " 'lr204.txt',\n",
       " 'lr207.txt',\n",
       " 'lrc208.txt',\n",
       " 'lr104.txt',\n",
       " 'lrc106.txt',\n",
       " 'lr106.txt',\n",
       " 'lc205.txt',\n",
       " 'lr206.txt',\n",
       " 'lc104.txt',\n",
       " 'lr202.txt',\n",
       " 'lc206.txt',\n",
       " 'lr211.txt',\n",
       " 'lrc102.txt',\n",
       " 'lrc203.txt',\n",
       " 'lrc201.txt',\n",
       " 'lrc107.txt',\n",
       " 'lc208.txt',\n",
       " 'lc106.txt',\n",
       " 'lrc207.txt',\n",
       " 'lrc204.txt',\n",
       " 'lr105.txt',\n",
       " 'lc204.txt',\n",
       " 'lrc104.txt',\n",
       " 'lr108.txt',\n",
       " 'lr109.txt',\n",
       " 'lc102.txt',\n",
       " 'lr203.txt']"
      ]
     },
     "execution_count": 2,
     "metadata": {},
     "output_type": "execute_result"
    }
   ],
   "source": [
    "import os\n",
    "PATH_LI_LIM = \"/home/sandralaptop/kees/thesis/git_dir/prototypes/pdptw/data/pdp_100li&lim/\"\n",
    "os.listdir(PATH_LI_LIM)"
   ]
  },
  {
   "cell_type": "code",
   "execution_count": 9,
   "metadata": {
    "collapsed": false,
    "scrolled": true
   },
   "outputs": [
    {
     "ename": "PandasError",
     "evalue": "DataFrame constructor not properly called!",
     "output_type": "error",
     "traceback": [
      "\u001b[1;31m---------------------------------------------------------------------------\u001b[0m",
      "\u001b[1;31mPandasError\u001b[0m                               Traceback (most recent call last)",
      "\u001b[1;32m<ipython-input-9-8e955d93958c>\u001b[0m in \u001b[0;36m<module>\u001b[1;34m()\u001b[0m\n\u001b[0;32m      3\u001b[0m \u001b[1;32mwith\u001b[0m \u001b[0mopen\u001b[0m\u001b[1;33m(\u001b[0m\u001b[0mPATH_LI_LIM\u001b[0m\u001b[1;33m+\u001b[0m\u001b[1;34m\"lc101.txt\"\u001b[0m\u001b[1;33m)\u001b[0m \u001b[1;32mas\u001b[0m \u001b[0mf\u001b[0m\u001b[1;33m:\u001b[0m\u001b[1;33m\u001b[0m\u001b[0m\n\u001b[0;32m      4\u001b[0m     \u001b[0mls\u001b[0m \u001b[1;33m=\u001b[0m \u001b[0mf\u001b[0m\u001b[1;33m.\u001b[0m\u001b[0mread\u001b[0m\u001b[1;33m(\u001b[0m\u001b[1;33m)\u001b[0m\u001b[1;33m\u001b[0m\u001b[0m\n\u001b[1;32m----> 5\u001b[1;33m     \u001b[0mdf\u001b[0m \u001b[1;33m=\u001b[0m \u001b[0mpd\u001b[0m\u001b[1;33m.\u001b[0m\u001b[0mDataFrame\u001b[0m\u001b[1;33m(\u001b[0m\u001b[0mls\u001b[0m\u001b[1;33m)\u001b[0m\u001b[1;33m\u001b[0m\u001b[0m\n\u001b[0m\u001b[0;32m      6\u001b[0m     \u001b[1;32mprint\u001b[0m \u001b[0mdf\u001b[0m\u001b[1;33m\u001b[0m\u001b[0m\n",
      "\u001b[1;32m/home/sandralaptop/anaconda2/lib/python2.7/site-packages/pandas/core/frame.pyc\u001b[0m in \u001b[0;36m__init__\u001b[1;34m(self, data, index, columns, dtype, copy)\u001b[0m\n\u001b[0;32m    303\u001b[0m                                          copy=False)\n\u001b[0;32m    304\u001b[0m             \u001b[1;32melse\u001b[0m\u001b[1;33m:\u001b[0m\u001b[1;33m\u001b[0m\u001b[0m\n\u001b[1;32m--> 305\u001b[1;33m                 \u001b[1;32mraise\u001b[0m \u001b[0mPandasError\u001b[0m\u001b[1;33m(\u001b[0m\u001b[1;34m'DataFrame constructor not properly called!'\u001b[0m\u001b[1;33m)\u001b[0m\u001b[1;33m\u001b[0m\u001b[0m\n\u001b[0m\u001b[0;32m    306\u001b[0m \u001b[1;33m\u001b[0m\u001b[0m\n\u001b[0;32m    307\u001b[0m         \u001b[0mNDFrame\u001b[0m\u001b[1;33m.\u001b[0m\u001b[0m__init__\u001b[0m\u001b[1;33m(\u001b[0m\u001b[0mself\u001b[0m\u001b[1;33m,\u001b[0m \u001b[0mmgr\u001b[0m\u001b[1;33m,\u001b[0m \u001b[0mfastpath\u001b[0m\u001b[1;33m=\u001b[0m\u001b[0mTrue\u001b[0m\u001b[1;33m)\u001b[0m\u001b[1;33m\u001b[0m\u001b[0m\n",
      "\u001b[1;31mPandasError\u001b[0m: DataFrame constructor not properly called!"
     ]
    }
   ],
   "source": [
    "import pandas as pd\n",
    "\n",
    "with open(PATH_LI_LIM+\"lc101.txt\") as f:\n",
    "    ls = f.read()\n",
    "    df = pd.DataFrame(ls)\n",
    "    print df"
   ]
  },
  {
   "cell_type": "code",
   "execution_count": 7,
   "metadata": {
    "collapsed": false
   },
   "outputs": [
    {
     "ename": "TypeError",
     "evalue": "data argument can't be an iterator",
     "output_type": "error",
     "traceback": [
      "\u001b[1;31m---------------------------------------------------------------------------\u001b[0m",
      "\u001b[1;31mTypeError\u001b[0m                                 Traceback (most recent call last)",
      "\u001b[1;32m<ipython-input-7-920dfd003dcb>\u001b[0m in \u001b[0;36m<module>\u001b[1;34m()\u001b[0m\n\u001b[0;32m      1\u001b[0m \u001b[1;32mimport\u001b[0m \u001b[0mpandas\u001b[0m \u001b[1;32mas\u001b[0m \u001b[0mpd\u001b[0m\u001b[1;33m\u001b[0m\u001b[0m\n\u001b[1;32m----> 2\u001b[1;33m \u001b[0mdf\u001b[0m \u001b[1;33m=\u001b[0m \u001b[0mpd\u001b[0m\u001b[1;33m.\u001b[0m\u001b[0mDataFrame\u001b[0m\u001b[1;33m(\u001b[0m\u001b[0mf\u001b[0m\u001b[1;33m)\u001b[0m\u001b[1;33m\u001b[0m\u001b[0m\n\u001b[0m\u001b[0;32m      3\u001b[0m \u001b[1;32mprint\u001b[0m \u001b[0mdf\u001b[0m\u001b[1;33m\u001b[0m\u001b[0m\n",
      "\u001b[1;32m/home/sandralaptop/anaconda2/lib/python2.7/site-packages/pandas/core/frame.pyc\u001b[0m in \u001b[0;36m__init__\u001b[1;34m(self, data, index, columns, dtype, copy)\u001b[0m\n\u001b[0;32m    283\u001b[0m                 \u001b[0mmgr\u001b[0m \u001b[1;33m=\u001b[0m \u001b[0mself\u001b[0m\u001b[1;33m.\u001b[0m\u001b[0m_init_dict\u001b[0m\u001b[1;33m(\u001b[0m\u001b[1;33m{\u001b[0m\u001b[1;33m}\u001b[0m\u001b[1;33m,\u001b[0m \u001b[0mindex\u001b[0m\u001b[1;33m,\u001b[0m \u001b[0mcolumns\u001b[0m\u001b[1;33m,\u001b[0m \u001b[0mdtype\u001b[0m\u001b[1;33m=\u001b[0m\u001b[0mdtype\u001b[0m\u001b[1;33m)\u001b[0m\u001b[1;33m\u001b[0m\u001b[0m\n\u001b[0;32m    284\u001b[0m         \u001b[1;32melif\u001b[0m \u001b[0misinstance\u001b[0m\u001b[1;33m(\u001b[0m\u001b[0mdata\u001b[0m\u001b[1;33m,\u001b[0m \u001b[0mcollections\u001b[0m\u001b[1;33m.\u001b[0m\u001b[0mIterator\u001b[0m\u001b[1;33m)\u001b[0m\u001b[1;33m:\u001b[0m\u001b[1;33m\u001b[0m\u001b[0m\n\u001b[1;32m--> 285\u001b[1;33m             \u001b[1;32mraise\u001b[0m \u001b[0mTypeError\u001b[0m\u001b[1;33m(\u001b[0m\u001b[1;34m\"data argument can't be an iterator\"\u001b[0m\u001b[1;33m)\u001b[0m\u001b[1;33m\u001b[0m\u001b[0m\n\u001b[0m\u001b[0;32m    286\u001b[0m         \u001b[1;32melse\u001b[0m\u001b[1;33m:\u001b[0m\u001b[1;33m\u001b[0m\u001b[0m\n\u001b[0;32m    287\u001b[0m             \u001b[1;32mtry\u001b[0m\u001b[1;33m:\u001b[0m\u001b[1;33m\u001b[0m\u001b[0m\n",
      "\u001b[1;31mTypeError\u001b[0m: data argument can't be an iterator"
     ]
    }
   ],
   "source": [
    "import pandas as pd\n",
    "df = pd.DataFrame(f)\n",
    "print df\n"
   ]
  },
  {
   "cell_type": "code",
   "execution_count": 4,
   "metadata": {
    "collapsed": false
   },
   "outputs": [],
   "source": [
    "import ipywidgets as widgets\n",
    "from IPython.display import display\n",
    "\n",
    "#widgets\n",
    "input_widget_cus = widgets.IntText(description = 'number of customers:', value=5)\n",
    "input_widget_veh = widgets.IntText(description = 'number of vehicles:', value=3)\n",
    "\n",
    "#style\n",
    "input_widget_container = widgets.Box(children=[input_widget_cus, input_widget_veh])\n",
    "display(input_widget_container)\n",
    "\n",
    "NUMBER_OF_CUSTOMER = 0\n",
    "NUMBER_OF_VEHICLES = 0\n"
   ]
  },
  {
   "cell_type": "code",
   "execution_count": 5,
   "metadata": {
    "collapsed": false
   },
   "outputs": [],
   "source": [
    "# create button that stores values from box into global var\n",
    "button = widgets.Button(description=\"set input values\")\n",
    "display(button)\n",
    "\n",
    "def on_button_clicked(b):\n",
    "    #make vars global, necessary this case\n",
    "    global NUMBER_OF_CUSTOMER, NUMBER_OF_VEHICLES\n",
    "    if input_widget_cus.value != NUMBER_OF_CUSTOMER or input_widget_veh.value != NUMBER_OF_VEHICLES:\n",
    "        NUMBER_OF_CUSTOMER = input_widget_cus.value\n",
    "        NUMBER_OF_VEHICLES = input_widget_veh.value\n",
    "        print 'number of customers = ' + str(NUMBER_OF_CUSTOMER) + ', number of vehicles = ' + str(NUMBER_OF_VEHICLES) \n",
    "\n",
    "button.on_click(on_button_clicked)"
   ]
  },
  {
   "cell_type": "code",
   "execution_count": 44,
   "metadata": {
    "collapsed": false,
    "scrolled": true
   },
   "outputs": [
    {
     "name": "stdout",
     "output_type": "stream",
     "text": [
      "{'a': array([-0.37945805,  0.40182156]), 'c': array([0, 0]), 'b': array([-0.57049825,  0.99118926]), 'e': array([ 0.09671371, -0.40594955]), 'd': array([-0.6261533 , -0.33554476]), 'f': array([ 1.        , -0.42694946])}\n"
     ]
    },
    {
     "data": {
      "image/png": "[encoded data removed]",
      "text/plain": [
       "<matplotlib.figure.Figure at 0x7fc3c561d590>"
      ]
     },
     "metadata": {},
     "output_type": "display_data"
    }
   ],
   "source": [
    "import matplotlib.pyplot as plt\n",
    "%matplotlib inline\n",
    "import networkx as nx\n",
    "\n",
    "G=nx.Graph()\n",
    "\n",
    "G.add_edge('a','b',weight=0.6)\n",
    "G.add_edge('a','c',weight=0.2)\n",
    "G.add_edge('c','d',weight=0.1)\n",
    "G.add_edge('c','e',weight=0.7)\n",
    "G.add_edge('c','f',weight=0.9)\n",
    "G.add_edge('a','d',weight=0.3)\n",
    "\n",
    "elarge=[(u,v) for (u,v,d) in G.edges(data=True) if d['weight'] >0.5]\n",
    "esmall=[(u,v) for (u,v,d) in G.edges(data=True) if d['weight'] <=0.5]\n",
    "\n",
    "pos=nx.spring_layout(G) # positions for all nodes\n",
    "pos['c'] = np.array([0,0])\n",
    "print pos\n",
    "# nodes \n",
    "nx.draw_networkx_nodes(G,pos,node_size=700) #KEESEDIT change pos for other position\n",
    "\n",
    "# edges\n",
    "nx.draw_networkx_edges(G,pos,edgelist=elarge, width=6)\n",
    "nx.draw_networkx_edges(G,pos,edgelist=esmall,\n",
    "                    width=6,alpha=0.5,edge_color='b',style='dashed')\n",
    "\n",
    "# labels\n",
    "nx.draw_networkx_labels(G,pos,font_size=20,font_family='sans-serif')\n",
    "\n",
    "# plt.axis('off')\n",
    "# plt.savefig(\"weighted_graph.png\") # save as png\n",
    "plt.show() # display"
   ]
  },
  {
   "cell_type": "code",
   "execution_count": null,
   "metadata": {
    "collapsed": true
   },
   "outputs": [],
   "source": [
    "from bokeh.plotting import figure, ColumnDataSource\n",
    "from bokeh.models import HoverTool\n",
    "\n",
    "\n",
    "def scatter_with_hover(df, x, y,\n",
    "                       fig=None, cols=None, name=None, marker='x',\n",
    "                       fig_width=500, fig_height=500, **kwargs):\n",
    "    \"\"\"\n",
    "    Plots an interactive scatter plot of `x` vs `y` using bokeh, with automatic\n",
    "    tooltips showing columns from `df`.\n",
    "    Parameters\n",
    "    ----------\n",
    "    df : pandas.DataFrame\n",
    "        DataFrame containing the data to be plotted\n",
    "    x : str\n",
    "        Name of the column to use for the x-axis values\n",
    "    y : str\n",
    "        Name of the column to use for the y-axis values\n",
    "    fig : bokeh.plotting.Figure, optional\n",
    "        Figure on which to plot (if not given then a new figure will be created)\n",
    "    cols : list of str\n",
    "        Columns to show in the hover tooltip (default is to show all)\n",
    "    name : str\n",
    "        Bokeh series name to give to the scattered data\n",
    "    marker : str\n",
    "        Name of marker to use for scatter plot\n",
    "    **kwargs\n",
    "        Any further arguments to be passed to fig.scatter\n",
    "    Returns\n",
    "    -------\n",
    "    bokeh.plotting.Figure\n",
    "        Figure (the same as given, or the newly created figure)\n",
    "    Example\n",
    "    -------\n",
    "    fig = scatter_with_hover(df, 'A', 'B')\n",
    "    show(fig)\n",
    "    fig = scatter_with_hover(df, 'A', 'B', cols=['C', 'D', 'E'], marker='x', color='red')\n",
    "    show(fig)\n",
    "    Author\n",
    "    ------\n",
    "    Robin Wilson <robin@rtwilson.com>\n",
    "    with thanks to Max Albert for original code example\n",
    "    \"\"\"\n",
    "\n",
    "    # If we haven't been given a Figure obj then create it with default\n",
    "    # size etc.\n",
    "    if fig is None:\n",
    "        fig = figure(width=fig_width, height=fig_height, tools=['box_zoom', 'reset'])\n",
    "\n",
    "    # We're getting data from the given dataframe\n",
    "    source = ColumnDataSource(data=df)\n",
    "\n",
    "    # We need a name so that we can restrict hover tools to just this\n",
    "    # particular 'series' on the plot. You can specify it (in case it\n",
    "    # needs to be something specific for other reasons), otherwise\n",
    "    # we just use 'main'\n",
    "    if name is None:\n",
    "        name = 'main'\n",
    "\n",
    "    # Actually do the scatter plot - the easy bit\n",
    "    # (other keyword arguments will be passed to this function)\n",
    "    fig.scatter(df[x], df[y], source=source, name=name, marker=marker, **kwargs)\n",
    "\n",
    "    # Now we create the hover tool, and make sure it is only active with\n",
    "    # the series we plotted in the previous line\n",
    "    hover = HoverTool(names=[name])\n",
    "\n",
    "    if cols is None:\n",
    "        # Display *all* columns in the tooltips\n",
    "        hover.tooltips = [(c, '@' + c) for c in df.columns]\n",
    "    else:\n",
    "        # Display just the given columns in the tooltips\n",
    "        hover.tooltips = [(c, '@' + c) for c in cols]\n",
    "\n",
    "    hover.tooltips.append(('index', '$index'))\n",
    "\n",
    "    # Finally add/enable the tool\n",
    "    fig.add_tools(hover)\n",
    "\n",
    "    return fig"
   ]
  },
  {
   "cell_type": "markdown",
   "metadata": {},
   "source": [
    "## NetworkX\n",
    "\n",
    "- request pickup location and delivery location as nodes on graph \n",
    "- truck start point and  end point as nodes on graph.\n",
    "- to check solution turn solution to edges on graph.\n",
    "\n",
    "Store route as list of nodes. to check properties of routes and solutions create edges on graph and use networkx tools.. why not as edges? ANSWER because if an edge is removed from a route other edges have to be changed as well for it to remain a route. So only transfrom list of nodes to edges at end of iteration to check properties. \n",
    "\n",
    "### use \n",
    "don't use networkx to store solution. Only to check solution. Also don't use pandas to store solutions. \n",
    "\n",
    "### code snippet for filtering nodes based on attributes\n",
    "To create an induced subgraph with nodes selected by some test, you  \n",
    "can use:\n",
    "\n",
    "SG=G.subgraph( [n for n,attrdict in G.node.items() if attrdict \n",
    "['type'] == 'X' ] )\n",
    "\n",
    "Similarly, you can create a subgraph containing only certain edges like:\n",
    "\n",
    "SG=networkx.Graph( [ (u,v,d) for u,v,d in G.edges(data=True) if d \n",
    "['weight']>cutoff] )\n",
    "\n"
   ]
  },
  {
   "cell_type": "code",
   "execution_count": null,
   "metadata": {
    "collapsed": true
   },
   "outputs": [],
   "source": []
  },
  {
   "cell_type": "code",
   "execution_count": 23,
   "metadata": {
    "code_folding": [
     3,
     15
    ],
    "collapsed": false,
    "scrolled": true
   },
   "outputs": [],
   "source": [
    "import networkx as nx\n",
    "import numpy as np\n",
    "\n",
    "def df_requests_to_G(df_requests):\n",
    "    df_dict = df_requests.to_dict('split')\n",
    "    G = nx.Graph()\n",
    "    pos = {}\n",
    "    for i in df_dict['index']:\n",
    "        G.add_node(i, dict(zip(df_dict['columns'], df_dict['data'][i])))\n",
    "        pos[i] = np.array([df_dict['data'][i][1],df_dict['data'][i][2]]) \n",
    "    G.graph['coordinates']=pos\n",
    "    return G\n",
    "G_requests = df_requests_to_G(df_requests)\n",
    "\n",
    "#even though start pos and end pos trucks is same, make 2 separate nodes\n",
    "def df_trucks_to_G(df_trucks):\n",
    "    \n",
    "    df_dict = df_trucks.to_dict('split')\n",
    "    G = nx.Graph()\n",
    "    pos = {}\n",
    "    n_request_nodes = 2*params['NUMBER_OF_REQUESTS']    \n",
    "    \n",
    "    for truck_i in df_dict['index']:\n",
    "        node_id_start =+ n_request_nodes+2*truck_i\n",
    "        node_id_end =+ n_request_nodes+2*truck_i+1\n",
    "    \n",
    "        #start node truck_i\n",
    "        G.add_node(node_id_start, dict(zip(df_dict['columns'], df_dict['data'][truck_i])))\n",
    "        pos[node_id_start] = np.array([df_dict['data'][truck_i][1],df_dict['data'][truck_i][2]]) \n",
    "        \n",
    "        #end node truck_i\n",
    "        G.add_node(node_id_end, dict(zip(df_dict['columns'], df_dict['data'][truck_i])))\n",
    "        pos[node_id_end] = np.array([df_dict['data'][truck_i][3],df_dict['data'][truck_i][4]])         \n",
    "        \n",
    "    G.graph['coordinates']=pos\n",
    "    return G\n",
    "\n",
    "G_requests = df_requests_to_G(df_requests)\n",
    "G_trucks = df_trucks_to_G(df_trucks)\n"
   ]
  },
  {
   "cell_type": "markdown",
   "metadata": {},
   "source": [
    "## plot\n",
    "### draw_networkx"
   ]
  },
  {
   "cell_type": "code",
   "execution_count": 9,
   "metadata": {
    "code_folding": [
     3,
     15
    ],
    "collapsed": false,
    "scrolled": false
   },
   "outputs": [],
   "source": [
    "%matplotlib inline\n",
    "import matplotlib.pyplot as plt\n",
    "# nx.draw_networkx(G_requests,G_requests.graph['coordinates'])"
   ]
  },
  {
   "cell_type": "markdown",
   "metadata": {},
   "source": [
    "## snelheid van Dask.array SICK"
   ]
  },
  {
   "cell_type": "code",
   "execution_count": 2,
   "metadata": {
    "collapsed": false
   },
   "outputs": [
    {
     "name": "stdout",
     "output_type": "stream",
     "text": [
      "The slowest run took 4.71 times longer than the fastest. This could mean that an intermediate result is being cached \n",
      "1 loops, best of 3: 1.01 s per loop\n",
      "CPU times: user 203 ms, sys: 115 ms, total: 318 ms\n",
      "Wall time: 442 ms\n",
      "1 loops, best of 3: 583 ms per loop\n",
      "1 loops, best of 3: 302 ms per loop\n"
     ]
    }
   ],
   "source": [
    "import numpy as np\n",
    "import dask.array as da\n",
    "\n",
    "# Benchmark: NumPy with array construction included\n",
    "%timeit nparr0 = np.random.random(size=(10000, 1000)); \\\n",
    "        nparr1 = np.random.random(size=(10000, 1000)); \\\n",
    "        np.sqrt((nparr0 - nparr1) ** 2 + (nparr0 - nparr1) ** 2 + (nparr0 - nparr1) ** 2)\n",
    "# Benchmark: Dask with dask.array construction included\n",
    "%time x1 = da.random.random(size=(10000, 1000), chunks=(10000, 1000)); \\\n",
    "        y1 = da.random.random(size=(10000, 1000), chunks=(10000, 1000)); \\\n",
    "        (da.sqrt((x - y) ** 2 + (x - y) ** 2 + (x - y) ** 2)).compute()\n",
    "\n",
    "\n",
    "# Benchmark (unfair): compute using existing NumPy arrays\n",
    "nparr0 = np.random.random(size=(10000, 1000))\n",
    "nparr1 = np.random.random(size=(10000, 1000))\n",
    "%timeit np.sqrt((nparr0 - nparr1) ** 2 + (nparr0 - nparr1) ** 2 + (nparr0 - nparr1) ** 2)\n",
    "\n",
    "# Benchmark: dask.from_array() from NumPy arrays\n",
    "x = da.from_array(nparr0, chunks=(10000, 1000))#.compute()\n",
    "y = da.from_array(nparr1, chunks=(10000, 1000))#.compute()\n",
    "%timeit (da.sqrt((x - y) ** 2 + (x - y) ** 2 + (x - y) ** 2)).compute()"
   ]
  },
  {
   "cell_type": "markdown",
   "metadata": {},
   "source": [
    "## slimme manier om instance te importeren"
   ]
  },
  {
   "cell_type": "code",
   "execution_count": null,
   "metadata": {
    "collapsed": true
   },
   "outputs": [],
   "source": [
    "import pandas as pd\n",
    "df1= pd.read_table(\"data/PDPTWInstancesRopke/prob50A.txt\",\n",
    "              header=None, skiprows=1)"
   ]
  },
  {
   "cell_type": "code",
   "execution_count": null,
   "metadata": {
    "collapsed": true
   },
   "outputs": [],
   "source": []
  },
  {
   "cell_type": "code",
   "execution_count": null,
   "metadata": {
    "collapsed": true
   },
   "outputs": [],
   "source": []
  }
 ],
 "metadata": {
  "kernelspec": {
   "display_name": "Python 2",
   "language": "python",
   "name": "python2"
  },
  "language_info": {
   "codemirror_mode": {
    "name": "ipython",
    "version": 2
   },
   "file_extension": ".py",
   "mimetype": "text/x-python",
   "name": "python",
   "nbconvert_exporter": "python",
   "pygments_lexer": "ipython2",
   "version": "2.7.11"
  }
 },
 "nbformat": 4,
 "nbformat_minor": 0
}
