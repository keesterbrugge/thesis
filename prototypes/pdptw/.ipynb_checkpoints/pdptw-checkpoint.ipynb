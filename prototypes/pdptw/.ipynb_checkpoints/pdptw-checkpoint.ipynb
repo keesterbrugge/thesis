{
 "cells": [
  {
   "cell_type": "markdown",
   "metadata": {
    "code_folding": [
     0
    ]
   },
   "source": [
    "# Kees thesis prototype\n",
    "## implementing An Adaptive Large Neighborhood Search Heuristic for the Pickup and Delivery Problem with Time Windows \n",
    "source: [Stefan Ropke, David Pisinger, 2005](http://orbit.dtu.dk/fedora/objects/orbit:8676/datastreams/file_3154899/content)\n",
    "\n"
   ]
  },
  {
   "cell_type": "markdown",
   "metadata": {},
   "source": [
    "## import test data ropke and pisinger used\n"
   ]
  },
  {
   "cell_type": "markdown",
   "metadata": {},
   "source": [
    "### select test instance"
   ]
  },
  {
   "cell_type": "code",
   "execution_count": 1,
   "metadata": {
    "collapsed": false
   },
   "outputs": [],
   "source": [
    "import os\n",
    "PATH_INSTANCES = \"/home/sandralaptop/kees/thesis/git_dir/prototypes/pdptw/data/PDPTWInstancesRopke/\"\n",
    "list_files = os.listdir(PATH_INSTANCES)\n",
    "list_instances = []\n",
    "INSTANCE_PREFIX = 'prob'\n",
    "for filename in list_files:\n",
    "    if filename[0:4] == INSTANCE_PREFIX:\n",
    "        list_instances.append(filename)\n",
    "list_instances.sort()"
   ]
  },
  {
   "cell_type": "code",
   "execution_count": 2,
   "metadata": {
    "collapsed": false,
    "scrolled": true
   },
   "outputs": [],
   "source": [
    "import ipywidgets as widgets\n",
    "from IPython.display import display\n",
    "widget_filepicker = widgets.Dropdown(\n",
    "    options=list_instances,\n",
    "    value='prob50A.txt',\n",
    "    description='file')\n",
    "display(widget_filepicker)"
   ]
  },
  {
   "cell_type": "markdown",
   "metadata": {},
   "source": [
    "## transform raw file\n",
    "I read the txt file first to differnt lists.\n",
    "Then transform the lists to pandas dataframes and in servicable case to dictionary\n",
    "\n",
    "\n",
    "LESSON!\n",
    "\n",
    "    df1= pd.read_table(\"data/PDPTWInstancesRopke/prob50A.txt\",\n",
    "              header=None, skiprows=1)"
   ]
  },
  {
   "cell_type": "code",
   "execution_count": 3,
   "metadata": {
    "code_folding": [
     1
    ],
    "collapsed": false
   },
   "outputs": [],
   "source": [
    "PATH_TO_INSTANCE = PATH_INSTANCES+widget_filepicker.value\n",
    "import pandas as pd\n",
    "\n",
    "def read_args(intlist):\n",
    "    list_parameter_keys = ['NUMBER_OF_REQUESTS',\n",
    "                      'MAX_NUMBER_VEHICLES',\n",
    "                      'ALPHA',\n",
    "                      'BETA',\n",
    "                      'GAMMA']\n",
    "    params = dict(zip(list_parameter_keys, intlist)) \n",
    "    return params\n",
    "\n",
    "def rawfile_to_lists(rawfile):    \n",
    "    listdf_requests = []\n",
    "    listdf_trucks = []\n",
    "    list_servable_by = []\n",
    "    for i, line in enumerate(rawfile):\n",
    "        list_ints = [int(txt) for txt in line.split(\"\\t\")]\n",
    "\n",
    "        if i == 0:\n",
    "\n",
    "            params = read_args(list_ints)\n",
    "\n",
    "        elif i <= 2*params['NUMBER_OF_REQUESTS']:\n",
    "\n",
    "            listdf_requests.append(list_ints[:10])\n",
    "\n",
    "            list_servable_by.append(list_ints[9:])\n",
    "        else:\n",
    "            listdf_trucks.append(list_ints)\n",
    "\n",
    "    return params, listdf_requests, listdf_trucks, list_servable_by\n",
    "\n",
    "def list_to_df_requests(listdf_requests):\n",
    "    cols = ['node id','x coordinate', 'y coordinate', 'demand', \n",
    "        'time window start','time window end','service time',\n",
    "        'predecessor node id', 'successor node id', \n",
    "        'pickup by all']\n",
    "\n",
    "    df_requests = pd.DataFrame(listdf_requests)\n",
    "    df_requests.columns = cols    \n",
    "    #\n",
    "    #add column for functionality and plotting\n",
    "    #\n",
    "    df_requests.loc[(df_requests['pickup by all'] > 0), ['pickup by all']] = 'no'\n",
    "    df_requests.loc[(df_requests['pickup by all'] == -1), ['pickup by all']] = 'yes'\n",
    "    df_requests.loc[(df_requests['demand'] < 0), ['pickup by all']] = 'delivery'\n",
    "\n",
    "    return df_requests\n",
    "\n",
    "def list_to_df_trucks(listdf_trucks):\n",
    "    cols = ['vehicle id', 'start terminal x coordinate', \n",
    "        'start terminal y coordinate', 'end terminal x coordinate', \n",
    "        'end terminal y coordinate', 'vehicle capacity', \n",
    "        'vehicle start time', 'vehicle end time' ]\n",
    "\n",
    "    df_trucks = pd.DataFrame(listdf_trucks)\n",
    "    df_trucks.columns = cols\n",
    "    return df_trucks\n",
    "\n",
    "def transform_list_servicable_to_dict(list_servable_by):\n",
    "    #key is request, value is list of all trucks that can service request\n",
    "    dict_servicable = {}\n",
    "    for index, item in enumerate(list_servable_by):\n",
    "        if item and item != [-1]:\n",
    "            dict_servicable[index] = item\n",
    "    return dict_servicable\n",
    "\n",
    "def file_transform(path):\n",
    "    with open(path) as rawfile:\n",
    "        params, listdf_requests, listdf_trucks, list_servable_by = rawfile_to_lists(rawfile)\n",
    "        \n",
    "        df_requests = list_to_df_requests(listdf_requests)\n",
    "        df_trucks = list_to_df_trucks(listdf_trucks)\n",
    "        dict_servicable = transform_list_servicable_to_dict(list_servable_by)\n",
    "        return params, df_requests, df_trucks, dict_servicable \n",
    "\n",
    "params, df_requests, df_trucks, dict_servicable = file_transform(PATH_TO_INSTANCE)\n",
    "\n"
   ]
  },
  {
   "cell_type": "markdown",
   "metadata": {},
   "source": [
    "## optionally use toy version of instance\n",
    "fist copy original"
   ]
  },
  {
   "cell_type": "code",
   "execution_count": 4,
   "metadata": {
    "collapsed": true
   },
   "outputs": [],
   "source": [
    "import copy\n",
    "params_orig = copy.deepcopy(params)\n",
    "df_requests_orig = copy.deepcopy(df_requests)\n",
    "df_trucks_orig = copy.deepcopy(df_trucks)\n",
    "dict_servicable_orig = copy.deepcopy(dict_servicable)"
   ]
  },
  {
   "cell_type": "markdown",
   "metadata": {},
   "source": [
    "choose size to transform instance into"
   ]
  },
  {
   "cell_type": "code",
   "execution_count": 5,
   "metadata": {
    "code_folding": [
     50,
     60,
     68
    ],
    "collapsed": false
   },
   "outputs": [
    {
     "name": "stdout",
     "output_type": "stream",
     "text": [
      "(NUMBER_OF_REQUESTS = 5 , MAX_NUMBER_VEHICLES = 2)\n"
     ]
    }
   ],
   "source": [
    "from ipywidgets import interact, interactive, fixed \n",
    "from IPython.display import display\n",
    "import ipywidgets as widgets\n",
    "\n",
    "def handler(NUMBER_OF_REQUESTS,MAX_NUMBER_VEHICLES):\n",
    "    print '(NUMBER_OF_REQUESTS = %i , MAX_NUMBER_VEHICLES = %i)' %  (NUMBER_OF_REQUESTS,MAX_NUMBER_VEHICLES) \n",
    "\n",
    "def toy_instance_widget():\n",
    "    \n",
    "    widget_NUMBER_OF_REQUESTS =widgets.IntSlider(\n",
    "        min=1,\n",
    "        max=params_orig['NUMBER_OF_REQUESTS'],\n",
    "        step=1,\n",
    "        value=5\n",
    "        );\n",
    "\n",
    "    widget_MAX_NUMBER_VEHICLES =widgets.IntSlider(\n",
    "        min=1,\n",
    "        max=params_orig['MAX_NUMBER_VEHICLES'],\n",
    "        step=1,\n",
    "        value=2\n",
    "        );\n",
    "\n",
    "    widget_input = interactive(handler, \n",
    "                    NUMBER_OF_REQUESTS=widget_NUMBER_OF_REQUESTS, \n",
    "                    MAX_NUMBER_VEHICLES=widget_MAX_NUMBER_VEHICLES)\n",
    "\n",
    "    return widget_input\n",
    "\n",
    "widget_input_toy = toy_instance_widget()\n",
    "display(widget_input_toy)\n"
   ]
  },
  {
   "cell_type": "markdown",
   "metadata": {},
   "source": [
    "# Reset instance size\n",
    "## dataframes to toy instance"
   ]
  },
  {
   "cell_type": "code",
   "execution_count": 6,
   "metadata": {
    "code_folding": [
     4,
     7
    ],
    "collapsed": false
   },
   "outputs": [],
   "source": [
    "params.update(widget_input_toy.kwargs)\n",
    "df_requests = df_requests_orig.loc[range(2*params['NUMBER_OF_REQUESTS'])]\n",
    "df_trucks = df_trucks_orig.loc[range(params['MAX_NUMBER_VEHICLES'])]\n",
    "\n",
    "dict_servicable = {}\n",
    "for key in dict_servicable_orig.keys():\n",
    "    if key<2*params['NUMBER_OF_REQUESTS']:\n",
    "        dict_servicable[key] = dict_servicable_orig[key]"
   ]
  },
  {
   "cell_type": "markdown",
   "metadata": {
    "code_folding": [
     3
    ]
   },
   "source": [
    "### bokeh"
   ]
  },
  {
   "cell_type": "code",
   "execution_count": 7,
   "metadata": {
    "code_folding": [
     5
    ],
    "collapsed": false
   },
   "outputs": [
    {
     "data": {
      "text/html": [
       "\n",
       "\n",
       "    <script type=\"text/javascript\">\n",
       "      \n",
       "      (function(global) {\n",
       "        function now() {\n",
       "          return new Date();\n",
       "        }\n",
       "      \n",
       "        if (typeof (window._bokeh_onload_callbacks) === \"undefined\") {\n",
       "          window._bokeh_onload_callbacks = [];\n",
       "        }\n",
       "      \n",
       "        function run_callbacks() {\n",
       "          window._bokeh_onload_callbacks.forEach(function(callback) { callback() });\n",
       "          delete window._bokeh_onload_callbacks\n",
       "          console.info(\"Bokeh: all callbacks have finished\");\n",
       "        }\n",
       "      \n",
       "        function load_libs(js_urls, callback) {\n",
       "          window._bokeh_onload_callbacks.push(callback);\n",
       "          if (window._bokeh_is_loading > 0) {\n",
       "            console.log(\"Bokeh: BokehJS is being loaded, scheduling callback at\", now());\n",
       "            return null;\n",
       "          }\n",
       "          if (js_urls == null || js_urls.length === 0) {\n",
       "            run_callbacks();\n",
       "            return null;\n",
       "          }\n",
       "          console.log(\"Bokeh: BokehJS not loaded, scheduling load and callback at\", now());\n",
       "          window._bokeh_is_loading = js_urls.length;\n",
       "          for (var i = 0; i < js_urls.length; i++) {\n",
       "            var url = js_urls[i];\n",
       "            var s = document.createElement('script');\n",
       "            s.src = url;\n",
       "            s.async = false;\n",
       "            s.onreadystatechange = s.onload = function() {\n",
       "              window._bokeh_is_loading--;\n",
       "              if (window._bokeh_is_loading === 0) {\n",
       "                console.log(\"Bokeh: all BokehJS libraries loaded\");\n",
       "                run_callbacks()\n",
       "              }\n",
       "            };\n",
       "            s.onerror = function() {\n",
       "              console.warn(\"failed to load library \" + url);\n",
       "            };\n",
       "            console.log(\"Bokeh: injecting script tag for BokehJS library: \", url);\n",
       "            document.getElementsByTagName(\"head\")[0].appendChild(s);\n",
       "          }\n",
       "        };var js_urls = ['https://cdn.pydata.org/bokeh/release/bokeh-0.11.0.min.js', 'https://cdn.pydata.org/bokeh/release/bokeh-widgets-0.11.0.min.js', 'https://cdn.pydata.org/bokeh/release/bokeh-compiler-0.11.0.min.js'];\n",
       "      \n",
       "        var inline_js = [\n",
       "          function(Bokeh) {\n",
       "            Bokeh.set_log_level(\"info\");\n",
       "          },\n",
       "          function(Bokeh) {\n",
       "            console.log(\"Bokeh: injecting CSS: https://cdn.pydata.org/bokeh/release/bokeh-0.11.0.min.css\");\n",
       "            Bokeh.embed.inject_css(\"https://cdn.pydata.org/bokeh/release/bokeh-0.11.0.min.css\");\n",
       "            console.log(\"Bokeh: injecting CSS: https://cdn.pydata.org/bokeh/release/bokeh-widgets-0.11.0.min.css\");\n",
       "            Bokeh.embed.inject_css(\"https://cdn.pydata.org/bokeh/release/bokeh-widgets-0.11.0.min.css\");\n",
       "          }\n",
       "        ];\n",
       "      \n",
       "        function run_inline_js() {\n",
       "          for (var i = 0; i < inline_js.length; i++) {\n",
       "            inline_js[i](window.Bokeh);\n",
       "          }\n",
       "        }\n",
       "      \n",
       "        if (window._bokeh_is_loading === 0) {\n",
       "          console.log(\"Bokeh: BokehJS loaded, going straight to plotting\");\n",
       "          run_inline_js();\n",
       "        } else {\n",
       "          load_libs(js_urls, function() {\n",
       "            console.log(\"Bokeh: BokehJS plotting callback run at\", now());\n",
       "            run_inline_js();\n",
       "          });\n",
       "        }\n",
       "      }(this));\n",
       "    </script>\n",
       "    <div>\n",
       "        <a href=\"http://bokeh.pydata.org\" target=\"_blank\" class=\"bk-logo bk-logo-small bk-logo-notebook\"></a>\n",
       "        <span>BokehJS successfully loaded.</span>\n",
       "    </div>"
      ]
     },
     "metadata": {},
     "output_type": "display_data"
    },
    {
     "data": {
      "text/html": [
       "\n",
       "\n",
       "    <div class=\"plotdiv\" id=\"8302ce1b-b816-4f5d-9a63-022812ab54cd\"></div>\n",
       "<script type=\"text/javascript\">\n",
       "  \n",
       "  (function(global) {\n",
       "    function now() {\n",
       "      return new Date();\n",
       "    }\n",
       "  \n",
       "    if (typeof (window._bokeh_onload_callbacks) === \"undefined\") {\n",
       "      window._bokeh_onload_callbacks = [];\n",
       "    }\n",
       "  \n",
       "    function run_callbacks() {\n",
       "      window._bokeh_onload_callbacks.forEach(function(callback) { callback() });\n",
       "      delete window._bokeh_onload_callbacks\n",
       "      console.info(\"Bokeh: all callbacks have finished\");\n",
       "    }\n",
       "  \n",
       "    function load_libs(js_urls, callback) {\n",
       "      window._bokeh_onload_callbacks.push(callback);\n",
       "      if (window._bokeh_is_loading > 0) {\n",
       "        console.log(\"Bokeh: BokehJS is being loaded, scheduling callback at\", now());\n",
       "        return null;\n",
       "      }\n",
       "      if (js_urls == null || js_urls.length === 0) {\n",
       "        run_callbacks();\n",
       "        return null;\n",
       "      }\n",
       "      console.log(\"Bokeh: BokehJS not loaded, scheduling load and callback at\", now());\n",
       "      window._bokeh_is_loading = js_urls.length;\n",
       "      for (var i = 0; i < js_urls.length; i++) {\n",
       "        var url = js_urls[i];\n",
       "        var s = document.createElement('script');\n",
       "        s.src = url;\n",
       "        s.async = false;\n",
       "        s.onreadystatechange = s.onload = function() {\n",
       "          window._bokeh_is_loading--;\n",
       "          if (window._bokeh_is_loading === 0) {\n",
       "            console.log(\"Bokeh: all BokehJS libraries loaded\");\n",
       "            run_callbacks()\n",
       "          }\n",
       "        };\n",
       "        s.onerror = function() {\n",
       "          console.warn(\"failed to load library \" + url);\n",
       "        };\n",
       "        console.log(\"Bokeh: injecting script tag for BokehJS library: \", url);\n",
       "        document.getElementsByTagName(\"head\")[0].appendChild(s);\n",
       "      }\n",
       "    };var element = document.getElementById(\"8302ce1b-b816-4f5d-9a63-022812ab54cd\");\n",
       "    if (element == null) {\n",
       "      console.log(\"Bokeh: ERROR: autoload.js configured with elementid '8302ce1b-b816-4f5d-9a63-022812ab54cd' but no matching script tag was found. \")\n",
       "      return false;\n",
       "    }var js_urls = [];\n",
       "  \n",
       "    var inline_js = [\n",
       "      function(Bokeh) {\n",
       "        Bokeh.$(function() {\n",
       "            var docs_json = {\"610ae0e1-9440-47f4-9b3e-10623c416a4d\": {\"version\": \"0.11.0\", \"roots\": {\"root_ids\": [\"5a245dbd-4c29-44a9-8941-820af69e8cb7\"], \"references\": [{\"attributes\": {}, \"type\": \"BasicTickFormatter\", \"id\": \"45ff83fc-dd06-4147-8040-95e43b6b3d29\"}, {\"attributes\": {\"callback\": null, \"renderers\": [{\"type\": \"GlyphRenderer\", \"id\": \"7f2a43c3-b9a8-4b63-99ad-ef5f123bd683\"}, {\"type\": \"GlyphRenderer\", \"id\": \"e3255e2c-4d8d-4c50-830f-0f436bbb539b\"}, {\"type\": \"GlyphRenderer\", \"id\": \"db7fd6fa-403f-49c6-af61-509ca1899608\"}, {\"type\": \"GlyphRenderer\", \"id\": \"aea5f3e3-433c-4cd5-aa27-aaaccb253f89\"}, {\"type\": \"GlyphRenderer\", \"id\": \"f46fbde9-b764-4931-bc38-c228a6eddedc\"}], \"plot\": {\"subtype\": \"Figure\", \"type\": \"Plot\", \"id\": \"5a245dbd-4c29-44a9-8941-820af69e8cb7\"}, \"overlay\": {\"type\": \"BoxAnnotation\", \"id\": \"1138fc75-54bd-474c-a0b4-3e3128a77ccd\"}}, \"type\": \"BoxSelectTool\", \"id\": \"4b9d7868-8276-4865-8f4f-b2e16ab168db\"}, {\"attributes\": {\"plot\": {\"subtype\": \"Figure\", \"type\": \"Plot\", \"id\": \"5a245dbd-4c29-44a9-8941-820af69e8cb7\"}}, \"type\": \"ResizeTool\", \"id\": \"eb7eb434-3e1c-4dd0-a385-8782faeddd99\"}, {\"attributes\": {\"callback\": null, \"column_names\": [\"index\", \"node id\", \"time window end\", \"predecessor node id\", \"time window start\", \"service time\", \"pickup by all\", \"y coordinate\", \"x coordinate\", \"demand\", \"successor node id\"], \"data\": {\"index\": [1, 3, 5, 7, 9], \"node id\": [1, 3, 5, 7, 9], \"time window end\": [4283, 2702, 3672, 4426, 4419], \"predecessor node id\": [0, 2, 4, 6, 8], \"successor node id\": [-1, -1, -1, -1, -1], \"y coordinate\": [194, 631, 516, 291, 445], \"service time\": [153, 183, 167, 199, 235], \"pickup by all\": [\"delivery\", \"delivery\", \"delivery\", \"delivery\", \"delivery\"], \"time window start\": [3537, 1453, 2733, 3631, 3905], \"x coordinate\": [755, 107, 505, 858, 765], \"demand\": [-15, -12, -12, -12, -7]}}, \"type\": \"ColumnDataSource\", \"id\": \"26d67e3a-60b4-4782-83e4-46fa93c0b911\"}, {\"attributes\": {\"x_range\": {\"type\": \"DataRange1d\", \"id\": \"cc0851d7-4fac-456e-9f3e-c00194546cfa\"}, \"title\": \"landscape\", \"y_range\": {\"type\": \"DataRange1d\", \"id\": \"94c09c2e-2158-4b50-ad2c-322f503e5312\"}, \"renderers\": [{\"type\": \"LinearAxis\", \"id\": \"ce2e955c-68b2-45fb-8ee5-3c9553a89546\"}, {\"type\": \"Grid\", \"id\": \"7aa8f5af-14fb-489e-9ba1-6528794a0d57\"}, {\"type\": \"LinearAxis\", \"id\": \"16e41d62-b6de-45c8-ad26-31fab5e2dd93\"}, {\"type\": \"Grid\", \"id\": \"06e6068c-977a-4629-b913-011ebe02c891\"}, {\"type\": \"BoxAnnotation\", \"id\": \"1138fc75-54bd-474c-a0b4-3e3128a77ccd\"}, {\"type\": \"Legend\", \"id\": \"e81aab50-a160-47fd-912d-308103c363c5\"}, {\"type\": \"GlyphRenderer\", \"id\": \"7f2a43c3-b9a8-4b63-99ad-ef5f123bd683\"}, {\"type\": \"GlyphRenderer\", \"id\": \"e3255e2c-4d8d-4c50-830f-0f436bbb539b\"}, {\"type\": \"GlyphRenderer\", \"id\": \"db7fd6fa-403f-49c6-af61-509ca1899608\"}, {\"type\": \"GlyphRenderer\", \"id\": \"aea5f3e3-433c-4cd5-aa27-aaaccb253f89\"}, {\"type\": \"GlyphRenderer\", \"id\": \"f46fbde9-b764-4931-bc38-c228a6eddedc\"}], \"below\": [{\"type\": \"LinearAxis\", \"id\": \"ce2e955c-68b2-45fb-8ee5-3c9553a89546\"}], \"tool_events\": {\"type\": \"ToolEvents\", \"id\": \"7c522d23-50f3-4d08-9429-b461fb4fc6d3\"}, \"tools\": [{\"type\": \"PanTool\", \"id\": \"79cd18ae-f013-45ee-a068-b6d86c1de92d\"}, {\"type\": \"BoxSelectTool\", \"id\": \"4b9d7868-8276-4865-8f4f-b2e16ab168db\"}, {\"type\": \"ResizeTool\", \"id\": \"eb7eb434-3e1c-4dd0-a385-8782faeddd99\"}, {\"type\": \"ResetTool\", \"id\": \"12d82794-30b4-4c8b-8ce0-ea3e7941478f\"}, {\"type\": \"PreviewSaveTool\", \"id\": \"fc07f18d-aa50-489d-9656-be85dff079f0\"}, {\"type\": \"WheelZoomTool\", \"id\": \"9af8b979-045a-449f-87cf-e5c886ce8f8c\"}, {\"type\": \"HoverTool\", \"id\": \"2a430796-6ab8-4ab3-a951-76128f4e57a1\"}], \"left\": [{\"type\": \"LinearAxis\", \"id\": \"16e41d62-b6de-45c8-ad26-31fab5e2dd93\"}]}, \"type\": \"Plot\", \"id\": \"5a245dbd-4c29-44a9-8941-820af69e8cb7\", \"subtype\": \"Figure\"}, {\"attributes\": {\"line_color\": {\"value\": \"black\"}, \"line_alpha\": {\"value\": 1.0}, \"render_mode\": \"css\", \"bottom_units\": \"screen\", \"level\": \"overlay\", \"top_units\": \"screen\", \"fill_alpha\": {\"value\": 0.5}, \"plot\": null, \"left_units\": \"screen\", \"line_dash\": [4, 4], \"line_width\": {\"value\": 2}, \"right_units\": \"screen\", \"fill_color\": {\"value\": \"lightgrey\"}}, \"type\": \"BoxAnnotation\", \"id\": \"1138fc75-54bd-474c-a0b4-3e3128a77ccd\"}, {\"attributes\": {\"callback\": null}, \"type\": \"DataRange1d\", \"id\": \"94c09c2e-2158-4b50-ad2c-322f503e5312\"}, {\"attributes\": {\"nonselection_glyph\": {\"type\": \"Circle\", \"id\": \"08a87672-c908-4b16-8ea9-91da61d125ee\"}, \"data_source\": {\"type\": \"ColumnDataSource\", \"id\": \"6d871cc3-21b2-41de-bafe-db9602ec17a7\"}, \"selection_glyph\": null, \"hover_glyph\": null, \"glyph\": {\"type\": \"Circle\", \"id\": \"898e1a3f-2857-42ce-b50c-fb4f341d1bdd\"}}, \"type\": \"GlyphRenderer\", \"id\": \"7f2a43c3-b9a8-4b63-99ad-ef5f123bd683\"}, {\"attributes\": {\"line_color\": {\"value\": \"#FFFF00\"}, \"x\": {\"field\": \"end terminal x coordinate\"}, \"y\": {\"field\": \"end terminal y coordinate\"}, \"fill_color\": {\"value\": \"#FFFF00\"}, \"size\": {\"units\": \"screen\", \"value\": 5}}, \"type\": \"Circle\", \"id\": \"b5f70169-c872-429d-8057-c07bfd68244c\"}, {\"attributes\": {\"callback\": null, \"column_names\": [\"index\", \"node id\", \"time window end\", \"predecessor node id\", \"time window start\", \"service time\", \"pickup by all\", \"y coordinate\", \"x coordinate\", \"demand\", \"successor node id\"], \"data\": {\"index\": [], \"node id\": [], \"time window end\": [], \"predecessor node id\": [], \"successor node id\": [], \"y coordinate\": [], \"service time\": [], \"pickup by all\": [], \"time window start\": [], \"x coordinate\": [], \"demand\": []}}, \"type\": \"ColumnDataSource\", \"id\": \"7640ad7d-182f-40f1-b939-48a1847a8bfe\"}, {\"attributes\": {\"callback\": null, \"column_names\": [\"index\", \"node id\", \"time window end\", \"predecessor node id\", \"time window start\", \"service time\", \"pickup by all\", \"y coordinate\", \"x coordinate\", \"demand\", \"successor node id\"], \"data\": {\"index\": [0, 2, 4, 6, 8], \"node id\": [0, 2, 4, 6, 8], \"time window end\": [2945, 2199, 2363, 3239, 3225], \"predecessor node id\": [-1, -1, -1, -1, -1], \"successor node id\": [1, 3, 5, 7, 9], \"y coordinate\": [102, 645, 690, 82, 315], \"service time\": [180, 175, 247, 193, 157], \"pickup by all\": [\"yes\", \"yes\", \"yes\", \"yes\", \"yes\"], \"time window start\": [2406, 1145, 1389, 2200, 2451], \"x coordinate\": [538, 183, 453, 887, 916], \"demand\": [15, 12, 12, 12, 7]}}, \"type\": \"ColumnDataSource\", \"id\": \"6d871cc3-21b2-41de-bafe-db9602ec17a7\"}, {\"attributes\": {\"line_color\": {\"value\": \"#000000\"}, \"x\": {\"field\": \"x coordinate\"}, \"y\": {\"field\": \"y coordinate\"}, \"fill_color\": {\"value\": \"#000000\"}, \"size\": {\"units\": \"screen\", \"value\": 10}}, \"type\": \"Circle\", \"id\": \"a43cfe2c-c20c-4432-9285-4f890473065b\"}, {\"attributes\": {\"plot\": {\"subtype\": \"Figure\", \"type\": \"Plot\", \"id\": \"5a245dbd-4c29-44a9-8941-820af69e8cb7\"}}, \"type\": \"WheelZoomTool\", \"id\": \"9af8b979-045a-449f-87cf-e5c886ce8f8c\"}, {\"attributes\": {}, \"type\": \"BasicTicker\", \"id\": \"d9becf70-4d8a-4065-8dfb-feb3ff03e415\"}, {\"attributes\": {\"line_color\": {\"value\": \"#1f77b4\"}, \"line_alpha\": {\"value\": 0.1}, \"fill_color\": {\"value\": \"#1f77b4\"}, \"fill_alpha\": {\"value\": 0.1}, \"y\": {\"field\": \"y coordinate\"}, \"x\": {\"field\": \"x coordinate\"}, \"size\": {\"units\": \"screen\", \"value\": 10}}, \"type\": \"Circle\", \"id\": \"08a87672-c908-4b16-8ea9-91da61d125ee\"}, {\"attributes\": {\"plot\": {\"subtype\": \"Figure\", \"type\": \"Plot\", \"id\": \"5a245dbd-4c29-44a9-8941-820af69e8cb7\"}, \"formatter\": {\"type\": \"BasicTickFormatter\", \"id\": \"45ff83fc-dd06-4147-8040-95e43b6b3d29\"}, \"ticker\": {\"type\": \"BasicTicker\", \"id\": \"7abbd64e-d83a-4cce-b768-9a69820dcaf5\"}}, \"type\": \"LinearAxis\", \"id\": \"ce2e955c-68b2-45fb-8ee5-3c9553a89546\"}, {\"attributes\": {\"callback\": null}, \"type\": \"DataRange1d\", \"id\": \"cc0851d7-4fac-456e-9f3e-c00194546cfa\"}, {\"attributes\": {\"nonselection_glyph\": {\"type\": \"Circle\", \"id\": \"8b12d028-6a6b-4a21-bfd4-a79f686109c0\"}, \"data_source\": {\"type\": \"ColumnDataSource\", \"id\": \"6b548b18-5597-4c6c-ba0b-e93264a9ff57\"}, \"selection_glyph\": null, \"hover_glyph\": null, \"glyph\": {\"type\": \"Circle\", \"id\": \"b5f70169-c872-429d-8057-c07bfd68244c\"}}, \"type\": \"GlyphRenderer\", \"id\": \"f46fbde9-b764-4931-bc38-c228a6eddedc\"}, {\"attributes\": {\"callback\": null, \"column_names\": [\"index\", \"vehicle id\", \"end terminal x coordinate\", \"start terminal y coordinate\", \"end terminal y coordinate\", \"vehicle capacity\", \"vehicle end time\", \"vehicle start time\", \"start terminal x coordinate\"], \"data\": {\"index\": [0, 1], \"start terminal x coordinate\": [852, 819], \"end terminal x coordinate\": [852, 819], \"start terminal y coordinate\": [331, 858], \"end terminal y coordinate\": [331, 858], \"vehicle capacity\": [50, 50], \"vehicle end time\": [5000, 5000], \"vehicle start time\": [0, 0], \"vehicle id\": [0, 1]}}, \"type\": \"ColumnDataSource\", \"id\": \"6b548b18-5597-4c6c-ba0b-e93264a9ff57\"}, {\"attributes\": {\"line_color\": {\"value\": \"#1f77b4\"}, \"line_alpha\": {\"value\": 0.1}, \"fill_color\": {\"value\": \"#1f77b4\"}, \"fill_alpha\": {\"value\": 0.1}, \"y\": {\"field\": \"start terminal y coordinate\"}, \"x\": {\"field\": \"start terminal x coordinate\"}, \"size\": {\"units\": \"screen\", \"value\": 10}}, \"type\": \"Circle\", \"id\": \"ffdd2872-8ceb-4dfa-9f43-84a90baa76d5\"}, {\"attributes\": {\"plot\": {\"subtype\": \"Figure\", \"type\": \"Plot\", \"id\": \"5a245dbd-4c29-44a9-8941-820af69e8cb7\"}, \"formatter\": {\"type\": \"BasicTickFormatter\", \"id\": \"ee1809e7-304d-4bf5-99fc-a9e776977ebf\"}, \"ticker\": {\"type\": \"BasicTicker\", \"id\": \"d9becf70-4d8a-4065-8dfb-feb3ff03e415\"}}, \"type\": \"LinearAxis\", \"id\": \"16e41d62-b6de-45c8-ad26-31fab5e2dd93\"}, {\"attributes\": {\"nonselection_glyph\": {\"type\": \"Circle\", \"id\": \"fc7fd55e-11d1-4cf8-a634-883b9f22ab36\"}, \"data_source\": {\"type\": \"ColumnDataSource\", \"id\": \"26d67e3a-60b4-4782-83e4-46fa93c0b911\"}, \"selection_glyph\": null, \"hover_glyph\": null, \"glyph\": {\"type\": \"Circle\", \"id\": \"f0963516-92cb-4f6b-a3d9-bee8e5d891f9\"}}, \"type\": \"GlyphRenderer\", \"id\": \"e3255e2c-4d8d-4c50-830f-0f436bbb539b\"}, {\"attributes\": {}, \"type\": \"BasicTicker\", \"id\": \"7abbd64e-d83a-4cce-b768-9a69820dcaf5\"}, {\"attributes\": {\"line_color\": {\"value\": \"#1f77b4\"}, \"line_alpha\": {\"value\": 0.1}, \"fill_color\": {\"value\": \"#1f77b4\"}, \"fill_alpha\": {\"value\": 0.1}, \"y\": {\"field\": \"y coordinate\"}, \"x\": {\"field\": \"x coordinate\"}, \"size\": {\"units\": \"screen\", \"value\": 10}}, \"type\": \"Circle\", \"id\": \"fc7fd55e-11d1-4cf8-a634-883b9f22ab36\"}, {\"attributes\": {\"callback\": null, \"plot\": {\"subtype\": \"Figure\", \"type\": \"Plot\", \"id\": \"5a245dbd-4c29-44a9-8941-820af69e8cb7\"}}, \"type\": \"HoverTool\", \"id\": \"2a430796-6ab8-4ab3-a951-76128f4e57a1\"}, {\"attributes\": {\"plot\": {\"subtype\": \"Figure\", \"type\": \"Plot\", \"id\": \"5a245dbd-4c29-44a9-8941-820af69e8cb7\"}}, \"type\": \"ResetTool\", \"id\": \"12d82794-30b4-4c8b-8ce0-ea3e7941478f\"}, {\"attributes\": {\"line_color\": {\"value\": \"#FF0000\"}, \"x\": {\"field\": \"x coordinate\"}, \"y\": {\"field\": \"y coordinate\"}, \"fill_color\": {\"value\": \"#FF0000\"}, \"size\": {\"units\": \"screen\", \"value\": 10}}, \"type\": \"Circle\", \"id\": \"f0963516-92cb-4f6b-a3d9-bee8e5d891f9\"}, {\"attributes\": {\"plot\": {\"subtype\": \"Figure\", \"type\": \"Plot\", \"id\": \"5a245dbd-4c29-44a9-8941-820af69e8cb7\"}, \"ticker\": {\"type\": \"BasicTicker\", \"id\": \"d9becf70-4d8a-4065-8dfb-feb3ff03e415\"}, \"dimension\": 1}, \"type\": \"Grid\", \"id\": \"06e6068c-977a-4629-b913-011ebe02c891\"}, {\"attributes\": {\"plot\": {\"subtype\": \"Figure\", \"type\": \"Plot\", \"id\": \"5a245dbd-4c29-44a9-8941-820af69e8cb7\"}, \"legends\": [[\"pickup by all\", [{\"type\": \"GlyphRenderer\", \"id\": \"7f2a43c3-b9a8-4b63-99ad-ef5f123bd683\"}]], [\"delivery\", [{\"type\": \"GlyphRenderer\", \"id\": \"e3255e2c-4d8d-4c50-830f-0f436bbb539b\"}]], [\"pickup not by all\", [{\"type\": \"GlyphRenderer\", \"id\": \"db7fd6fa-403f-49c6-af61-509ca1899608\"}]], [\"start\", [{\"type\": \"GlyphRenderer\", \"id\": \"aea5f3e3-433c-4cd5-aa27-aaaccb253f89\"}]], [\"end\", [{\"type\": \"GlyphRenderer\", \"id\": \"f46fbde9-b764-4931-bc38-c228a6eddedc\"}]]]}, \"type\": \"Legend\", \"id\": \"e81aab50-a160-47fd-912d-308103c363c5\"}, {\"attributes\": {\"plot\": {\"subtype\": \"Figure\", \"type\": \"Plot\", \"id\": \"5a245dbd-4c29-44a9-8941-820af69e8cb7\"}}, \"type\": \"PanTool\", \"id\": \"79cd18ae-f013-45ee-a068-b6d86c1de92d\"}, {\"attributes\": {}, \"type\": \"BasicTickFormatter\", \"id\": \"ee1809e7-304d-4bf5-99fc-a9e776977ebf\"}, {\"attributes\": {\"line_color\": {\"value\": \"#1f77b4\"}, \"line_alpha\": {\"value\": 0.1}, \"fill_color\": {\"value\": \"#1f77b4\"}, \"fill_alpha\": {\"value\": 0.1}, \"y\": {\"field\": \"end terminal y coordinate\"}, \"x\": {\"field\": \"end terminal x coordinate\"}, \"size\": {\"units\": \"screen\", \"value\": 5}}, \"type\": \"Circle\", \"id\": \"8b12d028-6a6b-4a21-bfd4-a79f686109c0\"}, {\"attributes\": {\"plot\": {\"subtype\": \"Figure\", \"type\": \"Plot\", \"id\": \"5a245dbd-4c29-44a9-8941-820af69e8cb7\"}}, \"type\": \"PreviewSaveTool\", \"id\": \"fc07f18d-aa50-489d-9656-be85dff079f0\"}, {\"attributes\": {\"nonselection_glyph\": {\"type\": \"Circle\", \"id\": \"ffdd2872-8ceb-4dfa-9f43-84a90baa76d5\"}, \"data_source\": {\"type\": \"ColumnDataSource\", \"id\": \"6b548b18-5597-4c6c-ba0b-e93264a9ff57\"}, \"selection_glyph\": null, \"hover_glyph\": null, \"glyph\": {\"type\": \"Circle\", \"id\": \"c78bc7e4-cee6-484a-8767-62ece842c905\"}}, \"type\": \"GlyphRenderer\", \"id\": \"aea5f3e3-433c-4cd5-aa27-aaaccb253f89\"}, {\"attributes\": {\"line_color\": {\"value\": \"#0000FF\"}, \"x\": {\"field\": \"start terminal x coordinate\"}, \"y\": {\"field\": \"start terminal y coordinate\"}, \"fill_color\": {\"value\": \"#0000FF\"}, \"size\": {\"units\": \"screen\", \"value\": 10}}, \"type\": \"Circle\", \"id\": \"c78bc7e4-cee6-484a-8767-62ece842c905\"}, {\"attributes\": {\"line_color\": {\"value\": \"#008000\"}, \"x\": {\"field\": \"x coordinate\"}, \"y\": {\"field\": \"y coordinate\"}, \"fill_color\": {\"value\": \"#008000\"}, \"size\": {\"units\": \"screen\", \"value\": 10}}, \"type\": \"Circle\", \"id\": \"898e1a3f-2857-42ce-b50c-fb4f341d1bdd\"}, {\"attributes\": {\"line_color\": {\"value\": \"#1f77b4\"}, \"line_alpha\": {\"value\": 0.1}, \"fill_color\": {\"value\": \"#1f77b4\"}, \"fill_alpha\": {\"value\": 0.1}, \"y\": {\"field\": \"y coordinate\"}, \"x\": {\"field\": \"x coordinate\"}, \"size\": {\"units\": \"screen\", \"value\": 10}}, \"type\": \"Circle\", \"id\": \"c64a3d83-902b-4a77-b047-9c1d641385a2\"}, {\"attributes\": {\"nonselection_glyph\": {\"type\": \"Circle\", \"id\": \"c64a3d83-902b-4a77-b047-9c1d641385a2\"}, \"data_source\": {\"type\": \"ColumnDataSource\", \"id\": \"7640ad7d-182f-40f1-b939-48a1847a8bfe\"}, \"selection_glyph\": null, \"hover_glyph\": null, \"glyph\": {\"type\": \"Circle\", \"id\": \"a43cfe2c-c20c-4432-9285-4f890473065b\"}}, \"type\": \"GlyphRenderer\", \"id\": \"db7fd6fa-403f-49c6-af61-509ca1899608\"}, {\"attributes\": {\"plot\": {\"subtype\": \"Figure\", \"type\": \"Plot\", \"id\": \"5a245dbd-4c29-44a9-8941-820af69e8cb7\"}, \"ticker\": {\"type\": \"BasicTicker\", \"id\": \"7abbd64e-d83a-4cce-b768-9a69820dcaf5\"}}, \"type\": \"Grid\", \"id\": \"7aa8f5af-14fb-489e-9ba1-6528794a0d57\"}, {\"attributes\": {}, \"type\": \"ToolEvents\", \"id\": \"7c522d23-50f3-4d08-9429-b461fb4fc6d3\"}]}, \"title\": \"Bokeh Application\"}};\n",
       "            var render_items = [{\"notebook_comms_target\": \"79e123a4-024a-44ce-8c31-6acb54c0441e\", \"docid\": \"610ae0e1-9440-47f4-9b3e-10623c416a4d\", \"elementid\": \"8302ce1b-b816-4f5d-9a63-022812ab54cd\", \"modelid\": \"5a245dbd-4c29-44a9-8941-820af69e8cb7\"}];\n",
       "            \n",
       "            Bokeh.embed.embed_items(docs_json, render_items);\n",
       "        });\n",
       "      },\n",
       "      function(Bokeh) {\n",
       "      }\n",
       "    ];\n",
       "  \n",
       "    function run_inline_js() {\n",
       "      for (var i = 0; i < inline_js.length; i++) {\n",
       "        inline_js[i](window.Bokeh);\n",
       "      }\n",
       "    }\n",
       "  \n",
       "    if (window._bokeh_is_loading === 0) {\n",
       "      console.log(\"Bokeh: BokehJS loaded, going straight to plotting\");\n",
       "      run_inline_js();\n",
       "    } else {\n",
       "      load_libs(js_urls, function() {\n",
       "        console.log(\"Bokeh: BokehJS plotting callback run at\", now());\n",
       "        run_inline_js();\n",
       "      });\n",
       "    }\n",
       "  }(this));\n",
       "</script>"
      ]
     },
     "metadata": {},
     "output_type": "display_data"
    },
    {
     "data": {
      "text/plain": [
       "<bokeh.io._CommsHandle at 0x7fe9b8e5c690>"
      ]
     },
     "execution_count": 7,
     "metadata": {},
     "output_type": "execute_result"
    }
   ],
   "source": [
    "from bokeh.plotting import figure, output_notebook, show, ColumnDataSource\n",
    "import matplotlib\n",
    "cnames = matplotlib.colors.cnames\n",
    "output_notebook()\n",
    "def plot_landscape(df_requests, df_trucks):\n",
    "    TOOLS = 'pan,box_select,resize,reset, save, wheel_zoom, hover'\n",
    "    fig = figure(title='landscape', tools=TOOLS)\n",
    "    source_yes = ColumnDataSource(df_requests.loc[(df_requests['pickup by all'] == 'yes')])\n",
    "    s1 = fig.scatter('x coordinate','y coordinate',\n",
    "                     source=source_yes, color=cnames['green'],size=10,legend='pickup by all')\n",
    "    source_delivery = ColumnDataSource(df_requests.loc[(df_requests['pickup by all'] == 'delivery')])\n",
    "    s2 = fig.scatter('x coordinate','y coordinate', \n",
    "                     source = source_delivery,color=cnames['red'],size=10,legend='delivery')\n",
    "    source_no = ColumnDataSource(df_requests.loc[(df_requests['pickup by all'] == 'no')])\n",
    "    s3 = fig.scatter('x coordinate','y coordinate', \n",
    "                     source = source_no,color=cnames['black'],size=10,legend='pickup not by all')\n",
    "    source_trucks = ColumnDataSource(df_trucks)\n",
    "    s4 = fig.scatter('start terminal x coordinate','start terminal y coordinate',\n",
    "                     source=source_trucks, color=cnames['blue'],size=10,legend='start')\n",
    "    s5 = fig.scatter('end terminal x coordinate','end terminal y coordinate', \n",
    "                     source = source_trucks,color=cnames['yellow'],size=5,legend='end')\n",
    "    return fig\n",
    "fig = plot_landscape(df_requests, df_trucks)\n",
    "show(fig)"
   ]
  },
  {
   "cell_type": "markdown",
   "metadata": {},
   "source": [
    "### calculate location and distance matrix"
   ]
  },
  {
   "cell_type": "code",
   "execution_count": 8,
   "metadata": {
    "code_folding": [
     1
    ],
    "collapsed": false
   },
   "outputs": [],
   "source": [
    "import numpy as np\n",
    "def calc_location_array(df_requests, df_trucks, params):\n",
    "    #set up locations array\n",
    "    location_array = np.zeros((2*params['NUMBER_OF_REQUESTS'] \n",
    "                            + 2*params['MAX_NUMBER_VEHICLES'] ,2))\n",
    "    #transform location values from datafram to nd array\n",
    "    requests_locations = df_requests[['x coordinate', 'y coordinate']].values\n",
    "    trucks_start_locations = df_trucks[['start terminal x coordinate', 'start terminal y coordinate']].values\n",
    "    trucks_end_locations = df_trucks[['end terminal x coordinate', 'end terminal y coordinate']].values\n",
    "\n",
    "    #store nd arrays of requests in location array. \n",
    "    location_array[:len(requests_locations),:] = requests_locations\n",
    "    #store ndarrays of trucks locations below request locations in same array\n",
    "    for i in xrange(params['MAX_NUMBER_VEHICLES']):\n",
    "        index_start_loc = 2*params['NUMBER_OF_REQUESTS'] + 2*i\n",
    "        location_array[index_start_loc,:] = trucks_start_locations[i,:]\n",
    "        index_end_loc = 2*params['NUMBER_OF_REQUESTS'] + 2*i + 1\n",
    "        location_array[index_end_loc,:] = trucks_end_locations[i,:]\n",
    "    return location_array\n",
    "\n",
    "location_array = calc_location_array(df_requests, df_trucks, params)"
   ]
  },
  {
   "cell_type": "code",
   "execution_count": 9,
   "metadata": {
    "collapsed": false
   },
   "outputs": [],
   "source": [
    "import scipy.spatial.distance as ds\n",
    "distance_matrix = ds.squareform(ds.pdist(location_array))\n",
    "\n"
   ]
  },
  {
   "cell_type": "markdown",
   "metadata": {},
   "source": [
    "## simplify my life a bit\n",
    "naming"
   ]
  },
  {
   "cell_type": "code",
   "execution_count": 10,
   "metadata": {
    "collapsed": true
   },
   "outputs": [],
   "source": [
    "n_veh = params['MAX_NUMBER_VEHICLES']\n",
    "n_req = params['NUMBER_OF_REQUESTS']\n",
    "ALPHA = params['ALPHA']\n",
    "BETA = params['BETA']\n",
    "GAMMA = params['GAMMA']"
   ]
  },
  {
   "cell_type": "markdown",
   "metadata": {},
   "source": [
    "indexing"
   ]
  },
  {
   "cell_type": "code",
   "execution_count": 11,
   "metadata": {
    "collapsed": true
   },
   "outputs": [],
   "source": [
    "import numba\n",
    "\n",
    "def reqid_2_locids( reqid): \n",
    "    return reqid*2, reqid*2+1\n",
    "\n",
    "def vehid_2_locids( vehid):\n",
    "    return 2*n_req+2*vehid, 2*n_req+2*vehid+1 "
   ]
  },
  {
   "cell_type": "markdown",
   "metadata": {
    "code_folding": [
     1
    ],
    "collapsed": true
   },
   "source": [
    "# set up the algo\n",
    "### decision variables\n",
    "\n",
    "Make a solution object that contains the following decision variabels\n",
    "\n",
    "- adjacency matrix $X$ ijk : binary varaible which is one if the edge between node i and j is used by vhecile k and 0 otherwise\n",
    "\n",
    "\n",
    "- Time matrix: S ik  nonnegative integer that indicates when vehcile k start the service at location i\n",
    "- Load matrix: L ik nongegative integer that is upper bound on the amount of goods on vehicel k after servicing node i\n",
    "- Request bank : Zi binary variable that indicates if request i is placed in request bank. 1 if in request bank zero otherwise\n"
   ]
  },
  {
   "cell_type": "code",
   "execution_count": 12,
   "metadata": {
    "code_folding": [
     0,
     5,
     9
    ],
    "collapsed": false
   },
   "outputs": [],
   "source": [
    "def init_vars(n_veh, n_req): \n",
    "    n_locs = 2*n_req + 2*n_veh\n",
    "    \n",
    "    #adjacency matrix\n",
    "    adj_matrix = np.zeros((n_veh, n_locs, n_locs))\n",
    "    for truck_i in xrange(n_veh):\n",
    "        ids = vehid_2_locids(truck_i)\n",
    "        adj_matrix[truck_i][ids[0]][ids[1]] = 1    \n",
    "    \n",
    "    #time table \n",
    "    time_table = np.zeros((n_locs,n_veh ))\n",
    "    # fill in times trucks take to go from start to finish\n",
    "    for truck_i in xrange(n_veh):\n",
    "        ids = vehid_2_locids(truck_i)\n",
    "        time_table[2*n_req+truck_i][truck_i] =  distance_matrix[ids[0]][ids[1]]\n",
    "            \n",
    "    #load matrix, all zero\n",
    "    load_table = np.zeros((n_locs,n_veh ))\n",
    "    # request bank all are uninserted, hence 1\n",
    "    request_bank = np.ones(n_req)\n",
    "       \n",
    "    return adj_matrix, time_table, load_table, request_bank\n",
    "\n",
    "adj_matrix, time_table, load_table, request_bank = init_vars(n_veh, n_req)"
   ]
  },
  {
   "cell_type": "markdown",
   "metadata": {
    "code_folding": [
     0
    ]
   },
   "source": [
    "## to determine how to construct route, we need to know objective value"
   ]
  },
  {
   "cell_type": "code",
   "execution_count": 13,
   "metadata": {
    "code_folding": [],
    "collapsed": false
   },
   "outputs": [],
   "source": [
    "def calc_distance(adj_matrix,distance_matrix):\n",
    "    #collapse all trucks into from 3 to 2 dim matrix since costs of all vehicles the same\n",
    "    edges = adj_matrix.sum(0)\n",
    "    return distance_matrix[edges.nonzero()].sum()\n",
    "\n",
    "def calc_duration(time_table):\n",
    "    # time at end node is latest time, and start always at time 0\n",
    "    return  time_table.max(1).sum()\n",
    "\n",
    "def calc_objective_value(distance,duration,n_request_bank):\n",
    "    objective_value = params['ALPHA'] * distance + params['BETA'] * duration\\\n",
    "             + params['GAMMA'] * n_request_bank\n",
    "    return objective_value\n",
    "    \n",
    "#def calc_objective_value(params, distance,duration,n_request_bank):\n",
    "#    objective_value = params['ALPHA'] * distance + params['BETA'] * duration\\\n",
    "#             + params['GAMMA'] * n_request_bank\n",
    "#    return objective_value"
   ]
  },
  {
   "cell_type": "markdown",
   "metadata": {},
   "source": [
    "now calculate components of objective value and the objective value"
   ]
  },
  {
   "cell_type": "code",
   "execution_count": 14,
   "metadata": {
    "collapsed": true
   },
   "outputs": [],
   "source": [
    "distance = calc_distance(adj_matrix,distance_matrix)\n",
    "duration = calc_duration(time_table)\n",
    "n_request_bank = request_bank.sum()\n",
    "\n",
    "objective_value = calc_objective_value(distance,duration,n_request_bank)"
   ]
  },
  {
   "cell_type": "markdown",
   "metadata": {},
   "source": [
    "# lets plot some stuff"
   ]
  },
  {
   "cell_type": "markdown",
   "metadata": {},
   "source": [
    "let's make life easier by improving df_requests with a column 'request id' and 'location type' "
   ]
  },
  {
   "cell_type": "code",
   "execution_count": 15,
   "metadata": {
    "collapsed": false
   },
   "outputs": [],
   "source": [
    "df_requests['request id'] = (df_requests['node id']/2).astype('int')\n",
    "\n",
    "df_requests.loc[df_requests['pickup by all'] == 'delivery', 'location type'] = 'delivery'\n",
    "df_requests.loc[df_requests['pickup by all'] != 'delivery', 'location type'] = 'pickup'"
   ]
  },
  {
   "cell_type": "markdown",
   "metadata": {},
   "source": [
    "make better plot with bokeh with boxes"
   ]
  },
  {
   "cell_type": "code",
   "execution_count": 16,
   "metadata": {
    "collapsed": false,
    "scrolled": true
   },
   "outputs": [
    {
     "data": {
      "text/html": [
       "\n",
       "\n",
       "    <div class=\"plotdiv\" id=\"421c566c-e89c-403a-8e94-8242386a18ec\"></div>\n",
       "<script type=\"text/javascript\">\n",
       "  \n",
       "  (function(global) {\n",
       "    function now() {\n",
       "      return new Date();\n",
       "    }\n",
       "  \n",
       "    if (typeof (window._bokeh_onload_callbacks) === \"undefined\") {\n",
       "      window._bokeh_onload_callbacks = [];\n",
       "    }\n",
       "  \n",
       "    function run_callbacks() {\n",
       "      window._bokeh_onload_callbacks.forEach(function(callback) { callback() });\n",
       "      delete window._bokeh_onload_callbacks\n",
       "      console.info(\"Bokeh: all callbacks have finished\");\n",
       "    }\n",
       "  \n",
       "    function load_libs(js_urls, callback) {\n",
       "      window._bokeh_onload_callbacks.push(callback);\n",
       "      if (window._bokeh_is_loading > 0) {\n",
       "        console.log(\"Bokeh: BokehJS is being loaded, scheduling callback at\", now());\n",
       "        return null;\n",
       "      }\n",
       "      if (js_urls == null || js_urls.length === 0) {\n",
       "        run_callbacks();\n",
       "        return null;\n",
       "      }\n",
       "      console.log(\"Bokeh: BokehJS not loaded, scheduling load and callback at\", now());\n",
       "      window._bokeh_is_loading = js_urls.length;\n",
       "      for (var i = 0; i < js_urls.length; i++) {\n",
       "        var url = js_urls[i];\n",
       "        var s = document.createElement('script');\n",
       "        s.src = url;\n",
       "        s.async = false;\n",
       "        s.onreadystatechange = s.onload = function() {\n",
       "          window._bokeh_is_loading--;\n",
       "          if (window._bokeh_is_loading === 0) {\n",
       "            console.log(\"Bokeh: all BokehJS libraries loaded\");\n",
       "            run_callbacks()\n",
       "          }\n",
       "        };\n",
       "        s.onerror = function() {\n",
       "          console.warn(\"failed to load library \" + url);\n",
       "        };\n",
       "        console.log(\"Bokeh: injecting script tag for BokehJS library: \", url);\n",
       "        document.getElementsByTagName(\"head\")[0].appendChild(s);\n",
       "      }\n",
       "    };var element = document.getElementById(\"421c566c-e89c-403a-8e94-8242386a18ec\");\n",
       "    if (element == null) {\n",
       "      console.log(\"Bokeh: ERROR: autoload.js configured with elementid '421c566c-e89c-403a-8e94-8242386a18ec' but no matching script tag was found. \")\n",
       "      return false;\n",
       "    }var js_urls = [];\n",
       "  \n",
       "    var inline_js = [\n",
       "      function(Bokeh) {\n",
       "        Bokeh.$(function() {\n",
       "            var docs_json = {\"4cdfed51-2cf9-49b2-addd-d99ad6c7debd\": {\"version\": \"0.11.0\", \"roots\": {\"root_ids\": [\"5a245dbd-4c29-44a9-8941-820af69e8cb7\", \"25376e88-60ca-4001-b1e1-9d9d9fd13877\"], \"references\": [{\"attributes\": {}, \"type\": \"BasicTickFormatter\", \"id\": \"45ff83fc-dd06-4147-8040-95e43b6b3d29\"}, {\"attributes\": {\"plot\": {\"subtype\": \"Figure\", \"type\": \"Plot\", \"id\": \"5a245dbd-4c29-44a9-8941-820af69e8cb7\"}, \"legends\": [[\"pickup by all\", [{\"type\": \"GlyphRenderer\", \"id\": \"7f2a43c3-b9a8-4b63-99ad-ef5f123bd683\"}]], [\"delivery\", [{\"type\": \"GlyphRenderer\", \"id\": \"e3255e2c-4d8d-4c50-830f-0f436bbb539b\"}]], [\"pickup not by all\", [{\"type\": \"GlyphRenderer\", \"id\": \"db7fd6fa-403f-49c6-af61-509ca1899608\"}]], [\"start\", [{\"type\": \"GlyphRenderer\", \"id\": \"aea5f3e3-433c-4cd5-aa27-aaaccb253f89\"}]], [\"end\", [{\"type\": \"GlyphRenderer\", \"id\": \"f46fbde9-b764-4931-bc38-c228a6eddedc\"}]]]}, \"type\": \"Legend\", \"id\": \"e81aab50-a160-47fd-912d-308103c363c5\"}, {\"attributes\": {}, \"type\": \"BasicTicker\", \"id\": \"7abbd64e-d83a-4cce-b768-9a69820dcaf5\"}, {\"attributes\": {}, \"type\": \"BasicTicker\", \"id\": \"65fa2e9c-257c-4fe8-acc8-2647ac68765a\"}, {\"attributes\": {\"plot\": {\"subtype\": \"Figure\", \"type\": \"Plot\", \"id\": \"5a245dbd-4c29-44a9-8941-820af69e8cb7\"}}, \"type\": \"WheelZoomTool\", \"id\": \"9af8b979-045a-449f-87cf-e5c886ce8f8c\"}, {\"attributes\": {\"line_color\": {\"value\": \"#1f77b4\"}, \"line_alpha\": {\"value\": 0.1}, \"fill_color\": {\"value\": \"#1f77b4\"}, \"fill_alpha\": {\"value\": 0.1}, \"y\": {\"field\": \"start terminal y coordinate\"}, \"x\": {\"field\": \"start terminal x coordinate\"}, \"size\": {\"units\": \"screen\", \"value\": 10}}, \"type\": \"Circle\", \"id\": \"ffdd2872-8ceb-4dfa-9f43-84a90baa76d5\"}, {\"attributes\": {\"line_color\": {\"value\": \"#1f77b4\"}, \"line_alpha\": {\"value\": 0.1}, \"line_width\": {\"value\": 10}, \"y1\": {\"field\": \"time window end\"}, \"y0\": {\"field\": \"time window start\"}, \"x0\": {\"field\": \"request id\"}, \"x1\": {\"field\": \"request id\"}}, \"type\": \"Segment\", \"id\": \"cd7ed3b5-ceaa-4d14-9f01-483801e77260\"}, {\"attributes\": {\"callback\": null, \"column_names\": [\"index\", \"node id\", \"time window end\", \"predecessor node id\", \"time window start\", \"service time\", \"pickup by all\", \"y coordinate\", \"x coordinate\", \"demand\", \"successor node id\"], \"data\": {\"index\": [1, 3, 5, 7, 9], \"node id\": [1, 3, 5, 7, 9], \"time window end\": [4283, 2702, 3672, 4426, 4419], \"predecessor node id\": [0, 2, 4, 6, 8], \"successor node id\": [-1, -1, -1, -1, -1], \"y coordinate\": [194, 631, 516, 291, 445], \"service time\": [153, 183, 167, 199, 235], \"pickup by all\": [\"delivery\", \"delivery\", \"delivery\", \"delivery\", \"delivery\"], \"time window start\": [3537, 1453, 2733, 3631, 3905], \"x coordinate\": [755, 107, 505, 858, 765], \"demand\": [-15, -12, -12, -12, -7]}}, \"type\": \"ColumnDataSource\", \"id\": \"26d67e3a-60b4-4782-83e4-46fa93c0b911\"}, {\"attributes\": {\"x_range\": {\"type\": \"DataRange1d\", \"id\": \"cc0851d7-4fac-456e-9f3e-c00194546cfa\"}, \"title\": \"landscape\", \"y_range\": {\"type\": \"DataRange1d\", \"id\": \"94c09c2e-2158-4b50-ad2c-322f503e5312\"}, \"renderers\": [{\"type\": \"LinearAxis\", \"id\": \"ce2e955c-68b2-45fb-8ee5-3c9553a89546\"}, {\"type\": \"Grid\", \"id\": \"7aa8f5af-14fb-489e-9ba1-6528794a0d57\"}, {\"type\": \"LinearAxis\", \"id\": \"16e41d62-b6de-45c8-ad26-31fab5e2dd93\"}, {\"type\": \"Grid\", \"id\": \"06e6068c-977a-4629-b913-011ebe02c891\"}, {\"type\": \"BoxAnnotation\", \"id\": \"1138fc75-54bd-474c-a0b4-3e3128a77ccd\"}, {\"type\": \"Legend\", \"id\": \"e81aab50-a160-47fd-912d-308103c363c5\"}, {\"type\": \"GlyphRenderer\", \"id\": \"7f2a43c3-b9a8-4b63-99ad-ef5f123bd683\"}, {\"type\": \"GlyphRenderer\", \"id\": \"e3255e2c-4d8d-4c50-830f-0f436bbb539b\"}, {\"type\": \"GlyphRenderer\", \"id\": \"db7fd6fa-403f-49c6-af61-509ca1899608\"}, {\"type\": \"GlyphRenderer\", \"id\": \"aea5f3e3-433c-4cd5-aa27-aaaccb253f89\"}, {\"type\": \"GlyphRenderer\", \"id\": \"f46fbde9-b764-4931-bc38-c228a6eddedc\"}], \"below\": [{\"type\": \"LinearAxis\", \"id\": \"ce2e955c-68b2-45fb-8ee5-3c9553a89546\"}], \"tool_events\": {\"type\": \"ToolEvents\", \"id\": \"7c522d23-50f3-4d08-9429-b461fb4fc6d3\"}, \"tools\": [{\"type\": \"PanTool\", \"id\": \"79cd18ae-f013-45ee-a068-b6d86c1de92d\"}, {\"type\": \"BoxSelectTool\", \"id\": \"4b9d7868-8276-4865-8f4f-b2e16ab168db\"}, {\"type\": \"ResizeTool\", \"id\": \"eb7eb434-3e1c-4dd0-a385-8782faeddd99\"}, {\"type\": \"ResetTool\", \"id\": \"12d82794-30b4-4c8b-8ce0-ea3e7941478f\"}, {\"type\": \"PreviewSaveTool\", \"id\": \"fc07f18d-aa50-489d-9656-be85dff079f0\"}, {\"type\": \"WheelZoomTool\", \"id\": \"9af8b979-045a-449f-87cf-e5c886ce8f8c\"}, {\"type\": \"HoverTool\", \"id\": \"2a430796-6ab8-4ab3-a951-76128f4e57a1\"}], \"left\": [{\"type\": \"LinearAxis\", \"id\": \"16e41d62-b6de-45c8-ad26-31fab5e2dd93\"}]}, \"type\": \"Plot\", \"id\": \"5a245dbd-4c29-44a9-8941-820af69e8cb7\", \"subtype\": \"Figure\"}, {\"attributes\": {\"line_color\": {\"value\": \"black\"}, \"line_alpha\": {\"value\": 1.0}, \"render_mode\": \"css\", \"bottom_units\": \"screen\", \"level\": \"overlay\", \"top_units\": \"screen\", \"fill_alpha\": {\"value\": 0.5}, \"plot\": null, \"left_units\": \"screen\", \"line_dash\": [4, 4], \"line_width\": {\"value\": 2}, \"right_units\": \"screen\", \"fill_color\": {\"value\": \"lightgrey\"}}, \"type\": \"BoxAnnotation\", \"id\": \"1138fc75-54bd-474c-a0b4-3e3128a77ccd\"}, {\"attributes\": {\"line_color\": {\"value\": \"black\"}, \"line_alpha\": {\"value\": 1.0}, \"render_mode\": \"css\", \"bottom_units\": \"screen\", \"level\": \"overlay\", \"top_units\": \"screen\", \"fill_alpha\": {\"value\": 0.5}, \"plot\": null, \"left_units\": \"screen\", \"line_dash\": [4, 4], \"line_width\": {\"value\": 2}, \"right_units\": \"screen\", \"fill_color\": {\"value\": \"lightgrey\"}}, \"type\": \"BoxAnnotation\", \"id\": \"826ec16a-2233-4141-98fa-ccd95bd9b672\"}, {\"attributes\": {\"line_color\": {\"value\": \"#1f77b4\"}, \"line_alpha\": {\"value\": 0.1}, \"fill_color\": {\"value\": \"#1f77b4\"}, \"fill_alpha\": {\"value\": 0.1}, \"y\": {\"field\": \"y coordinate\"}, \"x\": {\"field\": \"x coordinate\"}, \"size\": {\"units\": \"screen\", \"value\": 10}}, \"type\": \"Circle\", \"id\": \"fc7fd55e-11d1-4cf8-a634-883b9f22ab36\"}, {\"attributes\": {\"callback\": null}, \"type\": \"DataRange1d\", \"id\": \"94c09c2e-2158-4b50-ad2c-322f503e5312\"}, {\"attributes\": {\"nonselection_glyph\": {\"type\": \"Circle\", \"id\": \"08a87672-c908-4b16-8ea9-91da61d125ee\"}, \"data_source\": {\"type\": \"ColumnDataSource\", \"id\": \"6d871cc3-21b2-41de-bafe-db9602ec17a7\"}, \"selection_glyph\": null, \"hover_glyph\": null, \"glyph\": {\"type\": \"Circle\", \"id\": \"898e1a3f-2857-42ce-b50c-fb4f341d1bdd\"}}, \"type\": \"GlyphRenderer\", \"id\": \"7f2a43c3-b9a8-4b63-99ad-ef5f123bd683\"}, {\"attributes\": {\"plot\": {\"subtype\": \"Figure\", \"type\": \"Plot\", \"id\": \"25376e88-60ca-4001-b1e1-9d9d9fd13877\"}}, \"type\": \"ResizeTool\", \"id\": \"bd3a5592-5734-4504-a3b6-b5e6ca15c3ec\"}, {\"attributes\": {\"callback\": null, \"column_names\": [\"index\", \"location type\", \"node id\", \"time window end\", \"predecessor node id\", \"time window start\", \"service time\", \"pickup by all\", \"request id\", \"y coordinate\", \"x coordinate\", \"demand\", \"successor node id\"], \"data\": {\"index\": [0, 2, 4, 6, 8], \"location type\": [\"pickup\", \"pickup\", \"pickup\", \"pickup\", \"pickup\"], \"node id\": [0, 2, 4, 6, 8], \"time window end\": [2945, 2199, 2363, 3239, 3225], \"predecessor node id\": [-1, -1, -1, -1, -1], \"successor node id\": [1, 3, 5, 7, 9], \"y coordinate\": [102, 645, 690, 82, 315], \"service time\": [180, 175, 247, 193, 157], \"pickup by all\": [\"yes\", \"yes\", \"yes\", \"yes\", \"yes\"], \"request id\": [0, 1, 2, 3, 4], \"time window start\": [2406, 1145, 1389, 2200, 2451], \"x coordinate\": [538, 183, 453, 887, 916], \"demand\": [15, 12, 12, 12, 7]}}, \"type\": \"ColumnDataSource\", \"id\": \"364a01e3-2b01-4d2b-9bdb-996b65f652b3\"}, {\"attributes\": {\"callback\": null, \"column_names\": [\"index\", \"node id\", \"time window end\", \"predecessor node id\", \"time window start\", \"service time\", \"pickup by all\", \"y coordinate\", \"x coordinate\", \"demand\", \"successor node id\"], \"data\": {\"index\": [], \"node id\": [], \"time window end\": [], \"predecessor node id\": [], \"successor node id\": [], \"y coordinate\": [], \"service time\": [], \"pickup by all\": [], \"time window start\": [], \"x coordinate\": [], \"demand\": []}}, \"type\": \"ColumnDataSource\", \"id\": \"7640ad7d-182f-40f1-b939-48a1847a8bfe\"}, {\"attributes\": {\"callback\": null, \"column_names\": [\"index\", \"node id\", \"time window end\", \"predecessor node id\", \"time window start\", \"service time\", \"pickup by all\", \"y coordinate\", \"x coordinate\", \"demand\", \"successor node id\"], \"data\": {\"index\": [0, 2, 4, 6, 8], \"node id\": [0, 2, 4, 6, 8], \"time window end\": [2945, 2199, 2363, 3239, 3225], \"predecessor node id\": [-1, -1, -1, -1, -1], \"successor node id\": [1, 3, 5, 7, 9], \"y coordinate\": [102, 645, 690, 82, 315], \"service time\": [180, 175, 247, 193, 157], \"pickup by all\": [\"yes\", \"yes\", \"yes\", \"yes\", \"yes\"], \"time window start\": [2406, 1145, 1389, 2200, 2451], \"x coordinate\": [538, 183, 453, 887, 916], \"demand\": [15, 12, 12, 12, 7]}}, \"type\": \"ColumnDataSource\", \"id\": \"6d871cc3-21b2-41de-bafe-db9602ec17a7\"}, {\"attributes\": {\"callback\": null, \"end\": 5000}, \"type\": \"Range1d\", \"id\": \"1df37f53-be13-4b1e-aea6-e9c1a7157921\"}, {\"attributes\": {\"line_color\": {\"value\": \"#000000\"}, \"x\": {\"field\": \"x coordinate\"}, \"y\": {\"field\": \"y coordinate\"}, \"fill_color\": {\"value\": \"#000000\"}, \"size\": {\"units\": \"screen\", \"value\": 10}}, \"type\": \"Circle\", \"id\": \"a43cfe2c-c20c-4432-9285-4f890473065b\"}, {\"attributes\": {\"plot\": {\"subtype\": \"Figure\", \"type\": \"Plot\", \"id\": \"25376e88-60ca-4001-b1e1-9d9d9fd13877\"}, \"axis_label\": \"time\", \"formatter\": {\"type\": \"BasicTickFormatter\", \"id\": \"d6371149-f5f1-4507-8a7d-b9495703c5b4\"}, \"ticker\": {\"type\": \"BasicTicker\", \"id\": \"65fa2e9c-257c-4fe8-acc8-2647ac68765a\"}}, \"type\": \"LinearAxis\", \"id\": \"d18bde48-4739-482f-96fa-4170aedd6fca\"}, {\"attributes\": {\"callback\": null, \"renderers\": [{\"type\": \"GlyphRenderer\", \"id\": \"7f2a43c3-b9a8-4b63-99ad-ef5f123bd683\"}, {\"type\": \"GlyphRenderer\", \"id\": \"e3255e2c-4d8d-4c50-830f-0f436bbb539b\"}, {\"type\": \"GlyphRenderer\", \"id\": \"db7fd6fa-403f-49c6-af61-509ca1899608\"}, {\"type\": \"GlyphRenderer\", \"id\": \"aea5f3e3-433c-4cd5-aa27-aaaccb253f89\"}, {\"type\": \"GlyphRenderer\", \"id\": \"f46fbde9-b764-4931-bc38-c228a6eddedc\"}], \"plot\": {\"subtype\": \"Figure\", \"type\": \"Plot\", \"id\": \"5a245dbd-4c29-44a9-8941-820af69e8cb7\"}, \"overlay\": {\"type\": \"BoxAnnotation\", \"id\": \"1138fc75-54bd-474c-a0b4-3e3128a77ccd\"}}, \"type\": \"BoxSelectTool\", \"id\": \"4b9d7868-8276-4865-8f4f-b2e16ab168db\"}, {\"attributes\": {\"plot\": {\"subtype\": \"Figure\", \"type\": \"Plot\", \"id\": \"25376e88-60ca-4001-b1e1-9d9d9fd13877\"}, \"ticker\": {\"type\": \"BasicTicker\", \"id\": \"65fa2e9c-257c-4fe8-acc8-2647ac68765a\"}, \"dimension\": 1}, \"type\": \"Grid\", \"id\": \"b84cfc02-5a47-4ea8-8fb5-b1db6b1ff0ed\"}, {\"attributes\": {}, \"type\": \"BasicTickFormatter\", \"id\": \"cdc92500-6c37-4755-b2e7-34fa882d1c18\"}, {\"attributes\": {\"line_color\": {\"value\": \"#3288bd\"}, \"line_alpha\": {\"value\": 0.4}, \"line_width\": {\"value\": 10}, \"y1\": {\"field\": \"time window end\"}, \"y0\": {\"field\": \"time window start\"}, \"x0\": {\"field\": \"request id\"}, \"x1\": {\"field\": \"request id\"}}, \"type\": \"Segment\", \"id\": \"6afdd229-5c5c-4501-bb60-a2c812e33410\"}, {\"attributes\": {}, \"type\": \"BasicTicker\", \"id\": \"d9becf70-4d8a-4065-8dfb-feb3ff03e415\"}, {\"attributes\": {\"plot\": {\"subtype\": \"Figure\", \"type\": \"Plot\", \"id\": \"25376e88-60ca-4001-b1e1-9d9d9fd13877\"}}, \"type\": \"PreviewSaveTool\", \"id\": \"6cdbe49c-3e43-421e-ac6c-fec0c07aabc0\"}, {\"attributes\": {\"plot\": {\"subtype\": \"Figure\", \"type\": \"Plot\", \"id\": \"5a245dbd-4c29-44a9-8941-820af69e8cb7\"}, \"formatter\": {\"type\": \"BasicTickFormatter\", \"id\": \"ee1809e7-304d-4bf5-99fc-a9e776977ebf\"}, \"ticker\": {\"type\": \"BasicTicker\", \"id\": \"d9becf70-4d8a-4065-8dfb-feb3ff03e415\"}}, \"type\": \"LinearAxis\", \"id\": \"16e41d62-b6de-45c8-ad26-31fab5e2dd93\"}, {\"attributes\": {\"plot\": {\"subtype\": \"Figure\", \"type\": \"Plot\", \"id\": \"5a245dbd-4c29-44a9-8941-820af69e8cb7\"}, \"formatter\": {\"type\": \"BasicTickFormatter\", \"id\": \"45ff83fc-dd06-4147-8040-95e43b6b3d29\"}, \"ticker\": {\"type\": \"BasicTicker\", \"id\": \"7abbd64e-d83a-4cce-b768-9a69820dcaf5\"}}, \"type\": \"LinearAxis\", \"id\": \"ce2e955c-68b2-45fb-8ee5-3c9553a89546\"}, {\"attributes\": {}, \"type\": \"BasicTickFormatter\", \"id\": \"ee1809e7-304d-4bf5-99fc-a9e776977ebf\"}, {\"attributes\": {\"nonselection_glyph\": {\"type\": \"Circle\", \"id\": \"8b12d028-6a6b-4a21-bfd4-a79f686109c0\"}, \"data_source\": {\"type\": \"ColumnDataSource\", \"id\": \"6b548b18-5597-4c6c-ba0b-e93264a9ff57\"}, \"selection_glyph\": null, \"hover_glyph\": null, \"glyph\": {\"type\": \"Circle\", \"id\": \"b5f70169-c872-429d-8057-c07bfd68244c\"}}, \"type\": \"GlyphRenderer\", \"id\": \"f46fbde9-b764-4931-bc38-c228a6eddedc\"}, {\"attributes\": {\"callback\": null, \"column_names\": [\"index\", \"vehicle id\", \"end terminal x coordinate\", \"start terminal y coordinate\", \"end terminal y coordinate\", \"vehicle capacity\", \"vehicle end time\", \"vehicle start time\", \"start terminal x coordinate\"], \"data\": {\"index\": [0, 1], \"start terminal x coordinate\": [852, 819], \"end terminal x coordinate\": [852, 819], \"start terminal y coordinate\": [331, 858], \"end terminal y coordinate\": [331, 858], \"vehicle capacity\": [50, 50], \"vehicle end time\": [5000, 5000], \"vehicle start time\": [0, 0], \"vehicle id\": [0, 1]}}, \"type\": \"ColumnDataSource\", \"id\": \"6b548b18-5597-4c6c-ba0b-e93264a9ff57\"}, {\"attributes\": {\"plot\": {\"subtype\": \"Figure\", \"type\": \"Plot\", \"id\": \"5a245dbd-4c29-44a9-8941-820af69e8cb7\"}}, \"type\": \"ResizeTool\", \"id\": \"eb7eb434-3e1c-4dd0-a385-8782faeddd99\"}, {\"attributes\": {\"callback\": null, \"column_names\": [\"index\", \"location type\", \"node id\", \"time window end\", \"predecessor node id\", \"time window start\", \"service time\", \"pickup by all\", \"request id\", \"y coordinate\", \"x coordinate\", \"demand\", \"successor node id\"], \"data\": {\"index\": [1, 3, 5, 7, 9], \"location type\": [\"delivery\", \"delivery\", \"delivery\", \"delivery\", \"delivery\"], \"node id\": [1, 3, 5, 7, 9], \"time window end\": [4283, 2702, 3672, 4426, 4419], \"predecessor node id\": [0, 2, 4, 6, 8], \"successor node id\": [-1, -1, -1, -1, -1], \"y coordinate\": [194, 631, 516, 291, 445], \"service time\": [153, 183, 167, 199, 235], \"pickup by all\": [\"delivery\", \"delivery\", \"delivery\", \"delivery\", \"delivery\"], \"request id\": [0, 1, 2, 3, 4], \"time window start\": [3537, 1453, 2733, 3631, 3905], \"x coordinate\": [755, 107, 505, 858, 765], \"demand\": [-15, -12, -12, -12, -7]}}, \"type\": \"ColumnDataSource\", \"id\": \"b90355ac-ebd3-4b23-9c50-33d6103db897\"}, {\"attributes\": {\"nonselection_glyph\": {\"type\": \"Circle\", \"id\": \"fc7fd55e-11d1-4cf8-a634-883b9f22ab36\"}, \"data_source\": {\"type\": \"ColumnDataSource\", \"id\": \"26d67e3a-60b4-4782-83e4-46fa93c0b911\"}, \"selection_glyph\": null, \"hover_glyph\": null, \"glyph\": {\"type\": \"Circle\", \"id\": \"f0963516-92cb-4f6b-a3d9-bee8e5d891f9\"}}, \"type\": \"GlyphRenderer\", \"id\": \"e3255e2c-4d8d-4c50-830f-0f436bbb539b\"}, {\"attributes\": {\"line_color\": {\"value\": \"#FFFF00\"}, \"x\": {\"field\": \"end terminal x coordinate\"}, \"y\": {\"field\": \"end terminal y coordinate\"}, \"fill_color\": {\"value\": \"#FFFF00\"}, \"size\": {\"units\": \"screen\", \"value\": 5}}, \"type\": \"Circle\", \"id\": \"b5f70169-c872-429d-8057-c07bfd68244c\"}, {\"attributes\": {}, \"type\": \"BasicTicker\", \"id\": \"f3988885-6242-4ae3-879c-1afd9f27ea38\"}, {\"attributes\": {\"plot\": {\"subtype\": \"Figure\", \"type\": \"Plot\", \"id\": \"25376e88-60ca-4001-b1e1-9d9d9fd13877\"}, \"axis_label\": \"request id\", \"formatter\": {\"type\": \"BasicTickFormatter\", \"id\": \"cdc92500-6c37-4755-b2e7-34fa882d1c18\"}, \"ticker\": {\"type\": \"BasicTicker\", \"id\": \"f3988885-6242-4ae3-879c-1afd9f27ea38\"}}, \"type\": \"LinearAxis\", \"id\": \"cfa757a4-0135-48b2-af1c-8240484ea1ea\"}, {\"attributes\": {\"callback\": null, \"plot\": {\"subtype\": \"Figure\", \"type\": \"Plot\", \"id\": \"5a245dbd-4c29-44a9-8941-820af69e8cb7\"}}, \"type\": \"HoverTool\", \"id\": \"2a430796-6ab8-4ab3-a951-76128f4e57a1\"}, {\"attributes\": {}, \"type\": \"ToolEvents\", \"id\": \"da3223fe-5aca-4201-9736-d1c3211e50a5\"}, {\"attributes\": {\"plot\": {\"subtype\": \"Figure\", \"type\": \"Plot\", \"id\": \"5a245dbd-4c29-44a9-8941-820af69e8cb7\"}}, \"type\": \"ResetTool\", \"id\": \"12d82794-30b4-4c8b-8ce0-ea3e7941478f\"}, {\"attributes\": {\"line_color\": {\"value\": \"#FF0000\"}, \"x\": {\"field\": \"x coordinate\"}, \"y\": {\"field\": \"y coordinate\"}, \"fill_color\": {\"value\": \"#FF0000\"}, \"size\": {\"units\": \"screen\", \"value\": 10}}, \"type\": \"Circle\", \"id\": \"f0963516-92cb-4f6b-a3d9-bee8e5d891f9\"}, {\"attributes\": {\"plot\": {\"subtype\": \"Figure\", \"type\": \"Plot\", \"id\": \"5a245dbd-4c29-44a9-8941-820af69e8cb7\"}, \"ticker\": {\"type\": \"BasicTicker\", \"id\": \"d9becf70-4d8a-4065-8dfb-feb3ff03e415\"}, \"dimension\": 1}, \"type\": \"Grid\", \"id\": \"06e6068c-977a-4629-b913-011ebe02c891\"}, {\"attributes\": {\"nonselection_glyph\": {\"type\": \"Segment\", \"id\": \"cd7ed3b5-ceaa-4d14-9f01-483801e77260\"}, \"data_source\": {\"type\": \"ColumnDataSource\", \"id\": \"b90355ac-ebd3-4b23-9c50-33d6103db897\"}, \"selection_glyph\": null, \"hover_glyph\": null, \"glyph\": {\"type\": \"Segment\", \"id\": \"6afdd229-5c5c-4501-bb60-a2c812e33410\"}}, \"type\": \"GlyphRenderer\", \"id\": \"718ae4db-dc49-4ef2-8295-e9d270978e41\"}, {\"attributes\": {\"plot\": {\"subtype\": \"Figure\", \"type\": \"Plot\", \"id\": \"25376e88-60ca-4001-b1e1-9d9d9fd13877\"}, \"overlay\": {\"type\": \"BoxAnnotation\", \"id\": \"826ec16a-2233-4141-98fa-ccd95bd9b672\"}}, \"type\": \"BoxZoomTool\", \"id\": \"2da54977-944c-4adf-a641-0d629cfdc442\"}, {\"attributes\": {\"line_color\": {\"value\": \"#5e4fa2\"}, \"line_alpha\": {\"value\": 0.4}, \"line_width\": {\"value\": 10}, \"y1\": {\"field\": \"time window end\"}, \"y0\": {\"field\": \"time window start\"}, \"x0\": {\"field\": \"request id\"}, \"x1\": {\"field\": \"request id\"}}, \"type\": \"Segment\", \"id\": \"6e0a8a62-7bdc-4223-9c75-d3dc50e761f6\"}, {\"attributes\": {\"plot\": {\"subtype\": \"Figure\", \"type\": \"Plot\", \"id\": \"25376e88-60ca-4001-b1e1-9d9d9fd13877\"}}, \"type\": \"ResetTool\", \"id\": \"92723276-40bd-4f0b-abaa-4b466741b07d\"}, {\"attributes\": {}, \"type\": \"BasicTickFormatter\", \"id\": \"d6371149-f5f1-4507-8a7d-b9495703c5b4\"}, {\"attributes\": {\"plot\": {\"subtype\": \"Figure\", \"type\": \"Plot\", \"id\": \"25376e88-60ca-4001-b1e1-9d9d9fd13877\"}}, \"type\": \"WheelZoomTool\", \"id\": \"1c484a5a-2ed6-4c5c-a1f2-2f2697d52b0e\"}, {\"attributes\": {\"plot\": {\"subtype\": \"Figure\", \"type\": \"Plot\", \"id\": \"5a245dbd-4c29-44a9-8941-820af69e8cb7\"}}, \"type\": \"PanTool\", \"id\": \"79cd18ae-f013-45ee-a068-b6d86c1de92d\"}, {\"attributes\": {\"line_color\": {\"value\": \"#1f77b4\"}, \"line_alpha\": {\"value\": 0.1}, \"fill_color\": {\"value\": \"#1f77b4\"}, \"fill_alpha\": {\"value\": 0.1}, \"y\": {\"field\": \"y coordinate\"}, \"x\": {\"field\": \"x coordinate\"}, \"size\": {\"units\": \"screen\", \"value\": 10}}, \"type\": \"Circle\", \"id\": \"08a87672-c908-4b16-8ea9-91da61d125ee\"}, {\"attributes\": {\"callback\": null}, \"type\": \"DataRange1d\", \"id\": \"cc0851d7-4fac-456e-9f3e-c00194546cfa\"}, {\"attributes\": {\"line_color\": {\"value\": \"#1f77b4\"}, \"line_alpha\": {\"value\": 0.1}, \"fill_color\": {\"value\": \"#1f77b4\"}, \"fill_alpha\": {\"value\": 0.1}, \"y\": {\"field\": \"end terminal y coordinate\"}, \"x\": {\"field\": \"end terminal x coordinate\"}, \"size\": {\"units\": \"screen\", \"value\": 5}}, \"type\": \"Circle\", \"id\": \"8b12d028-6a6b-4a21-bfd4-a79f686109c0\"}, {\"attributes\": {\"plot\": {\"subtype\": \"Figure\", \"type\": \"Plot\", \"id\": \"25376e88-60ca-4001-b1e1-9d9d9fd13877\"}, \"ticker\": {\"type\": \"BasicTicker\", \"id\": \"f3988885-6242-4ae3-879c-1afd9f27ea38\"}}, \"type\": \"Grid\", \"id\": \"8f9fcabb-950c-4d1c-b9f9-940ec135df47\"}, {\"attributes\": {\"plot\": {\"subtype\": \"Figure\", \"type\": \"Plot\", \"id\": \"25376e88-60ca-4001-b1e1-9d9d9fd13877\"}, \"legends\": [[\"pickup\", [{\"type\": \"GlyphRenderer\", \"id\": \"4b372128-01b1-4829-a79c-7c4e041e7829\"}]], [\"delivery\", [{\"type\": \"GlyphRenderer\", \"id\": \"718ae4db-dc49-4ef2-8295-e9d270978e41\"}]]]}, \"type\": \"Legend\", \"id\": \"daa3ca1d-ea7a-49bc-9fe9-9b475715f70d\"}, {\"attributes\": {\"nonselection_glyph\": {\"type\": \"Circle\", \"id\": \"ffdd2872-8ceb-4dfa-9f43-84a90baa76d5\"}, \"data_source\": {\"type\": \"ColumnDataSource\", \"id\": \"6b548b18-5597-4c6c-ba0b-e93264a9ff57\"}, \"selection_glyph\": null, \"hover_glyph\": null, \"glyph\": {\"type\": \"Circle\", \"id\": \"c78bc7e4-cee6-484a-8767-62ece842c905\"}}, \"type\": \"GlyphRenderer\", \"id\": \"aea5f3e3-433c-4cd5-aa27-aaaccb253f89\"}, {\"attributes\": {\"plot\": {\"subtype\": \"Figure\", \"type\": \"Plot\", \"id\": \"5a245dbd-4c29-44a9-8941-820af69e8cb7\"}}, \"type\": \"PreviewSaveTool\", \"id\": \"fc07f18d-aa50-489d-9656-be85dff079f0\"}, {\"attributes\": {\"plot\": {\"subtype\": \"Figure\", \"type\": \"Plot\", \"id\": \"25376e88-60ca-4001-b1e1-9d9d9fd13877\"}}, \"type\": \"HelpTool\", \"id\": \"1d64e423-a9b5-453d-af95-08de63ae0b18\"}, {\"attributes\": {\"nonselection_glyph\": {\"type\": \"Segment\", \"id\": \"b559d6ad-8e1d-4bcf-a4c4-94ca062cbfb8\"}, \"data_source\": {\"type\": \"ColumnDataSource\", \"id\": \"364a01e3-2b01-4d2b-9bdb-996b65f652b3\"}, \"selection_glyph\": null, \"hover_glyph\": null, \"glyph\": {\"type\": \"Segment\", \"id\": \"6e0a8a62-7bdc-4223-9c75-d3dc50e761f6\"}}, \"type\": \"GlyphRenderer\", \"id\": \"4b372128-01b1-4829-a79c-7c4e041e7829\"}, {\"attributes\": {\"line_color\": {\"value\": \"#008000\"}, \"x\": {\"field\": \"x coordinate\"}, \"y\": {\"field\": \"y coordinate\"}, \"fill_color\": {\"value\": \"#008000\"}, \"size\": {\"units\": \"screen\", \"value\": 10}}, \"type\": \"Circle\", \"id\": \"898e1a3f-2857-42ce-b50c-fb4f341d1bdd\"}, {\"attributes\": {\"plot\": {\"subtype\": \"Figure\", \"type\": \"Plot\", \"id\": \"25376e88-60ca-4001-b1e1-9d9d9fd13877\"}}, \"type\": \"PanTool\", \"id\": \"3c7007d0-9a34-4d9a-b624-8ca66ba6ad21\"}, {\"attributes\": {}, \"type\": \"ToolEvents\", \"id\": \"7c522d23-50f3-4d08-9429-b461fb4fc6d3\"}, {\"attributes\": {\"line_color\": {\"value\": \"#1f77b4\"}, \"line_alpha\": {\"value\": 0.1}, \"fill_color\": {\"value\": \"#1f77b4\"}, \"fill_alpha\": {\"value\": 0.1}, \"y\": {\"field\": \"y coordinate\"}, \"x\": {\"field\": \"x coordinate\"}, \"size\": {\"units\": \"screen\", \"value\": 10}}, \"type\": \"Circle\", \"id\": \"c64a3d83-902b-4a77-b047-9c1d641385a2\"}, {\"attributes\": {\"line_color\": {\"value\": \"#0000FF\"}, \"x\": {\"field\": \"start terminal x coordinate\"}, \"y\": {\"field\": \"start terminal y coordinate\"}, \"fill_color\": {\"value\": \"#0000FF\"}, \"size\": {\"units\": \"screen\", \"value\": 10}}, \"type\": \"Circle\", \"id\": \"c78bc7e4-cee6-484a-8767-62ece842c905\"}, {\"attributes\": {\"nonselection_glyph\": {\"type\": \"Circle\", \"id\": \"c64a3d83-902b-4a77-b047-9c1d641385a2\"}, \"data_source\": {\"type\": \"ColumnDataSource\", \"id\": \"7640ad7d-182f-40f1-b939-48a1847a8bfe\"}, \"selection_glyph\": null, \"hover_glyph\": null, \"glyph\": {\"type\": \"Circle\", \"id\": \"a43cfe2c-c20c-4432-9285-4f890473065b\"}}, \"type\": \"GlyphRenderer\", \"id\": \"db7fd6fa-403f-49c6-af61-509ca1899608\"}, {\"attributes\": {\"x_range\": {\"type\": \"DataRange1d\", \"id\": \"c21a9642-6656-43b7-8f4d-193c2b4cb474\"}, \"title\": \"time windows\", \"y_range\": {\"type\": \"Range1d\", \"id\": \"1df37f53-be13-4b1e-aea6-e9c1a7157921\"}, \"renderers\": [{\"type\": \"LinearAxis\", \"id\": \"cfa757a4-0135-48b2-af1c-8240484ea1ea\"}, {\"type\": \"Grid\", \"id\": \"8f9fcabb-950c-4d1c-b9f9-940ec135df47\"}, {\"type\": \"LinearAxis\", \"id\": \"d18bde48-4739-482f-96fa-4170aedd6fca\"}, {\"type\": \"Grid\", \"id\": \"b84cfc02-5a47-4ea8-8fb5-b1db6b1ff0ed\"}, {\"type\": \"BoxAnnotation\", \"id\": \"826ec16a-2233-4141-98fa-ccd95bd9b672\"}, {\"type\": \"Legend\", \"id\": \"daa3ca1d-ea7a-49bc-9fe9-9b475715f70d\"}, {\"type\": \"GlyphRenderer\", \"id\": \"4b372128-01b1-4829-a79c-7c4e041e7829\"}, {\"type\": \"GlyphRenderer\", \"id\": \"718ae4db-dc49-4ef2-8295-e9d270978e41\"}], \"plot_width\": 500, \"below\": [{\"type\": \"LinearAxis\", \"id\": \"cfa757a4-0135-48b2-af1c-8240484ea1ea\"}], \"tool_events\": {\"type\": \"ToolEvents\", \"id\": \"da3223fe-5aca-4201-9736-d1c3211e50a5\"}, \"plot_height\": 250, \"tools\": [{\"type\": \"PanTool\", \"id\": \"3c7007d0-9a34-4d9a-b624-8ca66ba6ad21\"}, {\"type\": \"WheelZoomTool\", \"id\": \"1c484a5a-2ed6-4c5c-a1f2-2f2697d52b0e\"}, {\"type\": \"BoxZoomTool\", \"id\": \"2da54977-944c-4adf-a641-0d629cfdc442\"}, {\"type\": \"PreviewSaveTool\", \"id\": \"6cdbe49c-3e43-421e-ac6c-fec0c07aabc0\"}, {\"type\": \"ResizeTool\", \"id\": \"bd3a5592-5734-4504-a3b6-b5e6ca15c3ec\"}, {\"type\": \"ResetTool\", \"id\": \"92723276-40bd-4f0b-abaa-4b466741b07d\"}, {\"type\": \"HelpTool\", \"id\": \"1d64e423-a9b5-453d-af95-08de63ae0b18\"}], \"left\": [{\"type\": \"LinearAxis\", \"id\": \"d18bde48-4739-482f-96fa-4170aedd6fca\"}]}, \"type\": \"Plot\", \"id\": \"25376e88-60ca-4001-b1e1-9d9d9fd13877\", \"subtype\": \"Figure\"}, {\"attributes\": {\"line_color\": {\"value\": \"#1f77b4\"}, \"line_alpha\": {\"value\": 0.1}, \"line_width\": {\"value\": 10}, \"y1\": {\"field\": \"time window end\"}, \"y0\": {\"field\": \"time window start\"}, \"x0\": {\"field\": \"request id\"}, \"x1\": {\"field\": \"request id\"}}, \"type\": \"Segment\", \"id\": \"b559d6ad-8e1d-4bcf-a4c4-94ca062cbfb8\"}, {\"attributes\": {\"plot\": {\"subtype\": \"Figure\", \"type\": \"Plot\", \"id\": \"5a245dbd-4c29-44a9-8941-820af69e8cb7\"}, \"ticker\": {\"type\": \"BasicTicker\", \"id\": \"7abbd64e-d83a-4cce-b768-9a69820dcaf5\"}}, \"type\": \"Grid\", \"id\": \"7aa8f5af-14fb-489e-9ba1-6528794a0d57\"}, {\"attributes\": {\"callback\": null}, \"type\": \"DataRange1d\", \"id\": \"c21a9642-6656-43b7-8f4d-193c2b4cb474\"}]}, \"title\": \"Bokeh Application\"}};\n",
       "            var render_items = [{\"notebook_comms_target\": \"0f46f1b5-e2b5-4b6f-a92c-090ff5a89f1c\", \"docid\": \"4cdfed51-2cf9-49b2-addd-d99ad6c7debd\", \"elementid\": \"421c566c-e89c-403a-8e94-8242386a18ec\", \"modelid\": \"25376e88-60ca-4001-b1e1-9d9d9fd13877\"}];\n",
       "            \n",
       "            Bokeh.embed.embed_items(docs_json, render_items);\n",
       "        });\n",
       "      },\n",
       "      function(Bokeh) {\n",
       "      }\n",
       "    ];\n",
       "  \n",
       "    function run_inline_js() {\n",
       "      for (var i = 0; i < inline_js.length; i++) {\n",
       "        inline_js[i](window.Bokeh);\n",
       "      }\n",
       "    }\n",
       "  \n",
       "    if (window._bokeh_is_loading === 0) {\n",
       "      console.log(\"Bokeh: BokehJS loaded, going straight to plotting\");\n",
       "      run_inline_js();\n",
       "    } else {\n",
       "      load_libs(js_urls, function() {\n",
       "        console.log(\"Bokeh: BokehJS plotting callback run at\", now());\n",
       "        run_inline_js();\n",
       "      });\n",
       "    }\n",
       "  }(this));\n",
       "</script>"
      ]
     },
     "metadata": {},
     "output_type": "display_data"
    }
   ],
   "source": [
    "from bokeh.models import Range1d\n",
    "from bokeh.palettes import Spectral11\n",
    "p = figure(width=500, height=250, y_range = Range1d(0,5000), title = 'time windows')\n",
    "\n",
    "for i, loc_type in enumerate(['pickup', 'delivery']):\n",
    "    source = ColumnDataSource(df_requests.loc[df_requests['location type'] == loc_type])\n",
    "    p.segment(x0='request id', y0='time window start', x1='request id',\n",
    "          y1='time window end', line_width=10, color = Spectral11[i],\n",
    "          source = source, alpha = .4, legend=loc_type)\n",
    "\n",
    "p.xaxis.axis_label = \"request id\"\n",
    "p.yaxis.axis_label = \"time\"\n",
    "show(p);"
   ]
  },
  {
   "cell_type": "markdown",
   "metadata": {},
   "source": [
    "\n",
    "## first an initial route\n",
    "\n",
    "Lets first insert  request 0 in route 0. otherwhise testing with empty routes.\n",
    "\n",
    "\n",
    "First fix adj_matrix"
   ]
  },
  {
   "cell_type": "code",
   "execution_count": 17,
   "metadata": {
    "collapsed": false
   },
   "outputs": [],
   "source": [
    "req_id = 0\n",
    "veh_id = 0\n",
    "\n",
    "#get loc ids\n",
    "start, end = vehid_2_locids(veh_id)\n",
    "pickup, delivery = reqid_2_locids(req_id)\n",
    "#remove edge from start to end\n",
    "adj_matrix[veh_id,start,end] = 0\n",
    "#vehicle 0 goes from start loc to pickup to delivery to end loc\n",
    "from_ls = [start, pickup, delivery]\n",
    "to_ls = [pickup, delivery, end]\n",
    "# put this request in route 0\n",
    "\n",
    "adj_matrix[veh_id,from_ls,to_ls] = 1"
   ]
  },
  {
   "cell_type": "markdown",
   "metadata": {},
   "source": [
    "time_table "
   ]
  },
  {
   "cell_type": "code",
   "execution_count": 18,
   "metadata": {
    "collapsed": false
   },
   "outputs": [],
   "source": [
    "# set pickup. \n",
    "window_start = df_requests['time window start'][pickup]\n",
    "time_table[pickup][veh_id] = max(distance_matrix[start][pickup], \n",
    "                                  window_start)\n",
    "#set delivery\n",
    "window_start = df_requests['time window start'][delivery]\n",
    "time_table[delivery][veh_id] = max(time_table[pickup][veh_id] + \n",
    "                                    df_requests['service time'][pickup] + \n",
    "                                    distance_matrix[pickup][delivery],\n",
    "                                    window_start)\n",
    "                                     \n",
    "# set end time\n",
    "time_table[end][veh_id] = time_table[delivery][veh_id] \\\n",
    "                            + df_requests['service time'][delivery] \\\n",
    "                            + distance_matrix[delivery][end]  "
   ]
  },
  {
   "cell_type": "markdown",
   "metadata": {},
   "source": [
    "load_table"
   ]
  },
  {
   "cell_type": "code",
   "execution_count": 19,
   "metadata": {
    "collapsed": true
   },
   "outputs": [],
   "source": [
    "load_table[pickup][veh_id] = df_requests['demand'][pickup]\n",
    "load_table[delivery][veh_id] = load_table[pickup][veh_id]\\\n",
    "                                + df_requests['demand'][delivery]"
   ]
  },
  {
   "cell_type": "markdown",
   "metadata": {},
   "source": [
    "request_bank"
   ]
  },
  {
   "cell_type": "code",
   "execution_count": 20,
   "metadata": {
    "collapsed": false
   },
   "outputs": [],
   "source": [
    "request_bank[req_id] = 0"
   ]
  },
  {
   "cell_type": "markdown",
   "metadata": {
    "collapsed": false
   },
   "source": [
    "## Now see where second request can be put in vehicle 0"
   ]
  },
  {
   "cell_type": "code",
   "execution_count": 21,
   "metadata": {
    "collapsed": true
   },
   "outputs": [],
   "source": [
    "req_id = 1\n",
    "start_req, end_req = reqid_2_locids(req_id)"
   ]
  },
  {
   "cell_type": "markdown",
   "metadata": {},
   "source": [
    "to know where the requests can be put, I have to know which locations already in vehicle 0"
   ]
  },
  {
   "cell_type": "code",
   "execution_count": 22,
   "metadata": {
    "collapsed": false
   },
   "outputs": [],
   "source": [
    "def vehid_2_route(veh_id,time_table):\n",
    "    start, _ = vehid_2_locids(veh_id) \n",
    "    n_req_locs = np.shape(np.nonzero(time_table[:2*n_req,veh_id]))[1] \n",
    "    rt_len = n_req_locs + 2\n",
    "    result = np.zeros((rt_len,), dtype='int')\n",
    "    result[0] = start\n",
    "    result[1:] = np.array(np.argsort(time_table[:,veh_id])[-rt_len+1:])\n",
    "    return result\n",
    "\n",
    "route = vehid_2_route(veh_id,time_table)\n",
    "n_pos = len(route) - 1\n",
    "n_current = len(route)"
   ]
  },
  {
   "cell_type": "markdown",
   "metadata": {},
   "source": [
    "import some stuff to arrays for fast lookup"
   ]
  },
  {
   "cell_type": "code",
   "execution_count": 23,
   "metadata": {
    "collapsed": false
   },
   "outputs": [
    {
     "name": "stderr",
     "output_type": "stream",
     "text": [
      "/home/sandralaptop/anaconda2/lib/python2.7/site-packages/numpy/core/numeric.py:294: FutureWarning: in the future, full((4,), 5000) will return an array of dtype('int64')\n",
      "  format(shape, fill_value, array(fill_value).dtype), FutureWarning)\n"
     ]
    }
   ],
   "source": [
    "veh_cap = df_trucks['vehicle capacity'].values.astype('int')\n",
    "# req_loads = df_requests.loc[df_requests['location type'] == 'pickup', ['demand']].values\n",
    "request_demands = np.concatenate(( df_requests['demand'].values, np.zeros([2*n_veh,]) )).astype('int')\n",
    "service_times = np.concatenate(( df_requests['service time'].values, np.zeros([2*n_veh,]) )).astype('int')\n",
    "time_windows_start = np.concatenate((df_requests['time window start'].values, np.zeros([2*n_veh,]) )).astype('int')\n",
    "time_windows_end = np.concatenate(( df_requests['time window end'].values, np.full((2*n_veh,), fill_value = 5000 ))).astype('int')"
   ]
  },
  {
   "cell_type": "markdown",
   "metadata": {
    "code_folding": [
     0
    ]
   },
   "source": [
    "insert new pickup and delivery into route to get new_route"
   ]
  },
  {
   "cell_type": "code",
   "execution_count": 24,
   "metadata": {
    "code_folding": [
     0
    ],
    "collapsed": false
   },
   "outputs": [],
   "source": [
    "@numba.jit(nopython=True)\n",
    "def insert_into_route(i,j,pickup,delivery,route):\n",
    "    new_route = np.empty(route.shape[0]+2)\n",
    "    new_route[:i] = route[:i]\n",
    "    new_route[i] = pickup\n",
    "    new_route[i+1:j] = route[i:j-1]\n",
    "    new_route[j] = delivery\n",
    "    new_route[j+1:] = route[j-1:]\n",
    "    return new_route"
   ]
  },
  {
   "cell_type": "markdown",
   "metadata": {},
   "source": [
    "from route build adj_matrix, load_table, time_table"
   ]
  },
  {
   "cell_type": "code",
   "execution_count": 25,
   "metadata": {
    "collapsed": false
   },
   "outputs": [
    {
     "data": {
      "text/plain": [
       "array([  0.00000000e+000,   4.94065646e-324,   5.43472210e-323])"
      ]
     },
     "execution_count": 25,
     "metadata": {},
     "output_type": "execute_result"
    }
   ],
   "source": [
    "np.empty([3])"
   ]
  },
  {
   "cell_type": "code",
   "execution_count": 26,
   "metadata": {
    "code_folding": [],
    "collapsed": false
   },
   "outputs": [],
   "source": [
    "@numba.jit\n",
    "def route_2_adjM(route, adjM, veh_id):\n",
    "    cand_adjM = adjM.copy()\n",
    "    #for only 1 veh so  cand_adjm = 2dim array \n",
    "    cand_adjM[veh_id,:,:] = 0    \n",
    "    for k in xrange(route.shape[0]-1):\n",
    "        cand_adjM[veh_id, route[k],route[k+1]] = 1\n",
    "    return cand_adjM\n",
    "\n",
    "@numba.jit\n",
    "def route_2_tt(route, tt, veh_id):\n",
    "    cand_tt = tt.copy() \n",
    "    cand_tt[:,veh_id] = 0 \n",
    "    \n",
    "    for k in xrange(route.shape[0]-1):\n",
    "        frm = route[k]\n",
    "        to = route[k+1]\n",
    "        T_arriv = cand_tt[frm,veh_id] + service_times[frm] + distance_matrix[frm,to]\n",
    "        cand_tt[to,veh_id] = max(T_arriv, time_windows_start[to])      \n",
    "    return cand_tt\n",
    "\n",
    "@numba.jit\n",
    "def route_2_lt(route, lt, veh_id):\n",
    "    cand_lt = lt.copy()\n",
    "    cand_lt[:,veh_id] = 0\n",
    "\n",
    "    for k in xrange(route.shape[0]-1):\n",
    "        frm = route[k]\n",
    "        to = route[k+1]\n",
    "        cand_lt[to, veh_id] =  cand_lt[frm,veh_id] + request_demands[to]  \n",
    "    return cand_lt      "
   ]
  },
  {
   "cell_type": "markdown",
   "metadata": {},
   "source": [
    "## validation of candidate. implement constraints from paper\n",
    "make life first bit easier"
   ]
  },
  {
   "cell_type": "code",
   "execution_count": 27,
   "metadata": {
    "collapsed": false
   },
   "outputs": [],
   "source": [
    "PICKUPS = range(0,2*n_req,2)\n",
    "DELIVERIES = range(1,2*n_req,2)\n",
    "REQ_LOCS = range(2*n_req)\n",
    "VEHICLES = range(n_veh)\n",
    "\n",
    "def Vks(veh_id):\n",
    "    return REQ_LOCS + list(vehid_2_locids(veh_id))"
   ]
  },
  {
   "cell_type": "markdown",
   "metadata": {},
   "source": [
    "constraint 2 ensures that each pickup location is visited or that the corresponding request is placed in the\n",
    "request bank\n",
    "\n"
   ]
  },
  {
   "cell_type": "code",
   "execution_count": 46,
   "metadata": {
    "collapsed": true
   },
   "outputs": [],
   "source": [
    "def constr2(adjM, rb):\n",
    "    for pickup in PICKUPS:\n",
    "        if not adjM[:,pickup, REQ_LOCS].sum() + rb[pickup/2] == 1:\n",
    "            #print 'fail 2'\n",
    "            return False\n",
    "    return True"
   ]
  },
  {
   "cell_type": "markdown",
   "metadata": {},
   "source": [
    " Constraint (3) ensures that the delivery location is visited if the pickup location is visited and\n",
    "that the visit is performed by the same vehicle"
   ]
  },
  {
   "cell_type": "code",
   "execution_count": 29,
   "metadata": {
    "collapsed": false
   },
   "outputs": [],
   "source": [
    "def constr3(adjM):\n",
    "    for veh in VEHICLES:\n",
    "        Vk = Vks(veh)\n",
    "        for pickup in PICKUPS:\n",
    "            delivery = pickup+1\n",
    "            if not np.sum(adjM[veh,pickup,Vk]) - np.sum(adjM[veh, Vk, delivery]) == 0:\n",
    "                print 'fail 3'\n",
    "                return False\n",
    "    return True"
   ]
  },
  {
   "cell_type": "markdown",
   "metadata": {},
   "source": [
    " Constraints (4) and (5) ensure that a vehicle leaves every start\n",
    "terminal and a vehicle enters every end terminal. Together with constraint (6) this ensures that consecutive\n",
    "paths between τk and τ\n",
    "0\n",
    "k\n",
    "are formed for each k ∈ K\n",
    "\n",
    "    ∑j∈Pk∪{τ0k}xτk, j,k = 1 ∀k ∈ K (4)\n",
    "    ∑i∈Dk∪{τk}xi,τ0k,k = 1 ∀k ∈ K (5)\n",
    "    ∑i∈Vkxi jk − ∑i∈Vk xjik = 0 ∀k ∈ K,∀ j ∈ Nk (6)"
   ]
  },
  {
   "cell_type": "code",
   "execution_count": 30,
   "metadata": {
    "collapsed": false
   },
   "outputs": [],
   "source": [
    "def constr4(adjM):\n",
    "    for k in VEHICLES:\n",
    "        vehicle_start,vehicle_end = vehid_2_locids(k)\n",
    "        loc_list = PICKUPS + [vehicle_end]\n",
    "        if not adjM[k,vehicle_start,loc_list].sum() == 1:\n",
    "            print 'fail 4'\n",
    "            return False\n",
    "    return True\n",
    "\n",
    "def constr5(adjM):\n",
    "    for k in VEHICLES:\n",
    "        vehicle_start,vehicle_end = vehid_2_locids(k)\n",
    "        loc_list = DELIVERIES + [vehicle_start]\n",
    "        if not adjM[k,loc_list,vehicle_end].sum() == 1:\n",
    "            print 'fail 5'\n",
    "            return False\n",
    "    return True\n",
    "    \n",
    "def constr6(adjM):\n",
    "    for k in VEHICLES:\n",
    "        vk = Vks(k)\n",
    "        for loc in REQ_LOCS:        \n",
    "            if not adjM[k,vk,loc].sum() - adjM[k,loc,vk].sum() == 0:\n",
    "                print 'fail 6'\n",
    "                return false\n",
    "    return True"
   ]
  },
  {
   "cell_type": "markdown",
   "metadata": {},
   "source": [
    "Constraints (7), (8) ensure that Sik is set correctly along the paths and that the time windows are obeyed.\n",
    "These constraints also make sub tours impossible\n",
    "\n",
    "\n",
    "    xi jk = 1 ⇒ Sik +si +ti j ≤ Sjk ∀k ∈ K,∀(i, j) ∈ Ak     (7)"
   ]
  },
  {
   "cell_type": "code",
   "execution_count": 32,
   "metadata": {
    "collapsed": false
   },
   "outputs": [],
   "source": [
    "def constr7(adjM, tt, vehs=VEHICLES):\n",
    "    \"\"\"\n",
    "    use third variable vehs if to indicate which vehicels to check. default = all\n",
    "    \"\"\"\n",
    "    indices = np.transpose(np.nonzero(adjM[vehs,:,:]))\n",
    "    for veh,pickup,delivery in indices:\n",
    "        if not (tt[pickup, veh] + service_times[pickup] + distance_matrix[pickup,delivery] \\\n",
    "                                                <= tt[delivery, veh]):\n",
    "            print 'fail 7'\n",
    "            return False\n",
    "    return True               "
   ]
  },
  {
   "cell_type": "markdown",
   "metadata": {},
   "source": [
    "    ai ≤ Sik ≤ bi ∀k ∈ K,∀i ∈ Vk   (8)"
   ]
  },
  {
   "cell_type": "code",
   "execution_count": 33,
   "metadata": {
    "collapsed": false
   },
   "outputs": [],
   "source": [
    "\n",
    "#def constr8(tt):\n",
    "#    \"\"\"\n",
    "#    use third variable vehs if to indicate which vehicels to check. default = all\n",
    "#    \"\"\"\n",
    "#    indices = np.transpose(np.nonzero(tt))\n",
    "#    for loc,veh in indices:\n",
    "#        # print 'loc,veh = ', loc, veh\n",
    "#        if not (time_windows_start[loc] <= tt[loc, veh] <= time_windows_end[loc]):\n",
    "#        #    print 'fail 8'\n",
    "#            return False\n",
    "#    return True        \n",
    "\n",
    "@numba.jit(nopython=True)\n",
    "def constr8(tt):\n",
    "    locs,vehs = np.nonzero(tt)\n",
    "    for i in range(locs.shape[0]):\n",
    "        if not (time_windows_start[locs[i]] <= tt[locs[i], vehs[i]] <= time_windows_end[locs[i]]):\n",
    "            return False\n",
    "    return True  "
   ]
  },
  {
   "cell_type": "markdown",
   "metadata": {},
   "source": [
    "Constraint (9) ensures that each pickup occur before the\n",
    "corresponding delivery\n",
    "      \n",
    "      \n",
    "      Sik ≤ Sn+i,k ∀k ∈ K,∀i ∈ Pk"
   ]
  },
  {
   "cell_type": "code",
   "execution_count": 34,
   "metadata": {
    "collapsed": true
   },
   "outputs": [],
   "source": [
    "def constr9(tt):\n",
    "    for veh in VEHICLES:\n",
    "        for pickup in PICKUPS:\n",
    "            delivery = pickup+1\n",
    "            if not tt[pickup,veh] <= tt[delivery,veh]:\n",
    "                print 'fail 9'\n",
    "                return False\n",
    "    return True"
   ]
  },
  {
   "cell_type": "markdown",
   "metadata": {},
   "source": [
    " Constraints (10),(11) and (12) ensure that the load variable is set correctly along the\n",
    "paths and that the capacity constraints of the vehicles are respected.\n",
    "\n",
    "    xi jk = 1 ⇒ Lik +lj ≤ Ljk ∀k ∈ K,∀(i, j) ∈ Ak (10)\n",
    "    Lik ≤ Ck ∀k ∈ K,∀i ∈ Vk (11)\n",
    "    Lτkk = Lτ0kk = 0 ∀k ∈ K (12)\n"
   ]
  },
  {
   "cell_type": "code",
   "execution_count": 35,
   "metadata": {
    "collapsed": false
   },
   "outputs": [],
   "source": [
    "def constr10(adjM,lt):\n",
    "    idxs = np.transpose(np.nonzero(adjM))\n",
    "    for veh, pickup, delivery in idxs:\n",
    "        if not lt[pickup, veh] + request_demands[delivery] <= lt[delivery,veh]:\n",
    "            print 'fail 10'\n",
    "            return False\n",
    "    return True        \n",
    "\n",
    "def constr11(lt):\n",
    "    for veh in VEHICLES:\n",
    "        for loc in Vks(veh):\n",
    "            if not lt[loc,veh] <= veh_cap[veh]:\n",
    "                print 'fail 11'\n",
    "                return False\n",
    "    return True\n",
    "\n",
    "def constr12(lt):\n",
    "    for veh in VEHICLES:\n",
    "        start,end = vehid_2_locids(veh)\n",
    "        if lt[start,veh] or lt[start,veh]:\n",
    "            print 'fail 12'\n",
    "            return False\n",
    "    return True"
   ]
  },
  {
   "cell_type": "markdown",
   "metadata": {},
   "source": [
    "## check all constraints defined above"
   ]
  },
  {
   "cell_type": "code",
   "execution_count": 50,
   "metadata": {
    "collapsed": true
   },
   "outputs": [],
   "source": [
    "\n",
    "def check_feasibility(adjM, tt, lt, rb):\n",
    "    \"\"\"\n",
    "    checks feasiblity \n",
    "    \"\"\"\n",
    "    if not constr8(tt):\n",
    "        return False\n",
    "    if not constr2(adjM,rb):\n",
    "        return False\n",
    "    #print 'not failed constr 2'\n",
    "    if not constr3(adjM):\n",
    "        return False\n",
    "    if not constr7(adjM,tt):\n",
    "        return False\n",
    "    if not constr4(adjM):\n",
    "        return False\n",
    "    if not constr5(adjM):\n",
    "        return False\n",
    "    if not constr6(adjM):\n",
    "        return False\n",
    "    if not constr9(tt):\n",
    "        return False\n",
    "    if not constr10(adjM, lt):\n",
    "        return False\n",
    "    if not constr11(lt):\n",
    "        return False\n",
    "    if not constr12(lt):\n",
    "        return False\n",
    "    return True"
   ]
  },
  {
   "cell_type": "markdown",
   "metadata": {},
   "source": [
    "copy original decision variables, so that new route can be inserted, without losing current solution"
   ]
  },
  {
   "cell_type": "code",
   "execution_count": 37,
   "metadata": {
    "collapsed": false
   },
   "outputs": [],
   "source": [
    "adj_matrix_orig = adj_matrix.copy()\n",
    "time_table_orig = time_table.copy()\n",
    "load_table_orig = load_table.copy()\n",
    "request_bank_orig = request_bank.copy()\n",
    "route_orig = route.copy()"
   ]
  },
  {
   "cell_type": "markdown",
   "metadata": {},
   "source": [
    "make new objective value function to make life easier"
   ]
  },
  {
   "cell_type": "code",
   "execution_count": 38,
   "metadata": {
    "collapsed": false,
    "scrolled": true
   },
   "outputs": [],
   "source": [
    "def calc_ov(adjM, tt, rb) :\n",
    "    distance = calc_distance(adjM,distance_matrix)\n",
    "    duration = calc_duration(tt)\n",
    "    n_request_bank = rb.sum()\n",
    "    return calc_objective_value(distance,duration,n_request_bank)"
   ]
  },
  {
   "cell_type": "markdown",
   "metadata": {},
   "source": [
    "where can pickups be inserted? if n current locations, list with pickup will be n+1 in length, the pickup can become position in  1,2,...,n-1, because 0 is for start vehicle, and n is for end location vehicle. delivery can come after pickup with last location being n, since n+1 is for end vehicle"
   ]
  },
  {
   "cell_type": "code",
   "execution_count": 70,
   "metadata": {
    "code_folding": [],
    "collapsed": false,
    "scrolled": true
   },
   "outputs": [
    {
     "name": "stdout",
     "output_type": "stream",
     "text": [
      "CPU times: user 1.97 ms, sys: 3.93 ms, total: 5.9 ms\n",
      "Wall time: 5.13 ms\n"
     ]
    },
    {
     "name": "stderr",
     "output_type": "stream",
     "text": [
      "/home/sandralaptop/anaconda2/lib/python2.7/site-packages/ipykernel/__main__.py:15: DeprecationWarning: using a non-integer number instead of an integer will result in an error in the future\n",
      "/home/sandralaptop/anaconda2/lib/python2.7/site-packages/ipykernel/__main__.py:16: DeprecationWarning: using a non-integer number instead of an integer will result in an error in the future\n",
      "/home/sandralaptop/anaconda2/lib/python2.7/site-packages/ipykernel/__main__.py:17: DeprecationWarning: using a non-integer number instead of an integer will result in an error in the future\n"
     ]
    }
   ],
   "source": [
    "\n",
    "def insert_req(veh_id ,req_id,adj_matrix, time_table, load_table, request_bank):\n",
    "    route = vehid_2_route(veh_id,time_table)\n",
    "    n_pos = len(route) - 1\n",
    "    n_current = len(route)\n",
    "    cand_rb = request_bank.copy()\n",
    "    cand_rb[req_id] = 0\n",
    "    start_req, end_req = reqid_2_locids(req_id)\n",
    "#    valid_solutions = []\n",
    "    for i in xrange(1,n_current):\n",
    "        for j in xrange(i+1,n_current+1): \n",
    "# from here: put in function\n",
    "            new_route = insert_into_route(i,j,start_req, end_req, route)\n",
    "\n",
    "            cand_adjM = route_2_adjM(new_route, adj_matrix, veh_id)\n",
    "            cand_tt = route_2_tt(new_route, time_table, veh_id)\n",
    "            cand_lt = route_2_lt(new_route, load_table, veh_id)\n",
    "\n",
    "            #validate \n",
    "            is_feasible = check_feasibility(cand_adjM, cand_tt, cand_lt, cand_rb)\n",
    "            if not is_feasible:\n",
    "                continue\n",
    "            objValue = calc_ov(cand_adjM, cand_tt, cand_rb)  \n",
    "# till here: put in fucntion\n",
    "#            valid_solutions.append([objValue,list(new_route)])\n",
    "#    print valid_solutions\n",
    "            \n",
    "%time insert_req(veh_id ,req_id,adj_matrix, time_table, load_table, request_bank)"
   ]
  },
  {
   "cell_type": "code",
   "execution_count": 69,
   "metadata": {
    "collapsed": false
   },
   "outputs": [
    {
     "name": "stdout",
     "output_type": "stream",
     "text": [
      "[0, 1, 2, 3, 4]\n"
     ]
    }
   ],
   "source": [
    "a = range(5)\n",
    "b = list(a)\n",
    "a[3] = 1\n",
    "print b"
   ]
  },
  {
   "cell_type": "code",
   "execution_count": 40,
   "metadata": {
    "collapsed": false
   },
   "outputs": [
    {
     "ename": "SyntaxError",
     "evalue": "invalid syntax (<ipython-input-40-f9ef205a8f26>, line 1)",
     "output_type": "error",
     "traceback": [
      "\u001b[1;36m  File \u001b[1;32m\"<ipython-input-40-f9ef205a8f26>\"\u001b[1;36m, line \u001b[1;32m1\u001b[0m\n\u001b[1;33m    stop here\u001b[0m\n\u001b[1;37m            ^\u001b[0m\n\u001b[1;31mSyntaxError\u001b[0m\u001b[1;31m:\u001b[0m invalid syntax\n"
     ]
    }
   ],
   "source": [
    "stop here"
   ]
  },
  {
   "cell_type": "code",
   "execution_count": null,
   "metadata": {
    "collapsed": false,
    "scrolled": true
   },
   "outputs": [],
   "source": [
    "import line_profiler\n",
    "import IPython\n",
    "ip = IPython.get_ipython()\n",
    "ip.define_magic('lprun', line_profiler.magic_lprun)\n"
   ]
  },
  {
   "cell_type": "code",
   "execution_count": null,
   "metadata": {
    "collapsed": false
   },
   "outputs": [],
   "source": [
    "%lprun -f insert_req insert_req(veh_id ,req_id,adj_matrix_orig, time_table_orig, load_table_orig, request_bank_orig)"
   ]
  },
  {
   "cell_type": "code",
   "execution_count": null,
   "metadata": {
    "collapsed": false
   },
   "outputs": [],
   "source": [
    "%lprun -f check_feasibility check_feasibility(adj_matrix, time_table, load_table, request_bank)"
   ]
  },
  {
   "cell_type": "code",
   "execution_count": null,
   "metadata": {
    "collapsed": false
   },
   "outputs": [],
   "source": [
    "%lprun -f route_2_tt route_2_tt(route, time_table, veh_id)"
   ]
  },
  {
   "cell_type": "code",
   "execution_count": null,
   "metadata": {
    "collapsed": false
   },
   "outputs": [],
   "source": [
    "%lprun -f constr6 constr6(adj_matrix)"
   ]
  },
  {
   "cell_type": "markdown",
   "metadata": {},
   "source": [
    "first for the first entry of the request bank print all the combinations of insertions in the first route."
   ]
  },
  {
   "cell_type": "code",
   "execution_count": null,
   "metadata": {
    "collapsed": true
   },
   "outputs": [],
   "source": []
  },
  {
   "cell_type": "markdown",
   "metadata": {},
   "source": [
    "Now print all the insertion pairs that are possible with load and time"
   ]
  },
  {
   "cell_type": "code",
   "execution_count": null,
   "metadata": {
    "collapsed": false
   },
   "outputs": [],
   "source": [
    "a = np.zeros((3,3))\n",
    "a[[0,0,0],[0,1,2]] = 1\n",
    "print a"
   ]
  },
  {
   "cell_type": "code",
   "execution_count": null,
   "metadata": {
    "collapsed": true
   },
   "outputs": [],
   "source": []
  },
  {
   "cell_type": "markdown",
   "metadata": {},
   "source": [
    "### cost matrix per truck\n",
    "Output:\n",
    "\n",
    "the costs for:\n",
    "- for each truck that the request can be inserted into\n",
    "- for each location in the route the pickup of the request can be inserted into\n",
    "- for each location in the route the delivery of the request can be inserted into\n",
    "\n",
    "\n",
    "Input:\n",
    "- start and end time of route\n",
    "- distance matrix\n",
    "-"
   ]
  },
  {
   "cell_type": "code",
   "execution_count": null,
   "metadata": {
    "collapsed": false
   },
   "outputs": [],
   "source": []
  },
  {
   "cell_type": "markdown",
   "metadata": {},
   "source": [
    "### cost matrix per truck per request\n",
    "output:\n",
    "\n",
    "the costs for\n",
    "- for each location in the route the pickup of the request can be inserted into\n",
    "- for each location in the route the delivery of the request can be inserted into"
   ]
  },
  {
   "cell_type": "code",
   "execution_count": null,
   "metadata": {
    "collapsed": true
   },
   "outputs": [],
   "source": []
  },
  {
   "cell_type": "markdown",
   "metadata": {},
   "source": [
    "### Given:  route, request, pickup method\n",
    "-1 check if pickup method possible time and load else continue with next pickup method. \n",
    "iterate over delivery methods\n",
    "output:\n",
    "\n",
    "the costs for\n",
    "- for each location in the route the delivery of the request can be inserted into"
   ]
  },
  {
   "cell_type": "code",
   "execution_count": null,
   "metadata": {
    "collapsed": true
   },
   "outputs": [],
   "source": []
  },
  {
   "cell_type": "markdown",
   "metadata": {
    "code_folding": [
     0,
     5,
     9
    ]
   },
   "source": [
    "### Given: route, request, pickup method, delivery method\n",
    "-1 check if delivery possible with time and load and etc..\n",
    "-2 remove edges \n",
    "-3 place new edges\n",
    "-4 calculate costs with distance matrix and service times"
   ]
  },
  {
   "cell_type": "code",
   "execution_count": null,
   "metadata": {
    "collapsed": false
   },
   "outputs": [],
   "source": [
    "%%timeit\n",
    "total = 0\n",
    "for x in (0,1,2,3):\n",
    "        for y in (0,1,2,3):\n",
    "            if x < y:\n",
    "                total+=x+y"
   ]
  },
  {
   "cell_type": "code",
   "execution_count": null,
   "metadata": {
    "collapsed": false
   },
   "outputs": [],
   "source": []
  },
  {
   "cell_type": "code",
   "execution_count": null,
   "metadata": {
    "code_folding": [
     0
    ],
    "collapsed": false
   },
   "outputs": [],
   "source": [
    "def build_cost_matrix():\n",
    "    reqs_to_insert = np.flatnonzero(request_bank)\n",
    "    n_insert = len(reqs_to_insert)\n",
    "    # insertion cost vehicle i uninserted req j\n",
    "    cost_matr = np.zeros(n_veh, n_insert)\n",
    "    for truck_i in xrange(n_veh):\n",
    "\n",
    "\n",
    "        for j, req in enumerate(reqs_to_insert):\n",
    "\n",
    "\n",
    "        #check whether truck i can service request j\n",
    "            if req in dict_servicable.keys():\n",
    "                if truck_i not in dict_servicable[req]:\n",
    "                    cost_matr[truck_i][j] = np.inf\n",
    "                    print \"truck {0} cannot serve request {1} \".format(truck_i, req)\n",
    "                    continue\n",
    "\n",
    "        # can be serviced now caluclate cheapest place to insert and cost\n",
    "        get_best_insert()"
   ]
  },
  {
   "cell_type": "markdown",
   "metadata": {},
   "source": [
    "## Determine which insertion should be picked\n",
    "\n",
    "Check per request what the cheapest insertion is(whcih route, when to pickup, when to deliver)\n",
    "\n",
    "After inserting recalculate the insertion costs for all request in request bank for the route that the last request was inserted into. Insertion costs into other routes stayed the same."
   ]
  },
  {
   "cell_type": "code",
   "execution_count": null,
   "metadata": {
    "collapsed": true
   },
   "outputs": [],
   "source": [
    "\n",
    "\n",
    "def store_solution():\n",
    "    solutions[iteration] = {\n",
    "        'adj_matrix': adj_matrix.copy(), \n",
    "        'time_table': time_table.copy(),\n",
    "        'load_table': load_table.copy(),\n",
    "        'request_bank': request_bank.copy() \n",
    "        }\n",
    "\n",
    "\n",
    "\n",
    "\n",
    "\n",
    "\n",
    "\n"
   ]
  },
  {
   "cell_type": "code",
   "execution_count": null,
   "metadata": {
    "collapsed": true
   },
   "outputs": [],
   "source": [
    "import numpy as np"
   ]
  },
  {
   "cell_type": "code",
   "execution_count": null,
   "metadata": {
    "collapsed": false
   },
   "outputs": [],
   "source": [
    "a = np.zeros((5000,5000))\n",
    "a[1000][1000] = 1\n",
    "a[1000][2000] = 1\n",
    "b = a.copy()\n",
    "%time a[1000][:] = 0\n",
    "%time b[1000][3000] = 0; b[1000][2000] = 0; b[1000][3000] = 0"
   ]
  },
  {
   "cell_type": "code",
   "execution_count": null,
   "metadata": {
    "collapsed": false
   },
   "outputs": [],
   "source": [
    "#%lprun -f insert_into_route insert_into_route(1,2,start_req, end_req, route_orig)"
   ]
  },
  {
   "cell_type": "code",
   "execution_count": null,
   "metadata": {
    "collapsed": true
   },
   "outputs": [],
   "source": [
    "#%lprun -f vehid_2_route vehid_2_route(veh_id,time_table_orig)"
   ]
  },
  {
   "cell_type": "code",
   "execution_count": null,
   "metadata": {
    "collapsed": true
   },
   "outputs": [],
   "source": [
    "lprun -f route_2_tt route_2_tt(route, time_table, veh_id)"
   ]
  },
  {
   "cell_type": "markdown",
   "metadata": {},
   "source": [
    "## create object \n"
   ]
  },
  {
   "cell_type": "markdown",
   "metadata": {},
   "source": [
    "## Greedy insert heuristic"
   ]
  },
  {
   "cell_type": "code",
   "execution_count": null,
   "metadata": {
    "collapsed": false
   },
   "outputs": [],
   "source": [
    "print params"
   ]
  }
 ],
 "metadata": {
  "kernelspec": {
   "display_name": "Python 2",
   "language": "python",
   "name": "python2"
  }
 },
 "nbformat": 4,
 "nbformat_minor": 0
}
