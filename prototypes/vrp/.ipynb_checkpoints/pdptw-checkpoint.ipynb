{
 "cells": [
  {
   "cell_type": "markdown",
   "metadata": {},
   "source": [
    "# Kees thesis prototype\n",
    "## implementing An Adaptive Large Neighborhood Search Heuristic for the Pickup and Delivery Problem with Time Windows \n",
    "[paper](http://orbit.dtu.dk/fedora/objects/orbit:8676/datastreams/file_3154899/content) from Stefan Ropke, David Pisinger, 2005\n",
    "\n"
   ]
  },
  {
   "cell_type": "markdown",
   "metadata": {},
   "source": [
    "## Purpose\n",
    "solve instances that are used by them in the paper"
   ]
  },
  {
   "cell_type": "markdown",
   "metadata": {},
   "source": [
    "## Math model\n",
    "A problem instance of the pickup and delivery problem contains:\n",
    "- n requests and m vehicles."
   ]
  },
  {
   "cell_type": "code",
   "execution_count": 1,
   "metadata": {
    "collapsed": false,
    "scrolled": false
   },
   "outputs": [],
   "source": [
    "import ipywidgets as widgets\n",
    "from IPython.display import display\n"
   ]
  },
  {
   "cell_type": "code",
   "execution_count": 9,
   "metadata": {
    "collapsed": false
   },
   "outputs": [],
   "source": [
    "#widgets\n",
    "input_widget_cus = widgets.IntText(description = 'number of customers:', value=5)\n",
    "input_widget_veh = widgets.IntText(description = 'number of vehicles:', value=3)\n",
    "\n",
    "#style\n",
    "input_widget_container = widgets.Box(children=[input_widget_cus, input_widget_veh])\n",
    "display(input_widget_container)\n",
    "\n"
   ]
  },
  {
   "cell_type": "markdown",
   "metadata": {},
   "source": [
    "the global variables that I am going to store input in from widget"
   ]
  },
  {
   "cell_type": "code",
   "execution_count": 10,
   "metadata": {
    "collapsed": false
   },
   "outputs": [],
   "source": [
    "NUMBER_OF_CUSTOMER = 0\n",
    "NUMBER_OF_VEHICLES = 0"
   ]
  },
  {
   "cell_type": "code",
   "execution_count": 11,
   "metadata": {
    "collapsed": false
   },
   "outputs": [
    {
     "name": "stdout",
     "output_type": "stream",
     "text": [
      "number of customers = 5, number of vehicles = 3\n",
      "number of customers = 5, number of vehicles = 8\n"
     ]
    }
   ],
   "source": [
    "\n",
    "button = widgets.Button(description=\"set input values\")\n",
    "display(button)\n",
    "\n",
    "def on_button_clicked(b):\n",
    "    global NUMBER_OF_CUSTOMER, NUMBER_OF_VEHICLES\n",
    "    if input_widget_cus.value != NUMBER_OF_CUSTOMER or input_widget_veh.value != NUMBER_OF_VEHICLES:\n",
    "        NUMBER_OF_CUSTOMER = input_widget_cus.value\n",
    "        NUMBER_OF_VEHICLES = input_widget_veh.value\n",
    "        print 'number of customers = ' + str(NUMBER_OF_CUSTOMER) + ', number of vehicles = ' + str(NUMBER_OF_VEHICLES) \n",
    "\n",
    "button.on_click(on_button_clicked)"
   ]
  },
  {
   "cell_type": "code",
   "execution_count": 26,
   "metadata": {
    "collapsed": false
   },
   "outputs": [
    {
     "name": "stdout",
     "output_type": "stream",
     "text": [
      "Setup a handler to be called when a trait changes.\n",
      "\n",
      "        This is used to setup dynamic notifications of trait changes.\n",
      "\n",
      "        Static handlers can be created by creating methods on a HasTraits\n",
      "        subclass with the naming convention '_[traitname]_changed'.  Thus,\n",
      "        to create static handler for the trait 'a', create the method\n",
      "        _a_changed(self, name, old, new) (fewer arguments can be used, see\n",
      "        below).\n",
      "\n",
      "        Parameters\n",
      "        ----------\n",
      "        handler : callable\n",
      "            A callable that is called when a trait changes.  Its\n",
      "            signature can be handler(), handler(name), handler(name, new)\n",
      "            or handler(name, old, new).\n",
      "        name : list, str, None\n",
      "            If None, the handler will apply to all traits.  If a list\n",
      "            of str, handler will apply to all names in the list.  If a\n",
      "            str, the handler will apply just to that name.\n",
      "        remove : bool\n",
      "            If False (the default), then install the handler.  If True\n",
      "            then unintall it.\n",
      "        \n"
     ]
    }
   ],
   "source": [
    "print(widgets.Widget.on_trait_change.__doc__)"
   ]
  },
  {
   "cell_type": "code",
   "execution_count": 44,
   "metadata": {
    "collapsed": false,
    "scrolled": true
   },
   "outputs": [
    {
     "name": "stdout",
     "output_type": "stream",
     "text": [
      "{'a': array([-0.37945805,  0.40182156]), 'c': array([0, 0]), 'b': array([-0.57049825,  0.99118926]), 'e': array([ 0.09671371, -0.40594955]), 'd': array([-0.6261533 , -0.33554476]), 'f': array([ 1.        , -0.42694946])}\n"
     ]
    },
    {
     "data": {
      "image/png": "[encoded data removed]",
      "text/plain": [
       "<matplotlib.figure.Figure at 0x7fc3c561d590>"
      ]
     },
     "metadata": {},
     "output_type": "display_data"
    }
   ],
   "source": [
    "import matplotlib.pyplot as plt\n",
    "%matplotlib inline\n",
    "import networkx as nx\n",
    "\n",
    "G=nx.Graph()\n",
    "\n",
    "G.add_edge('a','b',weight=0.6)\n",
    "G.add_edge('a','c',weight=0.2)\n",
    "G.add_edge('c','d',weight=0.1)\n",
    "G.add_edge('c','e',weight=0.7)\n",
    "G.add_edge('c','f',weight=0.9)\n",
    "G.add_edge('a','d',weight=0.3)\n",
    "\n",
    "elarge=[(u,v) for (u,v,d) in G.edges(data=True) if d['weight'] >0.5]\n",
    "esmall=[(u,v) for (u,v,d) in G.edges(data=True) if d['weight'] <=0.5]\n",
    "\n",
    "pos=nx.spring_layout(G) # positions for all nodes\n",
    "pos['c'] = np.array([0,0])\n",
    "print pos\n",
    "# nodes \n",
    "nx.draw_networkx_nodes(G,pos,node_size=700) #KEESEDIT change pos for other position\n",
    "\n",
    "# edges\n",
    "nx.draw_networkx_edges(G,pos,edgelist=elarge, width=6)\n",
    "nx.draw_networkx_edges(G,pos,edgelist=esmall,\n",
    "                    width=6,alpha=0.5,edge_color='b',style='dashed')\n",
    "\n",
    "# labels\n",
    "nx.draw_networkx_labels(G,pos,font_size=20,font_family='sans-serif')\n",
    "\n",
    "# plt.axis('off')\n",
    "# plt.savefig(\"weighted_graph.png\") # save as png\n",
    "plt.show() # display"
   ]
  },
  {
   "cell_type": "code",
   "execution_count": 40,
   "metadata": {
    "collapsed": false
   },
   "outputs": [
    {
     "name": "stdout",
     "output_type": "stream",
     "text": [
      "{1: array([0, 1])}\n"
     ]
    }
   ],
   "source": [
    "import numpy as np\n",
    "print {a: np.array([0,1])}"
   ]
  },
  {
   "cell_type": "markdown",
   "metadata": {},
   "source": [
    " \n",
    "- The problem is defined on a graph, P = {1,··· ,n} is the set of pickup nodes, D = {n+1,··· ,2n} is the set of delivery nodes.\n",
    "- Request i is represented by nodes i and i+n. \n",
    "- K is the set of all vehicles, |K| = m. One vehicle might not be able\n",
    "to serve all requests, as an example a request might require that the vehicle has a freezing compartment. Ki is the set of vehicles that are able to serve request i and Pk ⊆ P and Dk ⊆ D are the set of pickups and deliveries, respectively, that can be served by vehicle k, thus for all i and k: k ∈ Ki ⇔ i ∈ Pk∧i∈ Dk. Requests where Ki is not K\n",
    "are called special requests. \n",
    "- Define N = P∪D and Nk = Pk∪Dk. \n",
    "- Let τk = 2n+k, k ∈ K and τ'k = 2n+m+k, k ∈ K\n",
    "be the nodes that represents the start and end terminal, respectively, of vehicle k.  \n",
    "- The graph G = (V,A) consists of the nodes V = N ∪ {τ1,··· ,τm} ∪ {τ'1,··· ,τ'm} and the arcs A = V ×V. For each vehicle we have a subgraph Gk = (Vk,Ak), where Vk = Nk ∪ {τk} ∪ \b{τ'k} and Ak = Vk ×Vk. \n",
    "- for each edge (i, j) ∈ A we assign a distance\n",
    "dij ≥ 0 and a travel time ti j ≥ 0. It is assumed that distances and times are nonnegative; dij ≥ 0,tij ≥ 0 and that\n",
    "the times satisfy the triangle inequality; tij ≤ til +tlj for all i, j,l ∈V. For the sake of modeling we also assume\n",
    "that ti,n+i +si > 0, this makes elimination of sub tours and the pickup-before-delivery constraint easy to model.\n",
    "Each node i ∈V has a service time si and a time window [ai\n",
    ",bi\n",
    "]. The service time represents the time needed\n",
    "for loading and unloading and the time window indicates when the visit at the particular location must start; a\n",
    "visit to node i can only take place between time ai and bi\n",
    ". A vehicle is allowed to arrive to a location before the\n",
    "start of the time window but it has to wait until the start of the time window before the visit can be performed.\n",
    "For each node i ∈ N, li\n",
    "is the amount of goods that must be loaded onto the vehicle at the particular node, li ≥ 0\n",
    "for i ∈ P and li = −li−n for i ∈ D. The capacity of vehicle k ∈ K is denoted Ck.\n",
    "Four types of decision variables are used in the mathematical model. xi jk, i, j ∈V,k ∈ K is a binary variable\n",
    "which is one if the edge between node i and node j is used by vehicle k and zero otherwise. Sik, i ∈V,k ∈ K is a\n",
    "nonnegative integer that indicates when vehicle k starts the service at location i, Lik, i ∈V,k ∈ K is a nonnegative\n",
    "integer that is an upper bound on the amount of goods on vehicle k after servicing node i. Sik and Lik are only\n",
    "well-defined when vehicle k actually visits node i. Finally zi\n",
    ", i ∈ P is a binary variable that indicates if request i\n",
    "is placed in the request bank. The variable is one if the request is placed in the request bank and zero otherwise."
   ]
  },
  {
   "cell_type": "markdown",
   "metadata": {},
   "source": []
  },
  {
   "cell_type": "markdown",
   "metadata": {},
   "source": [
    "## load test data\n",
    "find a credible database with test instances. Load into pandas dataframe with best solutions\n"
   ]
  },
  {
   "cell_type": "code",
   "execution_count": null,
   "metadata": {
    "collapsed": true
   },
   "outputs": [],
   "source": []
  }
 ],
 "metadata": {
  "kernelspec": {
   "display_name": "Python 2",
   "language": "python",
   "name": "python2"
  },
  "language_info": {
   "codemirror_mode": {
    "name": "ipython",
    "version": 2
   },
   "file_extension": ".py",
   "mimetype": "text/x-python",
   "name": "python",
   "nbconvert_exporter": "python",
   "pygments_lexer": "ipython2",
   "version": "2.7.11"
  }
 },
 "nbformat": 4,
 "nbformat_minor": 0
}
