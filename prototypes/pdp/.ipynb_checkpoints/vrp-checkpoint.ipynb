{
 "cells": [
  {
   "cell_type": "markdown",
   "metadata": {},
   "source": [
    "## Generate data points and distance matrix\n",
    "    "
   ]
  },
  {
   "cell_type": "code",
   "execution_count": 25,
   "metadata": {
    "collapsed": false
   },
   "outputs": [],
   "source": [
    "import numpy as np\n",
    "import matplotlib.pyplot as plt \n",
    "%matplotlib inline"
   ]
  },
  {
   "cell_type": "markdown",
   "metadata": {},
   "source": [
    "## distance function\n"
   ]
  },
  {
   "cell_type": "code",
   "execution_count": 26,
   "metadata": {
    "collapsed": false
   },
   "outputs": [],
   "source": [
    "\n",
    "def calc_dists(locs): \n",
    "    # returns symmetrical distance matrix with 0 on diagonal\n",
    "    \n",
    "    (l1,l2) = np.shape(locs)\n",
    "    c = np.zeros([l1,l1])\n",
    "    for i in range(l1):\n",
    "        for j in range(l1):\n",
    "            if i >= j:\n",
    "                c[i,j] = 0 \n",
    "            else:\n",
    "                dx = locs[i,0] - locs[j,0]\n",
    "                dy = locs[i,1] - locs[j,1]\n",
    "                c[i,j] = np.math.sqrt(dx**2 + dy**2)\n",
    "#     print c            \n",
    "    return c+c.T\n",
    "\n"
   ]
  },
  {
   "cell_type": "markdown",
   "metadata": {},
   "source": [
    "## setup parameters\n"
   ]
  },
  {
   "cell_type": "code",
   "execution_count": 27,
   "metadata": {
    "collapsed": false
   },
   "outputs": [],
   "source": [
    "# set up variables\n",
    "n_dep = 1 # number of depots\n",
    "n_cus = 5 # number of customers\n",
    "n_veh = 3 # = number of routes\n",
    "\n"
   ]
  },
  {
   "cell_type": "markdown",
   "metadata": {},
   "source": [
    "## init  variables"
   ]
  },
  {
   "cell_type": "code",
   "execution_count": 28,
   "metadata": {
    "collapsed": true
   },
   "outputs": [],
   "source": [
    "#create location\n",
    "locs_dep = np.array([[0., 0.]])\n",
    "locs_cus = 2 * np.random.random([n_cus,2]) - 1 # random in interval(-1,1)\n",
    "locs = np.concatenate((locs_dep, locs_cus))\n",
    "\n",
    "#calculate distance matrix\n",
    "distance_matrix = calc_dists(locs)\n",
    "\n",
    "#setup route list\n",
    "# routes = [[] for x in xrange(n_veh)] #routelist"
   ]
  },
  {
   "cell_type": "markdown",
   "metadata": {},
   "source": [
    "## routes generation"
   ]
  },
  {
   "cell_type": "code",
   "execution_count": 29,
   "metadata": {
    "collapsed": false
   },
   "outputs": [
    {
     "name": "stdout",
     "output_type": "stream",
     "text": [
      "[[0, 1, 2, 3, 4, 0], [0, 0], [0, 5, 0]]\n"
     ]
    }
   ],
   "source": [
    "def gen_test_routes(n_cus, n_veh, n_dep):\n",
    "\n",
    "    \n",
    "    #init routes\n",
    "    routes = [[] for x in xrange(n_veh)]\n",
    "    \n",
    "    \n",
    "    # for all n customers I choose a vehicle.\n",
    "    veh_assignment = np.random.randint(n_veh, size=n_cus)  \n",
    "    \n",
    "    #assign correct locations to routes\n",
    "    for cust_i in range(n_cus):\n",
    "        veh_i = veh_assignment[cust_i]\n",
    "        loc_i = cust_i + n_dep\n",
    "        routes[veh_i].append(loc_i)\n",
    "\n",
    "    # start and end at depot at loc 0\n",
    "    for route_i in routes:\n",
    "        route_i.insert(0,0) #start at depot at loc 0\n",
    "        route_i.append(0) #end at depot at loc 0\n",
    "        \n",
    "    return routes\n",
    "\n",
    "routes = gen_test_routes(n_cus, n_veh, n_dep)   \n",
    "print routes\n",
    "    "
   ]
  },
  {
   "cell_type": "markdown",
   "metadata": {},
   "source": [
    "## Plot function"
   ]
  },
  {
   "cell_type": "code",
   "execution_count": 30,
   "metadata": {
    "code_folding": [
     0
    ],
    "collapsed": false
   },
   "outputs": [
    {
     "name": "stdout",
     "output_type": "stream",
     "text": [
      "emtpy route\n"
     ]
    },
    {
     "data": {
      "image/png": "[encoded data removed]",
      "text/plain": [
       "<matplotlib.figure.Figure at 0x7f503443add0>"
      ]
     },
     "metadata": {},
     "output_type": "display_data"
    }
   ],
   "source": [
    "def myPlot(loc_mat, style = ''):\n",
    "    \"\"\"\n",
    "    input \n",
    "    a nx2 matrix\n",
    "    b type line. \n",
    "    output \n",
    "    \"\"\"\n",
    "    return plt.plot(loc_mat[:,0], loc_mat[:,1], style)\n",
    "\n",
    "def plot_routes(locs, routes):\n",
    "    \"\"\"\n",
    "    input \n",
    "    a nx2 matrix\n",
    "    b type line. \n",
    "    output \n",
    "    \"\"\"\n",
    "    for route in routes:\n",
    "        if route == [0,0]:\n",
    "            print \"emtpy route\"           \n",
    "        else:\n",
    "            myPlot(locs[route,:])\n",
    "    return\n",
    "\n",
    "\n",
    "myPlot(locs_dep, 'bs') #plot deps\n",
    "myPlot(locs_cus, 'go') #plot custs\n",
    "plot_routes(locs, routes) #plot routes\n",
    "plt.axis([-1, 1, -1, 1]);"
   ]
  },
  {
   "cell_type": "markdown",
   "metadata": {},
   "source": [
    "## calculate costs route"
   ]
  },
  {
   "cell_type": "code",
   "execution_count": 31,
   "metadata": {
    "collapsed": false
   },
   "outputs": [
    {
     "data": {
      "text/plain": [
       "[3.3285663554043357, 0.0, 1.7100108015460598]"
      ]
     },
     "execution_count": 31,
     "metadata": {},
     "output_type": "execute_result"
    }
   ],
   "source": [
    "def calc_costs(routes, distance_matrix):\n",
    "    # returns list of distances\n",
    "    list_distances = []\n",
    "    for route in routes:\n",
    "        route_dist = 0\n",
    "        \n",
    "        n_seg = len(route) - 1\n",
    "        for i in range(n_seg): # n locs gives n-1 segments\n",
    "            loc_start = route[i] \n",
    "            loc_end = route[i+1]\n",
    "            seg_dist = distance_matrix[loc_start, loc_end]\n",
    "            route_dist += seg_dist\n",
    "        list_distances.append(route_dist)\n",
    "    return list_distances\n",
    "    \n",
    "calc_costs(routes, distance_matrix)"
   ]
  },
  {
   "cell_type": "markdown",
   "metadata": {
    "code_folding": [
     0,
     9
    ],
    "collapsed": true
   },
   "source": [
    "## improve route\n",
    "repeat\n",
    "\n",
    "    remove random amount of locations from routes \n",
    "    place in stack or queue\n",
    "    reinsert\n",
    "\n"
   ]
  },
  {
   "cell_type": "code",
   "execution_count": 74,
   "metadata": {
    "collapsed": false
   },
   "outputs": [
    {
     "name": "stdout",
     "output_type": "stream",
     "text": [
      "remove\n",
      "[2 1]\n",
      "route\n",
      "[3, 1]\n",
      "rem\n",
      "[4]\n",
      "route\n",
      "[0]\n",
      "rem\n",
      "[2]\n",
      "route\n",
      "[5]\n",
      "rem\n",
      "[]\n",
      "[[3, 1], [0], [5]]\n",
      "[4, 2]\n"
     ]
    }
   ],
   "source": [
    "def destroy(routes, n_rem):\n",
    "    #return routes and lists with customers that are popped\n",
    "    ls_custs_rem = []\n",
    "    # in total n_cus customers, hence take random sample from n_cus\n",
    "    ls_cus_to_rem = np.random.randint(n_dep, n_dep + n_cus, size=n_rem) # in [,n_cus]\n",
    "#     ls_cus = sorted(ls_cus)\n",
    "    print 'remove'\n",
    "    print ls_cus_to_rem\n",
    "   \n",
    "    for route in routes:\n",
    "        ls_rem_this_route = [route.pop() for i in route if i in ls_cus_to_rem]\n",
    "        print 'route'\n",
    "        print route\n",
    "        print 'rem'\n",
    "        print ls_rem_this_route\n",
    "        \n",
    "        ls_custs_rem +=  ls_rem_this_route\n",
    "    \n",
    "    return routes , ls_custs_rem\n",
    "        \n",
    "    \n",
    "testR = [[3,1,4] ,[0,2], [5]]\n",
    "routes, queu = destroy(testR, 2)  \n",
    "print routes\n",
    "print queu\n",
    "#         n_cus_in_route = len(route) - 2\n",
    "#         removed_in_route = 0\n",
    "#         is_cus_in_routels_cus[i] > n_prev_cus + n_cus_in_route\n",
    "#         if ls_cus[i] > n_prev_cus + n_cus_in_route:\n",
    "#             pass\n",
    "#         else:\n",
    "#             ind_rem = cus - n_prev_cus (-1 + 1) # since index starts at 0, but first entry is depot not customer\n",
    "#             cus_removed = route.pop(ind_rem)\n",
    "#             ls_custs_rem.append(cus_removed)\n",
    "\n",
    "#         n_prev_cus += n_cus_in_route    \n",
    "\n",
    "    "
   ]
  },
  {
   "cell_type": "code",
   "execution_count": 64,
   "metadata": {
    "collapsed": false
   },
   "outputs": [
    {
     "name": "stdout",
     "output_type": "stream",
     "text": [
      "[[3, 4, 6, 7], [3, 3, 1, 5, 6, 6]]\n",
      "[[3, 4, 6, 7], [3, 3, 1, 5, 6, 6]]\n",
      "[4, 4, 4, 3, 3, 3]\n"
     ]
    }
   ],
   "source": [
    "a= [[3,4,6,7],[3,3,1,5,6,6]]\n",
    "\n",
    "print a\n",
    "\n",
    "b = a[1]\n",
    "# c = [b.pop() for i in b if ]\n",
    "print a\n",
    "print c "
   ]
  },
  {
   "cell_type": "code",
   "execution_count": 61,
   "metadata": {
    "collapsed": false
   },
   "outputs": [
    {
     "data": {
      "text/plain": [
       "[4, 4, 4, 3, 3, 3]"
      ]
     },
     "execution_count": 61,
     "metadata": {},
     "output_type": "execute_result"
    }
   ],
   "source": [
    "c = [4,4,4,3,]\n",
    "c = c + [3,3]\n",
    "c"
   ]
  },
  {
   "cell_type": "code",
   "execution_count": 71,
   "metadata": {
    "collapsed": false
   },
   "outputs": [
    {
     "ename": "SyntaxError",
     "evalue": "invalid syntax (<ipython-input-71-0aa77ccc5bd1>, line 1)",
     "output_type": "error",
     "traceback": [
      "\u001b[1;36m  File \u001b[1;32m\"<ipython-input-71-0aa77ccc5bd1>\"\u001b[1;36m, line \u001b[1;32m1\u001b[0m\n\u001b[1;33m    a = [2 3]\u001b[0m\n\u001b[1;37m           ^\u001b[0m\n\u001b[1;31mSyntaxError\u001b[0m\u001b[1;31m:\u001b[0m invalid syntax\n"
     ]
    }
   ],
   "source": [
    "a = [2 3]"
   ]
  },
  {
   "cell_type": "markdown",
   "metadata": {},
   "source": [
    "# start  in cell below. Get list comprehension right for destroy function above\n",
    "1! get it working"
   ]
  },
  {
   "cell_type": "code",
   "execution_count": 90,
   "metadata": {
    "collapsed": false
   },
   "outputs": [
    {
     "name": "stdout",
     "output_type": "stream",
     "text": [
      "[0, 2, 3, 2, 1, 0]\n",
      "[1, 3]\n",
      "0\n"
     ]
    }
   ],
   "source": [
    "a = [0,1,2,3,3,2,1,0]\n",
    "b = [1,2]\n",
    "c = [a.pop(i) for i in a if i in b]\n",
    "print a\n",
    "print c\n",
    "print d"
   ]
  },
  {
   "cell_type": "code",
   "execution_count": null,
   "metadata": {
    "collapsed": true
   },
   "outputs": [],
   "source": []
  },
  {
   "cell_type": "code",
   "execution_count": null,
   "metadata": {
    "collapsed": true
   },
   "outputs": [],
   "source": []
  }
 ],
 "metadata": {
  "kernelspec": {
   "display_name": "Python 2",
   "language": "python",
   "name": "python2"
  },
  "language_info": {
   "codemirror_mode": {
    "name": "ipython",
    "version": 2
   },
   "file_extension": ".py",
   "mimetype": "text/x-python",
   "name": "python",
   "nbconvert_exporter": "python",
   "pygments_lexer": "ipython2",
   "version": "2.7.11"
  }
 },
 "nbformat": 4,
 "nbformat_minor": 0
}
