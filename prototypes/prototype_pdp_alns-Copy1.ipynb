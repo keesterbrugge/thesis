{
 "cells": [
  {
   "cell_type": "markdown",
   "metadata": {},
   "source": [
    "download,sla op en laad test data. Gebruik standaard instances. zoals lim li van pdpt"
   ]
  },
  {
   "cell_type": "code",
   "execution_count": null,
   "metadata": {
    "collapsed": true
   },
   "outputs": [],
   "source": []
  },
  {
   "cell_type": "markdown",
   "metadata": {
    "collapsed": true
   },
   "source": [
    "VETO put in objects"
   ]
  },
  {
   "cell_type": "code",
   "execution_count": null,
   "metadata": {
    "collapsed": true
   },
   "outputs": [],
   "source": []
  },
  {
   "cell_type": "markdown",
   "metadata": {},
   "source": [
    "gebruik lumberjack of andere solver om uitkomst te krijgen"
   ]
  },
  {
   "cell_type": "code",
   "execution_count": null,
   "metadata": {
    "collapsed": true
   },
   "outputs": [],
   "source": [
    "from Numberjack import *\n",
    "\n",
    "a,b,c = (Variable() for val in range(3))\n",
    "model = Model( [ ( ( a == True ) | ( b == True ) ) , ( a==False ) , ( c==True ), Minimise(a+b+c)] ) \n",
    "solver = model.load('Mistral')\n",
    "\n",
    "print solver.solve()\n",
    "print solver.printStatistics()\n",
    "print a,b,c"
   ]
  },
  {
   "cell_type": "markdown",
   "metadata": {
    "collapsed": true
   },
   "source": [
    "gebruik eigen solver om uitkomst te krijgen"
   ]
  },
  {
   "cell_type": "code",
   "execution_count": null,
   "metadata": {
    "collapsed": true
   },
   "outputs": [],
   "source": []
  },
  {
   "cell_type": "markdown",
   "metadata": {
    "collapsed": true
   },
   "source": [
    "is zelfde?"
   ]
  },
  {
   "cell_type": "code",
   "execution_count": null,
   "metadata": {
    "collapsed": true
   },
   "outputs": [],
   "source": []
  },
  {
   "cell_type": "markdown",
   "metadata": {},
   "source": [
    "test"
   ]
  },
  {
   "cell_type": "code",
   "execution_count": 6,
   "metadata": {
    "collapsed": false
   },
   "outputs": [
    {
     "name": "stdout",
     "output_type": "stream",
     "text": [
      "1\n"
     ]
    }
   ],
   "source": []
  },
  {
   "cell_type": "code",
   "execution_count": 4,
   "metadata": {
    "collapsed": false
   },
   "outputs": [
    {
     "name": "stdout",
     "output_type": "stream",
     "text": [
      "1\n"
     ]
    }
   ],
   "source": [
    "\n"
   ]
  },
  {
   "cell_type": "code",
   "execution_count": 8,
   "metadata": {
    "collapsed": false
   },
   "outputs": [
    {
     "name": "stdout",
     "output_type": "stream",
     "text": [
      "1\n",
      "10\n"
     ]
    }
   ],
   "source": []
  },
  {
   "cell_type": "code",
   "execution_count": 11,
   "metadata": {
    "collapsed": false
   },
   "outputs": [
    {
     "name": "stdout",
     "output_type": "stream",
     "text": [
      "<__main__.Tree instance at 0x7f2b802af3b0>\n"
     ]
    }
   ],
   "source": [
    "class Tree:\n",
    "    def __init__(self,v,l,r):\n",
    "        self.left = l\n",
    "        self.right = r\n",
    "        self.value = v\n",
    "        \n",
    "        \n",
    "t = Tree(3,None,Tree(1,None,None))\n",
    "print t\n"
   ]
  },
  {
   "cell_type": "code",
   "execution_count": 46,
   "metadata": {
    "collapsed": false
   },
   "outputs": [
    {
     "ename": "ValueError",
     "evalue": "too many values to unpack",
     "output_type": "error",
     "traceback": [
      "\u001b[1;31m---------------------------------------------------------------------------\u001b[0m",
      "\u001b[1;31mValueError\u001b[0m                                Traceback (most recent call last)",
      "\u001b[1;32m<ipython-input-46-c2583ad1e16f>\u001b[0m in \u001b[0;36m<module>\u001b[1;34m()\u001b[0m\n\u001b[0;32m      2\u001b[0m \u001b[1;31m# import Mistral\u001b[0m\u001b[1;33m\u001b[0m\u001b[1;33m\u001b[0m\u001b[0m\n\u001b[0;32m      3\u001b[0m \u001b[1;33m\u001b[0m\u001b[0m\n\u001b[1;32m----> 4\u001b[1;33m \u001b[0ma\u001b[0m\u001b[1;33m,\u001b[0m\u001b[0mb\u001b[0m \u001b[1;33m=\u001b[0m \u001b[1;33m(\u001b[0m\u001b[0mVariable\u001b[0m\u001b[1;33m(\u001b[0m\u001b[1;33m)\u001b[0m \u001b[1;32mfor\u001b[0m \u001b[0mval\u001b[0m \u001b[1;32min\u001b[0m \u001b[0mrange\u001b[0m\u001b[1;33m(\u001b[0m\u001b[1;36m3\u001b[0m\u001b[1;33m)\u001b[0m\u001b[1;33m)\u001b[0m\u001b[1;33m\u001b[0m\u001b[0m\n\u001b[0m\u001b[0;32m      5\u001b[0m \u001b[0mmodel\u001b[0m \u001b[1;33m=\u001b[0m \u001b[0mModel\u001b[0m\u001b[1;33m(\u001b[0m \u001b[1;33m[\u001b[0m \u001b[1;33m(\u001b[0m \u001b[1;33m(\u001b[0m \u001b[0ma\u001b[0m \u001b[1;33m==\u001b[0m \u001b[0mTrue\u001b[0m \u001b[1;33m)\u001b[0m \u001b[1;33m|\u001b[0m \u001b[1;33m(\u001b[0m \u001b[0mb\u001b[0m \u001b[1;33m==\u001b[0m \u001b[0mTrue\u001b[0m \u001b[1;33m)\u001b[0m \u001b[1;33m)\u001b[0m \u001b[1;33m,\u001b[0m \u001b[1;33m(\u001b[0m \u001b[0ma\u001b[0m\u001b[1;33m==\u001b[0m\u001b[0mFalse\u001b[0m \u001b[1;33m)\u001b[0m \u001b[1;33m,\u001b[0m \u001b[1;33m(\u001b[0m \u001b[0mc\u001b[0m\u001b[1;33m==\u001b[0m\u001b[0mTrue\u001b[0m \u001b[1;33m)\u001b[0m\u001b[1;33m,\u001b[0m \u001b[0mMinimise\u001b[0m\u001b[1;33m(\u001b[0m\u001b[0ma\u001b[0m\u001b[1;33m+\u001b[0m\u001b[0mb\u001b[0m\u001b[1;33m+\u001b[0m\u001b[0mc\u001b[0m\u001b[1;33m)\u001b[0m\u001b[1;33m]\u001b[0m \u001b[1;33m)\u001b[0m\u001b[1;33m\u001b[0m\u001b[0m\n\u001b[0;32m      6\u001b[0m \u001b[0msolver\u001b[0m \u001b[1;33m=\u001b[0m \u001b[0mmodel\u001b[0m\u001b[1;33m.\u001b[0m\u001b[0mload\u001b[0m\u001b[1;33m(\u001b[0m\u001b[1;34m'Mistral'\u001b[0m\u001b[1;33m)\u001b[0m\u001b[1;33m\u001b[0m\u001b[0m\n",
      "\u001b[1;31mValueError\u001b[0m: too many values to unpack"
     ]
    }
   ],
   "source": [
    "from Numberjack import *\n",
    "# import Mistral\n",
    "\n",
    "a,b = (Variable() for val in range(3))\n",
    "model = Model( [ ( ( a == True ) | ( b == True ) ) , ( a==False ) , ( c==True ), Minimise(a+b+c)] ) \n",
    "solver = model.load('Mistral')\n",
    "\n",
    "print solver.solve()\n",
    "print solver.printStatistics()\n",
    "print a,b,c"
   ]
  },
  {
   "cell_type": "code",
   "execution_count": 47,
   "metadata": {
    "code_folding": [
     42
    ],
    "collapsed": false
   },
   "outputs": [],
   "source": [
    "from Numberjack import *\n",
    "\n",
    "def model_warehouse_planning(data):\n",
    "    WareHouseOpen = VarArray(data.NumberOfWarehouses)\n",
    "    \n",
    "    ShopSupplied = Matrix(data.NumberOfWarehouses,\n",
    "                          data.NumberOfShops)\n",
    "    \n",
    "    # Cost of running warehouses\n",
    "    warehouseCost = Sum(WareHouseOpen, data.WareHouseCosts)\n",
    "    \n",
    "    # Cost of shops using warehouses\n",
    "    transpCost = Sum([ Sum(varRow, costRow) \n",
    "                       for (varRow, costRow) in zip(ShopSupplied, data.SupplyCost)])\n",
    "    \n",
    "    obj = warehouseCost + transpCost\n",
    "    \n",
    "    model = Model(\n",
    "        # Objective function\n",
    "        Minimise(obj), \n",
    "        # Channel from store opening to store supply matrix\n",
    "        [[var <= store for var in col] \n",
    "         for (col, store) in zip(ShopSupplied.col, WareHouseOpen)],\n",
    "        # Make sure every shop if supplied by one store\n",
    "        [Sum(row) == 1 for row in ShopSupplied.row],\n",
    "        # Make sure that each store does not exceed it's supply capacity\n",
    "        [Sum(col) <= cap \n",
    "         for (col, cap) in zip(ShopSupplied.col, data.Capacity)]\n",
    "    )\n",
    "    \n",
    "    return (obj, WareHouseOpen, ShopSupplied, model)\n",
    "\n",
    "def solve_warehouse_planning(data, param):\n",
    "    (obj, WareHouseOpen, ShopSupplied, model) = model_warehouse_planning(data)\n",
    "    solver = model.load(param['solver'])\n",
    "    solver.setVerbosity(1)\n",
    "    solver.solve()    \n",
    "    print obj.get_value()\n",
    "    print \"\",WareHouseOpen\n",
    "    print ShopSupplied\n",
    "    \n",
    "class WareHouseData:\n",
    "    def __init__(self):        \n",
    "        self.NumberOfWarehouses = 5\n",
    "        self.NumberOfShops = 10\n",
    "        self.FixedCost = 30\n",
    "        self.WareHouseCosts = [30, 30, 30, 30, 30]\n",
    "        self.Capacity = [1,4,2,1,3]\n",
    "        self.SupplyCost = supplyCost = [\n",
    "            [ 20, 24, 11, 25, 30 ],\n",
    "            [ 28, 27, 82, 83, 74 ],\n",
    "            [ 74, 97, 71, 96, 70 ],\n",
    "            [ 2, 55, 73, 69, 61 ],\n",
    "            [ 46, 96, 59, 83, 4 ],\n",
    "            [ 42, 22, 29, 67, 59 ],\n",
    "            [ 1, 5, 73, 59, 56 ],\n",
    "            [ 10, 73, 13, 43, 96 ],\n",
    "            [ 93, 35, 63, 85, 46 ],\n",
    "            [ 47, 65, 55, 71, 95 ]\n",
    "        ]\n",
    "    \n",
    "solve_warehouse_planning(WareHouseData(), input({'solver':'Mistral'}))"
   ]
  },
  {
   "cell_type": "code",
   "execution_count": 52,
   "metadata": {
    "collapsed": true
   },
   "outputs": [],
   "source": [
    "import numpy as np\n",
    "from Numberjack import *\n",
    "# import SCIP\n",
    "# import Mistral\n",
    "\n",
    "def model_warehouse_planning(data):\n",
    "#     WareHouseOpen = VarArray(data.NumberOfWarehouses)\n",
    "    \n",
    "#     ShopSupplied = Matrix(data.NumberOfWarehouses,\n",
    "#                           data.NumberOfShops)\n",
    "    \n",
    "    arcs = Matrix(data.numberOfCustomers+1, data.numberOfCustomers+1)\n",
    "    # Cost of running warehouses\n",
    "    warehouseCost = Sum(WareHouseOpen, data.WareHouseCosts)\n",
    "    \n",
    "    # Cost of shops using warehouses\n",
    "    transpCost = Sum([ Sum(varRow, costRow) \n",
    "                       for (varRow, costRow) in zip(ShopSupplied, data.SupplyCost)])\n",
    "    \n",
    "#     obj = warehouseCost + transpCost\n",
    "    \n",
    "    \n",
    "    model = Model(\n",
    "        # Objective function\n",
    "        Minimise(obj), \n",
    "        # Channel from store opening to store supply matrix\n",
    "        [[var <= store for var in col] \n",
    "         for (col, store) in zip(ShopSupplied.col, WareHouseOpen)],\n",
    "        # Make sure every shop if supplied by one store\n",
    "        [Sum(row) == 1 for row in ShopSupplied.row],\n",
    "        # Make sure that each store does not exceed it's supply capacity\n",
    "        [Sum(col) <= cap \n",
    "         for (col, cap) in zip(ShopSupplied.col, data.Capacity)]\n",
    "    )\n",
    "    \n",
    "    return (obj, WareHouseOpen, ShopSupplied, model)\n",
    "\n",
    "def solve_warehouse_planning(data, param):\n",
    "    (obj, WareHouseOpen, ShopSupplied, model) = model_warehouse_planning(data)\n",
    "    solver = model.load(param['solver'])\n",
    "    solver.setVerbosity(1)\n",
    "    solver.solve()    \n",
    "    print obj.get_value()\n",
    "    print \"\",WareHouseOpen\n",
    "    print ShopSupplied\n",
    "    \n",
    "class WareHouseData:\n",
    "    def __init__(self):     \n",
    "        self.numberOfCustomers = 3\n",
    "        self.NumberOfWarehouses = 5\n",
    "        self.NumberOfShops = 10\n",
    "        self.FixedCost = 30\n",
    "        self.WareHouseCosts = [30, 30, 30, 30, 30]\n",
    "        self.Capacity = [1,4,2,1,3]\n",
    "        self.SupplyCost = supplyCost = [\n",
    "            [ 20, 24, 11, 25, 30 ],\n",
    "            [ 28, 27, 82, 83, 74 ],\n",
    "            [ 74, 97, 71, 96, 70 ],\n",
    "            [ 2, 55, 73, 69, 61 ],\n",
    "            [ 46, 96, 59, 83, 4 ],\n",
    "            [ 42, 22, 29, 67, 59 ],\n",
    "            [ 1, 5, 73, 59, 56 ],\n",
    "            [ 10, 73, 13, 43, 96 ],\n",
    "            [ 93, 35, 63, 85, 46 ],\n",
    "            [ 47, 65, 55, 71, 95 ]\n",
    "        ]\n"
   ]
  },
  {
   "cell_type": "code",
   "execution_count": 48,
   "metadata": {
    "collapsed": false
   },
   "outputs": [
    {
     "name": "stdout",
     "output_type": "stream",
     "text": [
      "no Python documentation found for 'SCIP'\n",
      "\n"
     ]
    }
   ],
   "source": [
    "help('SCIP')\n"
   ]
  },
  {
   "cell_type": "code",
   "execution_count": 1,
   "metadata": {
    "collapsed": false
   },
   "outputs": [
    {
     "data": {
      "text/plain": [
       "['/home/sandralaptop/anaconda2/lib/python2.7/site-packages',\n",
       " '/home/sandralaptop/anaconda2/lib/site-python']"
      ]
     },
     "execution_count": 1,
     "metadata": {},
     "output_type": "execute_result"
    }
   ],
   "source": [
    "import site; site.getsitepackages()\n",
    "\n"
   ]
  },
  {
   "cell_type": "code",
   "execution_count": 2,
   "metadata": {
    "collapsed": false
   },
   "outputs": [
    {
     "name": "stdout",
     "output_type": "stream",
     "text": [
      "['', '/home/sandralaptop/anaconda2/lib/python27.zip', '/home/sandralaptop/anaconda2/lib/python2.7', '/home/sandralaptop/anaconda2/lib/python2.7/plat-linux2', '/home/sandralaptop/anaconda2/lib/python2.7/lib-tk', '/home/sandralaptop/anaconda2/lib/python2.7/lib-old', '/home/sandralaptop/anaconda2/lib/python2.7/lib-dynload', '/home/sandralaptop/anaconda2/lib/python2.7/site-packages/Sphinx-1.3.1-py2.7.egg', '/home/sandralaptop/anaconda2/lib/python2.7/site-packages/setuptools-18.5-py2.7.egg', '/home/sandralaptop/anaconda2/lib/python2.7/site-packages', '/home/sandralaptop/anaconda2/lib/python2.7/site-packages/cryptography-1.0.2-py2.7-linux-x86_64.egg', '/home/sandralaptop/anaconda2/lib/python2.7/site-packages/IPython/extensions', '/home/sandralaptop/.ipython']\n"
     ]
    }
   ],
   "source": [
    "import sys; print sys.path\n"
   ]
  },
  {
   "cell_type": "code",
   "execution_count": 37,
   "metadata": {
    "collapsed": false,
    "scrolled": true
   },
   "outputs": [
    {
     "name": "stdout",
     "output_type": "stream",
     "text": [
      "['', '/home/sandralaptop/anaconda2/lib/python27.zip', '/home/sandralaptop/anaconda2/lib/python2.7', '/home/sandralaptop/anaconda2/lib/python2.7/plat-linux2', '/home/sandralaptop/anaconda2/lib/python2.7/lib-tk', '/home/sandralaptop/anaconda2/lib/python2.7/lib-old', '/home/sandralaptop/anaconda2/lib/python2.7/lib-dynload', '/home/sandralaptop/anaconda2/lib/python2.7/site-packages/Sphinx-1.3.1-py2.7.egg', '/home/sandralaptop/anaconda2/lib/python2.7/site-packages/setuptools-18.5-py2.7.egg', '/home/sandralaptop/anaconda2/lib/python2.7/site-packages', '/home/sandralaptop/anaconda2/lib/python2.7/site-packages/cryptography-1.0.2-py2.7-linux-x86_64.egg', '/home/sandralaptop/anaconda2/lib/python2.7/site-packages/IPython/extensions', '/home/sandralaptop/.ipython', '/usr/local/lib/python2.7/dist-packages', '/usr/local/lib/python2.7/dist-packages/', '/usr/local/lib/python2.7/dist-packages', '/usr/local/lib/python2.7/dist-packages', '/usr/local/lib/python2.7/dist-packages']\n"
     ]
    }
   ],
   "source": []
  },
  {
   "cell_type": "code",
   "execution_count": 43,
   "metadata": {
    "collapsed": false
   },
   "outputs": [
    {
     "name": "stdout",
     "output_type": "stream",
     "text": [
      "Object `%Numberjack` not found.\n"
     ]
    }
   ],
   "source": [
    "%Numberjack?\n"
   ]
  },
  {
   "cell_type": "code",
   "execution_count": 50,
   "metadata": {
    "collapsed": false
   },
   "outputs": [
    {
     "name": "stdout",
     "output_type": "stream",
     "text": [
      "0.0\n",
      " [0, 0, 0, 0, 0]\n",
      "[[0, 0, 0, 0, 0, 1, 0, 0, 0, 0],\n",
      " [0, 0, 0, 0, 0, 1, 0, 0, 0, 0],\n",
      " [0, 0, 0, 0, 0, 1, 0, 0, 0, 0],\n",
      " [0, 0, 0, 0, 0, 1, 0, 0, 0, 0],\n",
      " [0, 0, 0, 0, 0, 1, 0, 0, 0, 0]]\n"
     ]
    }
   ],
   "source": [
    "solve_warehouse_planning(WareHouseData(), {'solver':'SCIP'})"
   ]
  },
  {
   "cell_type": "code",
   "execution_count": 40,
   "metadata": {
    "collapsed": true
   },
   "outputs": [],
   "source": [
    "\n",
    "from Numberjack import *\n",
    "# import SCIP\n",
    "# import Mistral\n",
    "\n",
    "\n",
    "def model_warehouse_planning(data):\n",
    "    WareHouseOpen = VarArray(data.NumberOfWarehouses)\n",
    "    \n",
    "    ShopSupplied = Matrix(data.NumberOfWarehouses,\n",
    "                          data.NumberOfShops)\n",
    "    \n",
    "    # Cost of running warehouses\n",
    "    warehouseCost = Sum(WareHouseOpen, data.WareHouseCosts)\n",
    "    \n",
    "    # Cost of shops using warehouses\n",
    "    transpCost = Sum([ Sum(varRow, costRow) \n",
    "                       for (varRow, costRow) in zip(ShopSupplied, data.SupplyCost)])\n",
    "    \n",
    "    obj = warehouseCost + transpCost\n",
    "    \n",
    "    model = Model(\n",
    "        # Objective function\n",
    "        Minimise(obj), \n",
    "        # Channel from store opening to store supply matrix\n",
    "        [[var <= store for var in col] \n",
    "         for (col, store) in zip(ShopSupplied.col, WareHouseOpen)],\n",
    "        # Make sure every shop if supplied by one store\n",
    "        [Sum(row) == 1 for row in ShopSupplied.row],\n",
    "        # Make sure that each store does not exceed it's supply capacity\n",
    "        [Sum(col) <= cap \n",
    "         for (col, cap) in zip(ShopSupplied.col, data.Capacity)]\n",
    "    )\n",
    "    \n",
    "    return (obj, WareHouseOpen, ShopSupplied, model)\n",
    "\n",
    "def solve_warehouse_planning(data, param):\n",
    "    (obj, WareHouseOpen, ShopSupplied, model) = model_warehouse_planning(data)\n",
    "    solver = model.load(param['solver'])\n",
    "    solver.setVerbosity(1)\n",
    "    solver.solve()    \n",
    "    print obj.get_value()\n",
    "    print \"\",WareHouseOpen\n",
    "    print ShopSupplied\n",
    "    \n",
    "class WareHouseData:\n",
    "    def __init__(self):        \n",
    "        self.NumberOfWarehouses = 5\n",
    "        self.NumberOfShops = 10\n",
    "        self.FixedCost = 30\n",
    "        self.WareHouseCosts = [30, 30, 30, 30, 30]\n",
    "        self.Capacity = [1,4,2,1,3]\n",
    "        self.SupplyCost = supplyCost = [\n",
    "            [ 20, 24, 11, 25, 30 ],\n",
    "            [ 28, 27, 82, 83, 74 ],\n",
    "            [ 74, 97, 71, 96, 70 ],\n",
    "            [ 2, 55, 73, 69, 61 ],\n",
    "            [ 46, 96, 59, 83, 4 ],\n",
    "            [ 42, 22, 29, 67, 59 ],\n",
    "            [ 1, 5, 73, 59, 56 ],\n",
    "            [ 10, 73, 13, 43, 96 ],\n",
    "            [ 93, 35, 63, 85, 46 ],\n",
    "            [ 47, 65, 55, 71, 95 ]\n",
    "        ]"
   ]
  },
  {
   "cell_type": "code",
   "execution_count": null,
   "metadata": {
    "collapsed": true
   },
   "outputs": [],
   "source": []
  },
  {
   "cell_type": "code",
   "execution_count": null,
   "metadata": {
    "collapsed": true
   },
   "outputs": [],
   "source": []
  }
 ],
 "metadata": {
  "kernelspec": {
   "display_name": "Python 2",
   "language": "python",
   "name": "python2"
  },
  "language_info": {
   "codemirror_mode": {
    "name": "ipython",
    "version": 2
   },
   "file_extension": ".py",
   "mimetype": "text/x-python",
   "name": "python",
   "nbconvert_exporter": "python",
   "pygments_lexer": "ipython2",
   "version": "2.7.11"
  }
 },
 "nbformat": 4,
 "nbformat_minor": 0
}
