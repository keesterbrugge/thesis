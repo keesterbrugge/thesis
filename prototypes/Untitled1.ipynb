{
 "cells": [
  {
   "cell_type": "code",
   "execution_count": 6,
   "metadata": {
    "collapsed": false
   },
   "outputs": [
    {
     "name": "stdout",
     "output_type": "stream",
     "text": [
      "0\n",
      " [0, 0, 0, 0, 0]\n",
      "[[0, 0, 0, 0, 0, 0, 0, 0, 0, 1],\n",
      " [0, 0, 0, 0, 0, 0, 0, 0, 0, 1],\n",
      " [0, 0, 0, 0, 0, 0, 0, 0, 0, 1],\n",
      " [0, 0, 0, 0, 0, 0, 0, 0, 0, 1],\n",
      " [0, 0, 0, 0, 0, 0, 0, 0, 1, 0]]\n"
     ]
    }
   ],
   "source": [
    "import sys\n",
    "sys.path.append('/usr/local/lib/python2.7/dist-packages')\n",
    "\n",
    "from Numberjack import *\n",
    "# import SCIP\n",
    "# import Mistral\n",
    "\n",
    "\n",
    "def model_warehouse_planning(data):\n",
    "    WareHouseOpen = VarArray(data.NumberOfWarehouses)\n",
    "    \n",
    "    ShopSupplied = Matrix(data.NumberOfWarehouses,\n",
    "                          data.NumberOfShops)\n",
    "    \n",
    "    # Cost of running warehouses\n",
    "    warehouseCost = Sum(WareHouseOpen, data.WareHouseCosts)\n",
    "    \n",
    "    # Cost of shops using warehouses\n",
    "    transpCost = Sum([ Sum(varRow, costRow) \n",
    "                       for (varRow, costRow) in zip(ShopSupplied, data.SupplyCost)])\n",
    "    \n",
    "    obj = warehouseCost + transpCost\n",
    "    \n",
    "    model = Model(\n",
    "        # Objective function\n",
    "        Minimise(obj), \n",
    "        # Channel from store opening to store supply matrix\n",
    "        [[var <= store for var in col] \n",
    "         for (col, store) in zip(ShopSupplied.col, WareHouseOpen)],\n",
    "        # Make sure every shop if supplied by one store\n",
    "        [Sum(row) == 1 for row in ShopSupplied.row],\n",
    "        # Make sure that each store does not exceed it's supply capacity\n",
    "        [Sum(col) <= cap \n",
    "         for (col, cap) in zip(ShopSupplied.col, data.Capacity)]\n",
    "    )\n",
    "    \n",
    "    return (obj, WareHouseOpen, ShopSupplied, model)\n",
    "\n",
    "def solve_warehouse_planning(data, param):\n",
    "    (obj, WareHouseOpen, ShopSupplied, model) = model_warehouse_planning(data)\n",
    "    solver = model.load(param['solver'])\n",
    "    solver.setVerbosity(1)\n",
    "    solver.solve()    \n",
    "    print obj.get_value()\n",
    "    print \"\",WareHouseOpen\n",
    "    print ShopSupplied\n",
    "    \n",
    "class WareHouseData:\n",
    "    def __init__(self):        \n",
    "        self.NumberOfWarehouses = 5\n",
    "        self.NumberOfShops = 10\n",
    "        self.FixedCost = 30\n",
    "        self.WareHouseCosts = [3, 30, 300, 30, 30]\n",
    "        self.Capacity = [1,4,2,1,3]\n",
    "        self.SupplyCost = supplyCost = [\n",
    "            [ 20, 204, 11, 25, 30 ],\n",
    "            [ 28, 27, 82, 83, 74 ],\n",
    "            [ 74, 970, 71, 96, 70 ],\n",
    "            [ 2, 55, 73, 69, 61 ],\n",
    "            [ 46, 96, 590, 83, 4 ],\n",
    "            [ 42, 22, 29, 67, 59 ],\n",
    "            [ 10, 5, 73, 59, 56 ],\n",
    "            [ 10, 73, 13, 43, 96 ],\n",
    "            [ 93, 35, 63, 85, 406 ],\n",
    "            [ 47, 65, 55, 71, 95 ]\n",
    "        ]\n",
    "        \n",
    "solve_warehouse_planning(WareHouseData(), {'solver':'Mistral'})"
   ]
  },
  {
   "cell_type": "code",
   "execution_count": null,
   "metadata": {
    "collapsed": true
   },
   "outputs": [],
   "source": []
  }
 ],
 "metadata": {
  "kernelspec": {
   "display_name": "Python 2",
   "language": "python",
   "name": "python2"
  },
  "language_info": {
   "codemirror_mode": {
    "name": "ipython",
    "version": 2
   },
   "file_extension": ".py",
   "mimetype": "text/x-python",
   "name": "python",
   "nbconvert_exporter": "python",
   "pygments_lexer": "ipython2",
   "version": "2.7.11"
  }
 },
 "nbformat": 4,
 "nbformat_minor": 0
}
