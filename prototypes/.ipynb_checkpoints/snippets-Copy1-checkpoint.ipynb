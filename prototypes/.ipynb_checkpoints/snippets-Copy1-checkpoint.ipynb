{
 "cells": [
  {
   "cell_type": "markdown",
   "metadata": {},
   "source": [
    "# snippets"
   ]
  },
  {
   "cell_type": "markdown",
   "metadata": {},
   "source": [
    "## matplotlib + widget\n",
    "- import\n",
    "- inline\n",
    "- seaborn\n",
    "- interactive widget"
   ]
  },
  {
   "cell_type": "code",
   "execution_count": null,
   "metadata": {
    "collapsed": false
   },
   "outputs": [],
   "source": [
    "%matplotlib inline\n",
    "\n",
    "from ipywidgets import interact, interactive, fixed\n",
    "\n",
    "\n",
    "import matplotlib\n",
    "import numpy as np\n",
    "import matplotlib.pyplot as plt\n",
    "\n",
    "#broke making plot dynamic in static page, \n",
    "# so might give problems with plotly or widgets\n",
    "import seaborn as sns\n",
    "sns.set(color_codes=False)\n",
    "\n",
    "\n",
    "def plotfunc(n):\n",
    "    x = np.linspace(0, 3*np.pi, n)\n",
    "    plt.plot(x, np.sin(x**2))\n",
    "    plt.title('A simple chirp')\n",
    "    plt.show()\n",
    "    \n",
    "interact(plotfunc, n=100);\n"
   ]
  },
  {
   "cell_type": "code",
   "execution_count": null,
   "metadata": {
    "collapsed": false
   },
   "outputs": [],
   "source": []
  },
  {
   "cell_type": "markdown",
   "metadata": {},
   "source": [
    "# Module import information"
   ]
  },
  {
   "cell_type": "code",
   "execution_count": null,
   "metadata": {
    "collapsed": true
   },
   "outputs": [],
   "source": []
  },
  {
   "cell_type": "code",
   "execution_count": null,
   "metadata": {
    "collapsed": false
   },
   "outputs": [],
   "source": [
    "import sys\n",
    "print '\\n'.join(sys.path)"
   ]
  },
  {
   "cell_type": "markdown",
   "metadata": {},
   "source": [
    "# Gurobi module"
   ]
  },
  {
   "cell_type": "code",
   "execution_count": null,
   "metadata": {
    "collapsed": false
   },
   "outputs": [],
   "source": [
    "import sys\n",
    "sys.path.append('/opt/gurobi650/linux64/lib/python2.7')\n",
    "sys.path.append('/opt/gurobi650/linux64/lib')\n",
    "print sys.path\n"
   ]
  },
  {
   "cell_type": "code",
   "execution_count": null,
   "metadata": {
    "collapsed": false
   },
   "outputs": [],
   "source": [
    "from gurobipy import *\n",
    "m = Model()\n",
    "v0 = m.addVar()\n",
    "v1 = m.addVar()\n",
    "m.update()\n",
    "m.addConstr(v0 - v1 <= 4)\n",
    "m.addConstr(v0 + v1 <= 4)\n",
    "m.addConstr(-0.25*v0 + v1 <= 1)\n",
    "m.setObjective(v1, GRB.MAXIMIZE)\n",
    "m.params.outputflag = 0\n",
    "m.optimize()"
   ]
  },
  {
   "cell_type": "code",
   "execution_count": null,
   "metadata": {
    "collapsed": false
   },
   "outputs": [],
   "source": [
    "%matplotlib inline\n",
    "import matplotlib.pyplot as pyplot\n",
    "pyplot.plot([0,4], [0,4])\n",
    "pyplot.plot([4,0], [0,4])\n",
    "pyplot.plot([0,4], [1,2])\n",
    "pyplot.plot([v0.x], [v1.x], 'ro')\n",
    "pyplot.show()"
   ]
  },
  {
   "cell_type": "markdown",
   "metadata": {},
   "source": [
    "# Numberjack combined with SCIP"
   ]
  },
  {
   "cell_type": "code",
   "execution_count": null,
   "metadata": {
    "collapsed": false
   },
   "outputs": [],
   "source": [
    "# import sys\n",
    "# sys.path.append('/usr/local/lib/python2.7/dist-packages')\n",
    "\n",
    "from Numberjack import *\n",
    "# import SCIP\n",
    "# import Mistral\n",
    "\n",
    "\n",
    "def model_warehouse_planning(data):\n",
    "    WareHouseOpen = VarArray(data.NumberOfWarehouses)\n",
    "    \n",
    "    ShopSupplied = Matrix(data.NumberOfWarehouses,\n",
    "                          data.NumberOfShops)\n",
    "    \n",
    "    # Cost of running warehouses\n",
    "    warehouseCost = Sum(WareHouseOpen, data.WareHouseCosts)\n",
    "    \n",
    "    # Cost of shops using warehouses\n",
    "    transpCost = Sum([ Sum(varRow, costRow) \n",
    "                       for (varRow, costRow) in zip(ShopSupplied, data.SupplyCost)])\n",
    "    \n",
    "    obj = warehouseCost + transpCost\n",
    "    \n",
    "    model = Model(\n",
    "        # Objective function\n",
    "        Minimise(obj), \n",
    "        # Channel from store opening to store supply matrix\n",
    "        [[var <= store for var in col] \n",
    "         for (col, store) in zip(ShopSupplied.col, WareHouseOpen)],\n",
    "        # Make sure every shop if supplied by one store\n",
    "        [Sum(row) == 1 for row in ShopSupplied.row],\n",
    "        # Make sure that each store does not exceed it's supply capacity\n",
    "        [Sum(col) <= cap \n",
    "         for (col, cap) in zip(ShopSupplied.col, data.Capacity)]\n",
    "    )\n",
    "    \n",
    "    return (obj, WareHouseOpen, ShopSupplied, model)\n",
    "\n",
    "def solve_warehouse_planning(data, param):\n",
    "    (obj, WareHouseOpen, ShopSupplied, model) = model_warehouse_planning(data)\n",
    "    solver = model.load(param['solver'])\n",
    "    solver.setVerbosity(1)\n",
    "    solver.solve()    \n",
    "    print obj.get_value()\n",
    "    print \"\",WareHouseOpen\n",
    "    print ShopSupplied\n",
    "    \n",
    "class WareHouseData:\n",
    "    def __init__(self):        \n",
    "        self.NumberOfWarehouses = 5\n",
    "        self.NumberOfShops = 10\n",
    "        self.FixedCost = 30\n",
    "        self.WareHouseCosts = [30, 30, 30, 30, 30]\n",
    "        self.Capacity = [1,4,2,1,3]\n",
    "        self.SupplyCost = supplyCost = [\n",
    "            [ 20, 24, 11, 25, 30 ],\n",
    "            [ 28, 27, 82, 83, 74 ],\n",
    "            [ 74, 97, 71, 96, 70 ],\n",
    "            [ 2, 55, 73, 69, 61 ],\n",
    "            [ 46, 96, 59, 83, 4 ],\n",
    "            [ 42, 22, 29, 67, 59 ],\n",
    "            [ 1, 5, 73, 59, 56 ],\n",
    "            [ 10, 73, 13, 43, 96 ],\n",
    "            [ 93, 35, 63, 85, 46 ],\n",
    "            [ 47, 65, 55, 71, 95 ]\n",
    "        ]\n",
    "        \n",
    "# solve_warehouse_planning(WareHouseData(), {'solver':'SCIP'})"
   ]
  },
  {
   "cell_type": "code",
   "execution_count": null,
   "metadata": {
    "collapsed": false,
    "scrolled": true
   },
   "outputs": [],
   "source": [
    "solve_warehouse_planning(WareHouseData(), {'solver':'Gurobi'})\n",
    "help(solver)"
   ]
  },
  {
   "cell_type": "code",
   "execution_count": null,
   "metadata": {
    "collapsed": false
   },
   "outputs": [],
   "source": [
    "get_value(Gurobi)"
   ]
  },
  {
   "cell_type": "markdown",
   "metadata": {},
   "source": [
    "# Help and info"
   ]
  },
  {
   "cell_type": "code",
   "execution_count": null,
   "metadata": {
    "collapsed": false
   },
   "outputs": [],
   "source": [
    "dir(Model.load)"
   ]
  },
  {
   "cell_type": "code",
   "execution_count": null,
   "metadata": {
    "collapsed": false
   },
   "outputs": [],
   "source": [
    "help(Model.load)"
   ]
  },
  {
   "cell_type": "code",
   "execution_count": null,
   "metadata": {
    "collapsed": false
   },
   "outputs": [],
   "source": [
    "\n",
    "from Numberjack import *\n",
    "# import gurobi\n",
    "# import Mistral\n",
    "\n",
    "def model_warehouse_planning(data):\n",
    "    WareHouseOpen = VarArray(data.NumberOfWarehouses)\n",
    "    \n",
    "    ShopSupplied = Matrix(data.NumberOfWarehouses,\n",
    "                          data.NumberOfShops)\n",
    "    \n",
    "    # Cost of running warehouses\n",
    "    warehouseCost = Sum(WareHouseOpen, data.WareHouseCosts)\n",
    "    \n",
    "    # Cost of shops using warehouses\n",
    "    transpCost = Sum([ Sum(varRow, costRow) \n",
    "                       for (varRow, costRow) in zip(ShopSupplied, data.SupplyCost)])\n",
    "    \n",
    "    obj = warehouseCost + transpCost\n",
    "    \n",
    "    model = Model(\n",
    "        # Objective function\n",
    "        Minimise(obj), \n",
    "        # Channel from store opening to store supply matrix\n",
    "        [[var <= store for var in col] \n",
    "         for (col, store) in zip(ShopSupplied.col, WareHouseOpen)],\n",
    "        # Make sure every shop if supplied by one store\n",
    "        [Sum(row) == 1 for row in ShopSupplied.row],\n",
    "        # Make sure that each store does not exceed it's supply capacity\n",
    "        [Sum(col) <= cap \n",
    "         for (col, cap) in zip(ShopSupplied.col, data.Capacity)]\n",
    "    )\n",
    "    \n",
    "    return (obj, WareHouseOpen, ShopSupplied, model)\n",
    "\n",
    "def solve_warehouse_planning(data, param):\n",
    "    (obj, WareHouseOpen, ShopSupplied, model) = model_warehouse_planning(data)\n",
    "    solver = model.load(param['solver'])\n",
    "    solver.setVerbosity(1)\n",
    "    solver.solve()    \n",
    "    print obj.get_value()\n",
    "    print \"\",WareHouseOpen\n",
    "    print ShopSupplied\n",
    "    \n",
    "class WareHouseData:\n",
    "    def __init__(self):        \n",
    "        self.NumberOfWarehouses = 5\n",
    "        self.NumberOfShops = 10\n",
    "        self.FixedCost = 30\n",
    "        self.WareHouseCosts = [30, 30, 30, 30, 30]\n",
    "        self.Capacity = [1,4,2,1,3]\n",
    "        self.SupplyCost = supplyCost = [\n",
    "            [ 20, 24, 11, 25, 30 ],\n",
    "            [ 28, 27, 82, 83, 74 ],\n",
    "            [ 74, 97, 71, 96, 70 ],\n",
    "            [ 2, 55, 73, 69, 61 ],\n",
    "            [ 46, 96, 59, 83, 4 ],\n",
    "            [ 42, 22, 29, 67, 59 ],\n",
    "            [ 1, 5, 73, 59, 56 ],\n",
    "            [ 10, 73, 13, 43, 96 ],\n",
    "            [ 93, 35, 63, 85, 46 ],\n",
    "            [ 47, 65, 55, 71, 95 ]\n",
    "        ]\n"
   ]
  },
  {
   "cell_type": "code",
   "execution_count": null,
   "metadata": {
    "collapsed": false
   },
   "outputs": [],
   "source": [
    "solve_warehouse_planning(WareHouseData(), {'solver':'Gurobi'})"
   ]
  },
  {
   "cell_type": "code",
   "execution_count": null,
   "metadata": {
    "collapsed": false
   },
   "outputs": [],
   "source": [
    "from Numberjack import *\n",
    "from ipywidgets import interact \n",
    "    # from Numberjack import *\n",
    "def func_test(m):\n",
    "    print 'start'\n",
    "    \n",
    "    n = 2**m\n",
    "\n",
    "    marks = [Variable(n) for i in range(m)]\n",
    "\n",
    "    model = Model(\n",
    "\n",
    "        Minimise( marks[-1]),\n",
    "        [marks[i-1] < marks[i] for i in range(1,m)],\n",
    "        AllDiff( [ (first - second) for first, second in pair_of(marks)]),\n",
    "        marks[0] == 0\n",
    "    )\n",
    "    # solver = model.load('Gurobi')\n",
    "    solver = model.load('Mistral2')\n",
    "    # solver = Gurobi.Solver( model, marks )\n",
    "    solver.solve()\n",
    "    print 'done'\n",
    "    for i in range(m):\n",
    "        print marks[i]\n",
    "        \n",
    "%time func_test(9)        \n",
    "# interact(func_test, m=5)"
   ]
  },
  {
   "cell_type": "code",
   "execution_count": null,
   "metadata": {
    "collapsed": false
   },
   "outputs": [],
   "source": [
    "for i in range(m):\n",
    "    print marks[i]\n",
    "# [print marks[i] for i in range(m)]\n",
    "# solver.get_solution()"
   ]
  },
  {
   "cell_type": "code",
   "execution_count": null,
   "metadata": {
    "collapsed": false
   },
   "outputs": [],
   "source": [
    "help(Gurobisolver)"
   ]
  },
  {
   "cell_type": "code",
   "execution_count": null,
   "metadata": {
    "collapsed": false
   },
   "outputs": [],
   "source": [
    "solver.printStatistics()"
   ]
  },
  {
   "cell_type": "code",
   "execution_count": null,
   "metadata": {
    "collapsed": true
   },
   "outputs": [],
   "source": [
    "import matplotlib as plt\n",
    "help(plt)"
   ]
  },
  {
   "cell_type": "code",
   "execution_count": null,
   "metadata": {
    "collapsed": false
   },
   "outputs": [],
   "source": [
    "dir(gurobi)"
   ]
  },
  {
   "cell_type": "code",
   "execution_count": null,
   "metadata": {
    "collapsed": true
   },
   "outputs": [],
   "source": []
  },
  {
   "cell_type": "markdown",
   "metadata": {
    "collapsed": true
   },
   "source": [
    "### line profiler"
   ]
  },
  {
   "cell_type": "code",
   "execution_count": 1,
   "metadata": {
    "collapsed": true
   },
   "outputs": [],
   "source": [
    "%load_ext line_profiler\n",
    "%lprun?"
   ]
  },
  {
   "cell_type": "code",
   "execution_count": 4,
   "metadata": {
    "collapsed": false
   },
   "outputs": [
    {
     "name": "stdout",
     "output_type": "stream",
     "text": [
      "Overwriting slow_functions.py\n"
     ]
    }
   ],
   "source": [
    "%%writefile slow_functions.py\n",
    "def main():\n",
    "    n = 30000\n",
    "    a = range(n)\n",
    "\n",
    "    for i in a:\n",
    "        if i > 1:\n",
    "            a[i-1] = i+1\n",
    "            \n",
    "if __name__ == \"__main__\":\n",
    "    main()"
   ]
  },
  {
   "cell_type": "code",
   "execution_count": 10,
   "metadata": {
    "collapsed": false
   },
   "outputs": [],
   "source": [
    "import slow_functions\n",
    "%lprun -f slow_functions.main slow_functions.main()\n",
    "# %lprun -f slow_functions.main slow_functions.main()"
   ]
  },
  {
   "cell_type": "code",
   "execution_count": null,
   "metadata": {
    "collapsed": false
   },
   "outputs": [],
   "source": []
  },
  {
   "cell_type": "code",
   "execution_count": null,
   "metadata": {
    "collapsed": true
   },
   "outputs": [],
   "source": []
  },
  {
   "cell_type": "code",
   "execution_count": null,
   "metadata": {
    "collapsed": true
   },
   "outputs": [],
   "source": []
  }
 ],
 "metadata": {
  "kernelspec": {
   "display_name": "Python 2",
   "language": "python",
   "name": "python2"
  },
  "language_info": {
   "codemirror_mode": {
    "name": "ipython",
    "version": 2
   },
   "file_extension": ".py",
   "mimetype": "text/x-python",
   "name": "python",
   "nbconvert_exporter": "python",
   "pygments_lexer": "ipython2",
   "version": "2.7.11"
  }
 },
 "nbformat": 4,
 "nbformat_minor": 0
}
