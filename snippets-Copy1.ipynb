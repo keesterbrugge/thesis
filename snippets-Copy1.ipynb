{
 "cells": [
  {
   "cell_type": "code",
   "execution_count": 10,
   "metadata": {
    "collapsed": false
   },
   "outputs": [
    {
     "data": {
      "application/json": {
       "cell": {
        "!": "OSMagics",
        "HTML": "Other",
        "SVG": "Other",
        "bash": "Other",
        "capture": "ExecutionMagics",
        "debug": "ExecutionMagics",
        "file": "Other",
        "html": "DisplayMagics",
        "javascript": "DisplayMagics",
        "latex": "DisplayMagics",
        "perl": "Other",
        "prun": "ExecutionMagics",
        "pypy": "Other",
        "python": "Other",
        "python2": "Other",
        "python3": "Other",
        "ruby": "Other",
        "script": "ScriptMagics",
        "sh": "Other",
        "svg": "DisplayMagics",
        "sx": "OSMagics",
        "system": "OSMagics",
        "time": "ExecutionMagics",
        "timeit": "ExecutionMagics",
        "writefile": "OSMagics"
       },
       "line": {
        "alias": "OSMagics",
        "alias_magic": "BasicMagics",
        "autocall": "AutoMagics",
        "automagic": "AutoMagics",
        "autosave": "KernelMagics",
        "bookmark": "OSMagics",
        "cat": "Other",
        "cd": "OSMagics",
        "clear": "KernelMagics",
        "colors": "BasicMagics",
        "config": "ConfigMagics",
        "connect_info": "KernelMagics",
        "cp": "Other",
        "debug": "ExecutionMagics",
        "dhist": "OSMagics",
        "dirs": "OSMagics",
        "doctest_mode": "BasicMagics",
        "ed": "Other",
        "edit": "KernelMagics",
        "env": "OSMagics",
        "gui": "BasicMagics",
        "hist": "Other",
        "history": "HistoryMagics",
        "install_default_config": "DeprecatedMagics",
        "install_ext": "ExtensionMagics",
        "install_profiles": "DeprecatedMagics",
        "killbgscripts": "ScriptMagics",
        "ldir": "Other",
        "less": "KernelMagics",
        "lf": "Other",
        "lk": "Other",
        "ll": "Other",
        "load": "CodeMagics",
        "load_ext": "ExtensionMagics",
        "loadpy": "CodeMagics",
        "logoff": "LoggingMagics",
        "logon": "LoggingMagics",
        "logstart": "LoggingMagics",
        "logstate": "LoggingMagics",
        "logstop": "LoggingMagics",
        "ls": "Other",
        "lsmagic": "BasicMagics",
        "lx": "Other",
        "macro": "ExecutionMagics",
        "magic": "BasicMagics",
        "man": "KernelMagics",
        "matplotlib": "PylabMagics",
        "mkdir": "Other",
        "more": "KernelMagics",
        "mv": "Other",
        "notebook": "BasicMagics",
        "page": "BasicMagics",
        "pastebin": "CodeMagics",
        "pdb": "ExecutionMagics",
        "pdef": "NamespaceMagics",
        "pdoc": "NamespaceMagics",
        "pfile": "NamespaceMagics",
        "pinfo": "NamespaceMagics",
        "pinfo2": "NamespaceMagics",
        "popd": "OSMagics",
        "pprint": "BasicMagics",
        "precision": "BasicMagics",
        "profile": "BasicMagics",
        "prun": "ExecutionMagics",
        "psearch": "NamespaceMagics",
        "psource": "NamespaceMagics",
        "pushd": "OSMagics",
        "pwd": "OSMagics",
        "pycat": "OSMagics",
        "pylab": "PylabMagics",
        "qtconsole": "KernelMagics",
        "quickref": "BasicMagics",
        "recall": "HistoryMagics",
        "rehashx": "OSMagics",
        "reload_ext": "ExtensionMagics",
        "rep": "Other",
        "rerun": "HistoryMagics",
        "reset": "NamespaceMagics",
        "reset_selective": "NamespaceMagics",
        "rm": "Other",
        "rmdir": "Other",
        "run": "ExecutionMagics",
        "save": "CodeMagics",
        "sc": "OSMagics",
        "set_env": "OSMagics",
        "store": "StoreMagics",
        "sx": "OSMagics",
        "system": "OSMagics",
        "tb": "ExecutionMagics",
        "time": "ExecutionMagics",
        "timeit": "ExecutionMagics",
        "unalias": "OSMagics",
        "unload_ext": "ExtensionMagics",
        "who": "NamespaceMagics",
        "who_ls": "NamespaceMagics",
        "whos": "NamespaceMagics",
        "xdel": "NamespaceMagics",
        "xmode": "BasicMagics"
       }
      },
      "text/plain": [
       "Available line magics:\n",
       "%alias  %alias_magic  %autocall  %automagic  %autosave  %bookmark  %cat  %cd  %clear  %colors  %config  %connect_info  %cp  %debug  %dhist  %dirs  %doctest_mode  %ed  %edit  %env  %gui  %hist  %history  %install_default_config  %install_ext  %install_profiles  %killbgscripts  %ldir  %less  %lf  %lk  %ll  %load  %load_ext  %loadpy  %logoff  %logon  %logstart  %logstate  %logstop  %ls  %lsmagic  %lx  %macro  %magic  %man  %matplotlib  %mkdir  %more  %mv  %notebook  %page  %pastebin  %pdb  %pdef  %pdoc  %pfile  %pinfo  %pinfo2  %popd  %pprint  %precision  %profile  %prun  %psearch  %psource  %pushd  %pwd  %pycat  %pylab  %qtconsole  %quickref  %recall  %rehashx  %reload_ext  %rep  %rerun  %reset  %reset_selective  %rm  %rmdir  %run  %save  %sc  %set_env  %store  %sx  %system  %tb  %time  %timeit  %unalias  %unload_ext  %who  %who_ls  %whos  %xdel  %xmode\n",
       "\n",
       "Available cell magics:\n",
       "%%!  %%HTML  %%SVG  %%bash  %%capture  %%debug  %%file  %%html  %%javascript  %%latex  %%perl  %%prun  %%pypy  %%python  %%python2  %%python3  %%ruby  %%script  %%sh  %%svg  %%sx  %%system  %%time  %%timeit  %%writefile\n",
       "\n",
       "Automagic is ON, % prefix IS NOT needed for line magics."
      ]
     },
     "execution_count": 10,
     "metadata": {},
     "output_type": "execute_result"
    }
   ],
   "source": [
    "%lsmagic"
   ]
  },
  {
   "cell_type": "code",
   "execution_count": 11,
   "metadata": {
    "collapsed": false
   },
   "outputs": [
    {
     "name": "stdout",
     "output_type": "stream",
     "text": [
      "Variable        Type                          Data/Info\n",
      "-------------------------------------------------------\n",
      "FloatProgress   MetaHasTraits                 <class 'ipywidgets.widget<...>get_float.FloatProgress'>\n",
      "display         function                      <function display at 0x7fab4c16e5f0>\n",
      "f               FloatProgress                 <ipywidgets.widgets.widge<...>object at 0x7fab4403b750>\n",
      "i               int                           999\n",
      "sleep           builtin_function_or_method    <built-in function sleep>\n",
      "time            module                        <module 'time' from '/hom<...>2.7/lib-dynload/time.so'>\n",
      "tqdm            function                      <function tqdm at 0x7fab44039398>\n",
      "trange          function                      <function trange at 0x7fab44039668>\n"
     ]
    }
   ],
   "source": [
    "%whos"
   ]
  },
  {
   "cell_type": "code",
   "execution_count": null,
   "metadata": {
    "collapsed": true
   },
   "outputs": [],
   "source": []
  },
  {
   "cell_type": "markdown",
   "metadata": {},
   "source": [
    "# progress bar for iterations\n",
    "    "
   ]
  },
  {
   "cell_type": "markdown",
   "metadata": {},
   "source": [
    "### widges"
   ]
  },
  {
   "cell_type": "code",
   "execution_count": 7,
   "metadata": {
    "collapsed": false
   },
   "outputs": [],
   "source": [
    "from ipywidgets import FloatProgress\n",
    "from IPython.display import display\n",
    "from time import sleep\n",
    "f = FloatProgress(min=0, max=100)\n",
    "display(f)\n",
    "for i in xrange(100):\n",
    "   sleep(0.1)\n",
    "   f.value = i"
   ]
  },
  {
   "cell_type": "markdown",
   "metadata": {},
   "source": [
    "### tqdm BETTER!"
   ]
  },
  {
   "cell_type": "code",
   "execution_count": 5,
   "metadata": {
    "collapsed": false
   },
   "outputs": [],
   "source": [
    "import time\n",
    "from tqdm import *"
   ]
  },
  {
   "cell_type": "code",
   "execution_count": 9,
   "metadata": {
    "collapsed": false
   },
   "outputs": [
    {
     "name": "stdout",
     "output_type": "stream",
     "text": []
    }
   ],
   "source": [
    "for i in tqdm(range(1000)):\n",
    "    time.sleep(.01)\n"
   ]
  },
  {
   "cell_type": "markdown",
   "metadata": {},
   "source": [
    "# snippets"
   ]
  },
  {
   "cell_type": "markdown",
   "metadata": {},
   "source": [
    "animation, not inline though"
   ]
  },
  {
   "cell_type": "code",
   "execution_count": 5,
   "metadata": {
    "collapsed": false
   },
   "outputs": [
    {
     "data": {
      "image/png": "[encoded data removed]",
      "text/plain": [
       "<matplotlib.figure.Figure at 0x7f3881349dd0>"
      ]
     },
     "metadata": {},
     "output_type": "display_data"
    }
   ],
   "source": [
    "\n",
    "import numpy as np\n",
    "from matplotlib import pyplot as plt\n",
    "from matplotlib import animation\n",
    "\n",
    "# First set up the figure, the axis, and the plot element we want to animate\n",
    "fig = plt.figure()\n",
    "ax = plt.axes(xlim=(0, 2), ylim=(-2, 2))\n",
    "line, = ax.plot([], [], lw=2)\n",
    "\n",
    "# initialization function: plot the background of each frame\n",
    "def init():\n",
    "    line.set_data([], [])\n",
    "    return line,\n",
    "\n",
    "# animation function.  This is called sequentially\n",
    "def animate(i):\n",
    "    x = np.linspace(0, 2, 1000)\n",
    "    y = np.sin(2 * np.pi * (x - 0.01 * i))\n",
    "    line.set_data(x, y)\n",
    "    return line,\n",
    "\n",
    "# call the animator.  blit=True means only re-draw the parts that have changed.\n",
    "anim = animation.FuncAnimation(fig, animate, init_func=init,\n",
    "                               frames=100, interval=20, blit=True)\n",
    "\n",
    "# call our new function to display the animation\n",
    "plt.show()"
   ]
  },
  {
   "cell_type": "markdown",
   "metadata": {},
   "source": [
    "## matplotlib + widget\n",
    "- import\n",
    "- inline\n",
    "- seaborn\n",
    "- interactive widget"
   ]
  },
  {
   "cell_type": "code",
   "execution_count": null,
   "metadata": {
    "collapsed": false
   },
   "outputs": [],
   "source": [
    "%matplotlib inline\n",
    "\n",
    "from ipywidgets import interact, interactive, fixed\n",
    "\n",
    "\n",
    "import matplotlib\n",
    "import numpy as np\n",
    "import matplotlib.pyplot as plt\n",
    "\n",
    "#broke making plot dynamic in static page, \n",
    "# so might give problems with plotly or widgets\n",
    "import seaborn as sns\n",
    "sns.set(color_codes=False)\n",
    "\n",
    "\n",
    "def plotfunc(n):\n",
    "    x = np.linspace(0, 3*np.pi, n)\n",
    "    plt.plot(x, np.sin(x**2))\n",
    "    plt.title('A simple chirp')\n",
    "    plt.show()\n",
    "    \n",
    "interact(plotfunc, n=100);\n"
   ]
  },
  {
   "cell_type": "code",
   "execution_count": null,
   "metadata": {
    "collapsed": false
   },
   "outputs": [],
   "source": []
  },
  {
   "cell_type": "markdown",
   "metadata": {},
   "source": [
    "# Module import information"
   ]
  },
  {
   "cell_type": "code",
   "execution_count": null,
   "metadata": {
    "collapsed": true
   },
   "outputs": [],
   "source": []
  },
  {
   "cell_type": "code",
   "execution_count": null,
   "metadata": {
    "collapsed": false
   },
   "outputs": [],
   "source": [
    "import sys\n",
    "print '\\n'.join(sys.path)"
   ]
  },
  {
   "cell_type": "markdown",
   "metadata": {},
   "source": [
    "# Gurobi module"
   ]
  },
  {
   "cell_type": "code",
   "execution_count": null,
   "metadata": {
    "collapsed": false
   },
   "outputs": [],
   "source": [
    "import sys\n",
    "sys.path.append('/opt/gurobi650/linux64/lib/python2.7')\n",
    "sys.path.append('/opt/gurobi650/linux64/lib')\n",
    "print sys.path\n"
   ]
  },
  {
   "cell_type": "code",
   "execution_count": null,
   "metadata": {
    "collapsed": false
   },
   "outputs": [],
   "source": [
    "from gurobipy import *\n",
    "m = Model()\n",
    "v0 = m.addVar()\n",
    "v1 = m.addVar()\n",
    "m.update()\n",
    "m.addConstr(v0 - v1 <= 4)\n",
    "m.addConstr(v0 + v1 <= 4)\n",
    "m.addConstr(-0.25*v0 + v1 <= 1)\n",
    "m.setObjective(v1, GRB.MAXIMIZE)\n",
    "m.params.outputflag = 0\n",
    "m.optimize()"
   ]
  },
  {
   "cell_type": "code",
   "execution_count": null,
   "metadata": {
    "collapsed": false
   },
   "outputs": [],
   "source": [
    "%matplotlib inline\n",
    "import matplotlib.pyplot as pyplot\n",
    "pyplot.plot([0,4], [0,4])\n",
    "pyplot.plot([4,0], [0,4])\n",
    "pyplot.plot([0,4], [1,2])\n",
    "pyplot.plot([v0.x], [v1.x], 'ro')\n",
    "pyplot.show()"
   ]
  },
  {
   "cell_type": "markdown",
   "metadata": {},
   "source": [
    "# Numberjack combined with SCIP"
   ]
  },
  {
   "cell_type": "code",
   "execution_count": null,
   "metadata": {
    "collapsed": false
   },
   "outputs": [],
   "source": [
    "# import sys\n",
    "# sys.path.append('/usr/local/lib/python2.7/dist-packages')\n",
    "\n",
    "from Numberjack import *\n",
    "# import SCIP\n",
    "# import Mistral\n",
    "\n",
    "\n",
    "def model_warehouse_planning(data):\n",
    "    WareHouseOpen = VarArray(data.NumberOfWarehouses)\n",
    "    \n",
    "    ShopSupplied = Matrix(data.NumberOfWarehouses,\n",
    "                          data.NumberOfShops)\n",
    "    \n",
    "    # Cost of running warehouses\n",
    "    warehouseCost = Sum(WareHouseOpen, data.WareHouseCosts)\n",
    "    \n",
    "    # Cost of shops using warehouses\n",
    "    transpCost = Sum([ Sum(varRow, costRow) \n",
    "                       for (varRow, costRow) in zip(ShopSupplied, data.SupplyCost)])\n",
    "    \n",
    "    obj = warehouseCost + transpCost\n",
    "    \n",
    "    model = Model(\n",
    "        # Objective function\n",
    "        Minimise(obj), \n",
    "        # Channel from store opening to store supply matrix\n",
    "        [[var <= store for var in col] \n",
    "         for (col, store) in zip(ShopSupplied.col, WareHouseOpen)],\n",
    "        # Make sure every shop if supplied by one store\n",
    "        [Sum(row) == 1 for row in ShopSupplied.row],\n",
    "        # Make sure that each store does not exceed it's supply capacity\n",
    "        [Sum(col) <= cap \n",
    "         for (col, cap) in zip(ShopSupplied.col, data.Capacity)]\n",
    "    )\n",
    "    \n",
    "    return (obj, WareHouseOpen, ShopSupplied, model)\n",
    "\n",
    "def solve_warehouse_planning(data, param):\n",
    "    (obj, WareHouseOpen, ShopSupplied, model) = model_warehouse_planning(data)\n",
    "    solver = model.load(param['solver'])\n",
    "    solver.setVerbosity(1)\n",
    "    solver.solve()    \n",
    "    print obj.get_value()\n",
    "    print \"\",WareHouseOpen\n",
    "    print ShopSupplied\n",
    "    \n",
    "class WareHouseData:\n",
    "    def __init__(self):        \n",
    "        self.NumberOfWarehouses = 5\n",
    "        self.NumberOfShops = 10\n",
    "        self.FixedCost = 30\n",
    "        self.WareHouseCosts = [30, 30, 30, 30, 30]\n",
    "        self.Capacity = [1,4,2,1,3]\n",
    "        self.SupplyCost = supplyCost = [\n",
    "            [ 20, 24, 11, 25, 30 ],\n",
    "            [ 28, 27, 82, 83, 74 ],\n",
    "            [ 74, 97, 71, 96, 70 ],\n",
    "            [ 2, 55, 73, 69, 61 ],\n",
    "            [ 46, 96, 59, 83, 4 ],\n",
    "            [ 42, 22, 29, 67, 59 ],\n",
    "            [ 1, 5, 73, 59, 56 ],\n",
    "            [ 10, 73, 13, 43, 96 ],\n",
    "            [ 93, 35, 63, 85, 46 ],\n",
    "            [ 47, 65, 55, 71, 95 ]\n",
    "        ]\n",
    "        \n",
    "# solve_warehouse_planning(WareHouseData(), {'solver':'SCIP'})"
   ]
  },
  {
   "cell_type": "code",
   "execution_count": null,
   "metadata": {
    "collapsed": false,
    "scrolled": true
   },
   "outputs": [],
   "source": [
    "solve_warehouse_planning(WareHouseData(), {'solver':'Gurobi'})\n",
    "help(solver)"
   ]
  },
  {
   "cell_type": "code",
   "execution_count": null,
   "metadata": {
    "collapsed": false
   },
   "outputs": [],
   "source": [
    "get_value(Gurobi)"
   ]
  },
  {
   "cell_type": "markdown",
   "metadata": {},
   "source": [
    "# Help and info"
   ]
  },
  {
   "cell_type": "code",
   "execution_count": null,
   "metadata": {
    "collapsed": false
   },
   "outputs": [],
   "source": [
    "dir(Model.load)"
   ]
  },
  {
   "cell_type": "code",
   "execution_count": null,
   "metadata": {
    "collapsed": false
   },
   "outputs": [],
   "source": [
    "help(Model.load)"
   ]
  },
  {
   "cell_type": "code",
   "execution_count": null,
   "metadata": {
    "collapsed": false
   },
   "outputs": [],
   "source": [
    "\n",
    "from Numberjack import *\n",
    "# import gurobi\n",
    "# import Mistral\n",
    "\n",
    "def model_warehouse_planning(data):\n",
    "    WareHouseOpen = VarArray(data.NumberOfWarehouses)\n",
    "    \n",
    "    ShopSupplied = Matrix(data.NumberOfWarehouses,\n",
    "                          data.NumberOfShops)\n",
    "    \n",
    "    # Cost of running warehouses\n",
    "    warehouseCost = Sum(WareHouseOpen, data.WareHouseCosts)\n",
    "    \n",
    "    # Cost of shops using warehouses\n",
    "    transpCost = Sum([ Sum(varRow, costRow) \n",
    "                       for (varRow, costRow) in zip(ShopSupplied, data.SupplyCost)])\n",
    "    \n",
    "    obj = warehouseCost + transpCost\n",
    "    \n",
    "    model = Model(\n",
    "        # Objective function\n",
    "        Minimise(obj), \n",
    "        # Channel from store opening to store supply matrix\n",
    "        [[var <= store for var in col] \n",
    "         for (col, store) in zip(ShopSupplied.col, WareHouseOpen)],\n",
    "        # Make sure every shop if supplied by one store\n",
    "        [Sum(row) == 1 for row in ShopSupplied.row],\n",
    "        # Make sure that each store does not exceed it's supply capacity\n",
    "        [Sum(col) <= cap \n",
    "         for (col, cap) in zip(ShopSupplied.col, data.Capacity)]\n",
    "    )\n",
    "    \n",
    "    return (obj, WareHouseOpen, ShopSupplied, model)\n",
    "\n",
    "def solve_warehouse_planning(data, param):\n",
    "    (obj, WareHouseOpen, ShopSupplied, model) = model_warehouse_planning(data)\n",
    "    solver = model.load(param['solver'])\n",
    "    solver.setVerbosity(1)\n",
    "    solver.solve()    \n",
    "    print obj.get_value()\n",
    "    print \"\",WareHouseOpen\n",
    "    print ShopSupplied\n",
    "    \n",
    "class WareHouseData:\n",
    "    def __init__(self):        \n",
    "        self.NumberOfWarehouses = 5\n",
    "        self.NumberOfShops = 10\n",
    "        self.FixedCost = 30\n",
    "        self.WareHouseCosts = [30, 30, 30, 30, 30]\n",
    "        self.Capacity = [1,4,2,1,3]\n",
    "        self.SupplyCost = supplyCost = [\n",
    "            [ 20, 24, 11, 25, 30 ],\n",
    "            [ 28, 27, 82, 83, 74 ],\n",
    "            [ 74, 97, 71, 96, 70 ],\n",
    "            [ 2, 55, 73, 69, 61 ],\n",
    "            [ 46, 96, 59, 83, 4 ],\n",
    "            [ 42, 22, 29, 67, 59 ],\n",
    "            [ 1, 5, 73, 59, 56 ],\n",
    "            [ 10, 73, 13, 43, 96 ],\n",
    "            [ 93, 35, 63, 85, 46 ],\n",
    "            [ 47, 65, 55, 71, 95 ]\n",
    "        ]\n"
   ]
  },
  {
   "cell_type": "code",
   "execution_count": null,
   "metadata": {
    "collapsed": false
   },
   "outputs": [],
   "source": [
    "solve_warehouse_planning(WareHouseData(), {'solver':'Gurobi'})"
   ]
  },
  {
   "cell_type": "code",
   "execution_count": null,
   "metadata": {
    "collapsed": false
   },
   "outputs": [],
   "source": [
    "from Numberjack import *\n",
    "from ipywidgets import interact \n",
    "    # from Numberjack import *\n",
    "def func_test(m):\n",
    "    print 'start'\n",
    "    \n",
    "    n = 2**m\n",
    "\n",
    "    marks = [Variable(n) for i in range(m)]\n",
    "\n",
    "    model = Model(\n",
    "\n",
    "        Minimise( marks[-1]),\n",
    "        [marks[i-1] < marks[i] for i in range(1,m)],\n",
    "        AllDiff( [ (first - second) for first, second in pair_of(marks)]),\n",
    "        marks[0] == 0\n",
    "    )\n",
    "    # solver = model.load('Gurobi')\n",
    "    solver = model.load('Mistral2')\n",
    "    # solver = Gurobi.Solver( model, marks )\n",
    "    solver.solve()\n",
    "    print 'done'\n",
    "    for i in range(m):\n",
    "        print marks[i]\n",
    "        \n",
    "%time func_test(9)        \n",
    "# interact(func_test, m=5)"
   ]
  },
  {
   "cell_type": "code",
   "execution_count": null,
   "metadata": {
    "collapsed": false
   },
   "outputs": [],
   "source": [
    "for i in range(m):\n",
    "    print marks[i]\n",
    "# [print marks[i] for i in range(m)]\n",
    "# solver.get_solution()"
   ]
  },
  {
   "cell_type": "code",
   "execution_count": null,
   "metadata": {
    "collapsed": false
   },
   "outputs": [],
   "source": [
    "help(Gurobisolver)"
   ]
  },
  {
   "cell_type": "code",
   "execution_count": null,
   "metadata": {
    "collapsed": false
   },
   "outputs": [],
   "source": [
    "solver.printStatistics()"
   ]
  },
  {
   "cell_type": "code",
   "execution_count": null,
   "metadata": {
    "collapsed": true
   },
   "outputs": [],
   "source": [
    "import matplotlib as plt\n",
    "help(plt)"
   ]
  },
  {
   "cell_type": "code",
   "execution_count": null,
   "metadata": {
    "collapsed": false
   },
   "outputs": [],
   "source": [
    "dir(gurobi)"
   ]
  },
  {
   "cell_type": "code",
   "execution_count": null,
   "metadata": {
    "collapsed": true
   },
   "outputs": [],
   "source": []
  },
  {
   "cell_type": "markdown",
   "metadata": {
    "collapsed": true
   },
   "source": [
    "### line profiler"
   ]
  },
  {
   "cell_type": "code",
   "execution_count": 1,
   "metadata": {
    "collapsed": true
   },
   "outputs": [],
   "source": [
    "%load_ext line_profiler\n",
    "%lprun?"
   ]
  },
  {
   "cell_type": "code",
   "execution_count": 4,
   "metadata": {
    "collapsed": false
   },
   "outputs": [
    {
     "name": "stdout",
     "output_type": "stream",
     "text": [
      "Overwriting slow_functions.py\n"
     ]
    }
   ],
   "source": [
    "%%writefile slow_functions.py\n",
    "def main():\n",
    "    n = 30000\n",
    "    a = range(n)\n",
    "\n",
    "    for i in a:\n",
    "        if i > 1:\n",
    "            a[i-1] = i+1\n",
    "            \n",
    "if __name__ == \"__main__\":\n",
    "    main()"
   ]
  },
  {
   "cell_type": "code",
   "execution_count": 10,
   "metadata": {
    "collapsed": false
   },
   "outputs": [],
   "source": [
    "import slow_functions\n",
    "%lprun -f slow_functions.main slow_functions.main()\n",
    "# %lprun -f slow_functions.main slow_functions.main()"
   ]
  },
  {
   "cell_type": "code",
   "execution_count": null,
   "metadata": {
    "collapsed": false
   },
   "outputs": [],
   "source": []
  },
  {
   "cell_type": "code",
   "execution_count": null,
   "metadata": {
    "collapsed": true
   },
   "outputs": [],
   "source": []
  },
  {
   "cell_type": "code",
   "execution_count": null,
   "metadata": {
    "collapsed": true
   },
   "outputs": [],
   "source": []
  }
 ],
 "metadata": {
  "kernelspec": {
   "display_name": "Python 2",
   "language": "python",
   "name": "python2"
  },
  "language_info": {
   "codemirror_mode": {
    "name": "ipython",
    "version": 2
   },
   "file_extension": ".py",
   "mimetype": "text/x-python",
   "name": "python",
   "nbconvert_exporter": "python",
   "pygments_lexer": "ipython2",
   "version": "2.7.11"
  }
 },
 "nbformat": 4,
 "nbformat_minor": 0
}
